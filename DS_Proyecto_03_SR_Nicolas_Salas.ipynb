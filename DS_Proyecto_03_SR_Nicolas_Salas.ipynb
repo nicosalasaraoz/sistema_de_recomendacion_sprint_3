{
  "nbformat": 4,
  "nbformat_minor": 0,
  "metadata": {
    "colab": {
      "name": "DS_Proyecto_03_SR_Nicolas_Salas (1).ipynb",
      "provenance": [],
      "collapsed_sections": [],
      "toc_visible": true
    },
    "kernelspec": {
      "display_name": "Python 3",
      "language": "python",
      "name": "python3"
    },
    "language_info": {
      "codemirror_mode": {
        "name": "ipython",
        "version": 3
      },
      "file_extension": ".py",
      "mimetype": "text/x-python",
      "name": "python",
      "nbconvert_exporter": "python",
      "pygments_lexer": "ipython3",
      "version": "3.9.2"
    },
    "accelerator": "GPU"
  },
  "cells": [
    {
      "cell_type": "markdown",
      "metadata": {
        "id": "gzJLet17WTzh"
      },
      "source": [
        "# Proyecto 03 - Sistemas de Recomendación"
      ]
    },
    {
      "cell_type": "markdown",
      "metadata": {
        "id": "ptlEdXeCu4t2"
      },
      "source": [
        "Implementación de un Sistema de Recomendación para videojuegos de la plataforma Steam.\n",
        "El dataset de STEAM se puede descargar desde aquí. Son dos archivos, uno de calificaciones y otro de información sobre los juegos.\n",
        "\n",
        "Este proyecto se puede encontrar en mi git https://github.com/nicosalasaraoz\n",
        "\n"
      ]
    },
    {
      "cell_type": "markdown",
      "metadata": {
        "id": "0YZWE_mJHX2V"
      },
      "source": [
        "## Filtro Colaborativo para un sistema de recomendación de juegos\n",
        "En este proyecto veremos cómo se pueden aprovechar los sistemas de recomendación para sugerir juegos. Para hacer esto, usaremos un gran conjunto de datos de revisiones de Steam."
      ]
    },
    {
      "cell_type": "markdown",
      "metadata": {
        "id": "sVEyDe8rJkW3"
      },
      "source": [
        "- Tipos de datos: elige tipos de datos apropiados para cada columna.\n",
        "\n",
        "- Descartar columnas poco informativas.\n",
        "\n",
        "- Guardar en memoria datasets preprocesados para no tener que repetir código que tarde en correr.\n",
        "\n",
        "Exploración de datos:\n",
        "- Dedícale un buen tiempo a hacer un Análisis Exploratorio de Datos. Elige preguntas que creas que puedas responder con este dataset. Por ejemplo, ¿cuáles son los juegos más populares?¿Y los menos populares?\n",
        "\n",
        "\n",
        "Filtro Colaborativo\n",
        "Deberás implementar un sistema de recomendación colaborativo para este dataset. Ten en cuenta:\n",
        "\n",
        "- Haz todas las transformaciones de datos que consideres necesarias. Justifica.\n",
        "- Evalúa de forma apropiada sus resultados. Justifica la métrica elegida.\n",
        "- Elige un modelo benchmark y compara tus resultados con este modelo.\n",
        "- Optimiza los hiperparámetros de tu modelo.\n",
        "- Puedes implementar un filtro colaborativo a partir de la similitud coseno o índice de Jaccard. ¿Puedes utilizar los métodos de la librería Surprise? Si no es así, busca implementaciones (por ejemplo, nuevas librerías) que sean apropiadas.\n",
        "\n",
        "Para comenzar a trabajar, puedes asumir que cada entrada es un enlace entre una persona usuaria y un item, independientemente de si la crítica es buena o mala.\n",
        "\n",
        "Para pensar, investigar y, opcionalmente, implementar\n",
        "¿Cómo harías para ponerle un valor a la calificación?\n",
        "¿Cómo harías para agregar contenido? Por ejemplo, cuentas con el género, precio, fecha de lanzamiento y más información de los juegos.\n",
        "¿Hay algo que te gustaría investigar o probar?"
      ]
    },
    {
      "cell_type": "markdown",
      "metadata": {
        "id": "7op-DRJYydZe"
      },
      "source": [
        "# Parte A - Exploración de Datos."
      ]
    },
    {
      "cell_type": "markdown",
      "metadata": {
        "id": "lpdEI8VIF_8d"
      },
      "source": [
        "## Importamos librerias:"
      ]
    },
    {
      "cell_type": "code",
      "metadata": {
        "id": "YNzVDuMRss0J"
      },
      "source": [
        "import numpy as np\n",
        "import pandas as pd\n",
        "import seaborn as sns\n",
        "import matplotlib.pyplot as plt\n",
        "import warnings\n",
        "warnings.filterwarnings('ignore')\n",
        "import time"
      ],
      "execution_count": null,
      "outputs": []
    },
    {
      "cell_type": "code",
      "metadata": {
        "id": "5Y93HcrDlPZX",
        "colab": {
          "base_uri": "https://localhost:8080/"
        },
        "outputId": "5e653a8b-7c16-4610-ad9f-a556be519765"
      },
      "source": [
        "from google.colab import drive\n",
        "drive.mount('/content/drive')"
      ],
      "execution_count": null,
      "outputs": [
        {
          "output_type": "stream",
          "name": "stdout",
          "text": [
            "Drive already mounted at /content/drive; to attempt to forcibly remount, call drive.mount(\"/content/drive\", force_remount=True).\n"
          ]
        }
      ]
    },
    {
      "cell_type": "markdown",
      "metadata": {
        "id": "BmEM25k4WTzw"
      },
      "source": [
        "## Importando el dataset con las Reviews de los juegos"
      ]
    },
    {
      "cell_type": "code",
      "metadata": {
        "id": "lWZhtUxEWTzj"
      },
      "source": [
        "# Funcion para descomprimir archivos\n",
        "#import gzip\n",
        "#import pandas as pd\n",
        "\n",
        "#def parse(path):\n",
        "#    g = gzip.open(path, 'r')\n",
        "#    for l in g:\n",
        "#        yield eval(l)\n",
        "\n",
        "#contador = 0\n",
        "#data_reviews = []\n",
        "# Vamos a guardar una de cada 10 reviews para no llenar la memoria RAM. Si pones n = 3, \n",
        "# abrira uno de cada tres, y asi.\n",
        "#n = 10\n",
        "#for l in parse('steam_reviews.json.gz'):\n",
        "#    if contador%n == 0:\n",
        "#        data_reviews.append(l)\n",
        "#    else:\n",
        "#        pass\n",
        "#    contador += 1\n",
        "\n",
        "#data_reviews = pd.DataFrame(data_reviews)\n",
        "\n",
        "#if True:\n",
        "#    data_reviews.to_csv('data_reviews.csv', index= False)"
      ],
      "execution_count": null,
      "outputs": []
    },
    {
      "cell_type": "markdown",
      "metadata": {
        "id": "vsoqNhLemUBc"
      },
      "source": [
        "Descripcion de las features de steam_reviews:\n",
        "\n",
        "* username: nombre de usuario;\n",
        "* hours: número de horas que el usuario jugó al juego;\n",
        "* products: juego;\n",
        "* product_id: id del juego;\n",
        "* page_order: orden de la pagina que aparece el juego;\n",
        "* date: fecha de la reseña;\n",
        "* text: contenido de la reseña;\n",
        "* early_access: acceso temprano;\n",
        "* page: la página en la que aparece la reseña;\n",
        "* user_id: identificador único de usuario;\n",
        "* compensation: productos recibidos gratuitamente;\n",
        "* found_funny: número de usuarios que encontraron divertida la reseña.\n"
      ]
    },
    {
      "cell_type": "code",
      "metadata": {
        "id": "BjzKvhdiGSpL"
      },
      "source": [
        "# Importamos el dataset de data reviews\n",
        "data_reviews = pd.read_csv('/content/drive/MyDrive/data science/sprint project 3/data_reviews.csv')"
      ],
      "execution_count": null,
      "outputs": []
    },
    {
      "cell_type": "code",
      "metadata": {
        "id": "j24F0ZaYWT0E",
        "scrolled": false,
        "colab": {
          "base_uri": "https://localhost:8080/",
          "height": 112
        },
        "outputId": "806bbb27-98cb-4567-f8a7-8686152ee619"
      },
      "source": [
        "# Visualizamos el head\n",
        "data_reviews.head(2)"
      ],
      "execution_count": null,
      "outputs": [
        {
          "output_type": "execute_result",
          "data": {
            "text/html": [
              "<div>\n",
              "<style scoped>\n",
              "    .dataframe tbody tr th:only-of-type {\n",
              "        vertical-align: middle;\n",
              "    }\n",
              "\n",
              "    .dataframe tbody tr th {\n",
              "        vertical-align: top;\n",
              "    }\n",
              "\n",
              "    .dataframe thead th {\n",
              "        text-align: right;\n",
              "    }\n",
              "</style>\n",
              "<table border=\"1\" class=\"dataframe\">\n",
              "  <thead>\n",
              "    <tr style=\"text-align: right;\">\n",
              "      <th></th>\n",
              "      <th>username</th>\n",
              "      <th>hours</th>\n",
              "      <th>products</th>\n",
              "      <th>product_id</th>\n",
              "      <th>page_order</th>\n",
              "      <th>date</th>\n",
              "      <th>text</th>\n",
              "      <th>early_access</th>\n",
              "      <th>page</th>\n",
              "      <th>user_id</th>\n",
              "      <th>compensation</th>\n",
              "      <th>found_funny</th>\n",
              "    </tr>\n",
              "  </thead>\n",
              "  <tbody>\n",
              "    <tr>\n",
              "      <th>0</th>\n",
              "      <td>Chaos Syren</td>\n",
              "      <td>0.1</td>\n",
              "      <td>41.0</td>\n",
              "      <td>725280</td>\n",
              "      <td>0</td>\n",
              "      <td>2017-12-17</td>\n",
              "      <td>This would not be acceptable as an entertainme...</td>\n",
              "      <td>False</td>\n",
              "      <td>1</td>\n",
              "      <td>NaN</td>\n",
              "      <td>NaN</td>\n",
              "      <td>NaN</td>\n",
              "    </tr>\n",
              "    <tr>\n",
              "      <th>1</th>\n",
              "      <td>Ariman1</td>\n",
              "      <td>13.2</td>\n",
              "      <td>1386.0</td>\n",
              "      <td>328100</td>\n",
              "      <td>2</td>\n",
              "      <td>2017-08-02</td>\n",
              "      <td>Addictive RPG ! Works fine on linux though it ...</td>\n",
              "      <td>False</td>\n",
              "      <td>1</td>\n",
              "      <td>NaN</td>\n",
              "      <td>NaN</td>\n",
              "      <td>NaN</td>\n",
              "    </tr>\n",
              "  </tbody>\n",
              "</table>\n",
              "</div>"
            ],
            "text/plain": [
              "      username  hours  products  ...  user_id  compensation found_funny\n",
              "0  Chaos Syren    0.1      41.0  ...      NaN           NaN         NaN\n",
              "1      Ariman1   13.2    1386.0  ...      NaN           NaN         NaN\n",
              "\n",
              "[2 rows x 12 columns]"
            ]
          },
          "metadata": {},
          "execution_count": 9
        }
      ]
    },
    {
      "cell_type": "code",
      "metadata": {
        "id": "9lVOBQP_qu9v",
        "colab": {
          "base_uri": "https://localhost:8080/",
          "height": 112
        },
        "outputId": "d69ed6b3-eefc-41ec-f8cd-92005e5f48c5"
      },
      "source": [
        "# Tail del dataset\n",
        "data_reviews.tail(2)"
      ],
      "execution_count": null,
      "outputs": [
        {
          "output_type": "execute_result",
          "data": {
            "text/html": [
              "<div>\n",
              "<style scoped>\n",
              "    .dataframe tbody tr th:only-of-type {\n",
              "        vertical-align: middle;\n",
              "    }\n",
              "\n",
              "    .dataframe tbody tr th {\n",
              "        vertical-align: top;\n",
              "    }\n",
              "\n",
              "    .dataframe thead th {\n",
              "        text-align: right;\n",
              "    }\n",
              "</style>\n",
              "<table border=\"1\" class=\"dataframe\">\n",
              "  <thead>\n",
              "    <tr style=\"text-align: right;\">\n",
              "      <th></th>\n",
              "      <th>username</th>\n",
              "      <th>hours</th>\n",
              "      <th>products</th>\n",
              "      <th>product_id</th>\n",
              "      <th>page_order</th>\n",
              "      <th>date</th>\n",
              "      <th>text</th>\n",
              "      <th>early_access</th>\n",
              "      <th>page</th>\n",
              "      <th>user_id</th>\n",
              "      <th>compensation</th>\n",
              "      <th>found_funny</th>\n",
              "    </tr>\n",
              "  </thead>\n",
              "  <tbody>\n",
              "    <tr>\n",
              "      <th>779305</th>\n",
              "      <td>Jerry</td>\n",
              "      <td>139.8</td>\n",
              "      <td>79.0</td>\n",
              "      <td>252490</td>\n",
              "      <td>1</td>\n",
              "      <td>2013-12-11</td>\n",
              "      <td>Great game!</td>\n",
              "      <td>True</td>\n",
              "      <td>10220</td>\n",
              "      <td>7.656120e+16</td>\n",
              "      <td>NaN</td>\n",
              "      <td>NaN</td>\n",
              "    </tr>\n",
              "    <tr>\n",
              "      <th>779306</th>\n",
              "      <td>Helk</td>\n",
              "      <td>15375.0</td>\n",
              "      <td>98.0</td>\n",
              "      <td>252490</td>\n",
              "      <td>1</td>\n",
              "      <td>2013-12-11</td>\n",
              "      <td>I love this game!</td>\n",
              "      <td>True</td>\n",
              "      <td>10221</td>\n",
              "      <td>NaN</td>\n",
              "      <td>NaN</td>\n",
              "      <td>36.0</td>\n",
              "    </tr>\n",
              "  </tbody>\n",
              "</table>\n",
              "</div>"
            ],
            "text/plain": [
              "       username    hours  products  ...       user_id  compensation found_funny\n",
              "779305    Jerry    139.8      79.0  ...  7.656120e+16           NaN         NaN\n",
              "779306     Helk  15375.0      98.0  ...           NaN           NaN        36.0\n",
              "\n",
              "[2 rows x 12 columns]"
            ]
          },
          "metadata": {},
          "execution_count": 10
        }
      ]
    },
    {
      "cell_type": "code",
      "metadata": {
        "id": "EM_EgYjRdXtd",
        "colab": {
          "base_uri": "https://localhost:8080/"
        },
        "outputId": "27242734-8f1a-4bf2-990a-cdd19f86ac75"
      },
      "source": [
        "# Cantidad de filas y columnas\n",
        "data_reviews.shape"
      ],
      "execution_count": null,
      "outputs": [
        {
          "output_type": "execute_result",
          "data": {
            "text/plain": [
              "(779307, 12)"
            ]
          },
          "metadata": {},
          "execution_count": 11
        }
      ]
    },
    {
      "cell_type": "code",
      "metadata": {
        "id": "afOsrRanIX97",
        "colab": {
          "base_uri": "https://localhost:8080/"
        },
        "outputId": "eb5d9283-5eb6-4d59-8f40-5801656c86e1"
      },
      "source": [
        "# Informacion del dataset\n",
        "data_reviews.info()"
      ],
      "execution_count": null,
      "outputs": [
        {
          "output_type": "stream",
          "name": "stdout",
          "text": [
            "<class 'pandas.core.frame.DataFrame'>\n",
            "RangeIndex: 779307 entries, 0 to 779306\n",
            "Data columns (total 12 columns):\n",
            " #   Column        Non-Null Count   Dtype  \n",
            "---  ------        --------------   -----  \n",
            " 0   username      779289 non-null  object \n",
            " 1   hours         776670 non-null  float64\n",
            " 2   products      777741 non-null  float64\n",
            " 3   product_id    779307 non-null  int64  \n",
            " 4   page_order    779307 non-null  int64  \n",
            " 5   date          779307 non-null  object \n",
            " 6   text          777468 non-null  object \n",
            " 7   early_access  779307 non-null  bool   \n",
            " 8   page          779307 non-null  int64  \n",
            " 9   user_id       317340 non-null  float64\n",
            " 10  compensation  14588 non-null   object \n",
            " 11  found_funny   120164 non-null  float64\n",
            "dtypes: bool(1), float64(4), int64(3), object(4)\n",
            "memory usage: 66.1+ MB\n"
          ]
        }
      ]
    },
    {
      "cell_type": "code",
      "metadata": {
        "id": "1H0B-DZPISNa",
        "colab": {
          "base_uri": "https://localhost:8080/"
        },
        "outputId": "6971b93f-a8d1-49e9-d7ab-8ed2521780e0"
      },
      "source": [
        "data_reviews.columns"
      ],
      "execution_count": null,
      "outputs": [
        {
          "output_type": "execute_result",
          "data": {
            "text/plain": [
              "Index(['username', 'hours', 'products', 'product_id', 'page_order', 'date',\n",
              "       'text', 'early_access', 'page', 'user_id', 'compensation',\n",
              "       'found_funny'],\n",
              "      dtype='object')"
            ]
          },
          "metadata": {},
          "execution_count": 13
        }
      ]
    },
    {
      "cell_type": "code",
      "metadata": {
        "id": "7I-yXkF8Oeuh",
        "colab": {
          "base_uri": "https://localhost:8080/"
        },
        "outputId": "e28bcd9b-3acb-41e5-ad35-92165d6ea03c"
      },
      "source": [
        "# Visualizamos la cantidad de reviews por usuario\n",
        "data_reviews.username.value_counts()"
      ],
      "execution_count": null,
      "outputs": [
        {
          "output_type": "execute_result",
          "data": {
            "text/plain": [
              "123              213\n",
              "Alex             190\n",
              "Chris            155\n",
              "Nick             143\n",
              "Matt             137\n",
              "                ... \n",
              "Hotcake Jack       1\n",
              "FlygN              1\n",
              "6footgeek          1\n",
              "Barfight Hero      1\n",
              "Catwalk Lady       1\n",
              "Name: username, Length: 540338, dtype: int64"
            ]
          },
          "metadata": {},
          "execution_count": 14
        }
      ]
    },
    {
      "cell_type": "code",
      "metadata": {
        "id": "GxoiGxF8-XQx",
        "colab": {
          "base_uri": "https://localhost:8080/"
        },
        "outputId": "21b39580-a6f3-4781-8a51-83d0d4aed67b"
      },
      "source": [
        "# Conteo de la cantidad de observaciones por cada feature.\n",
        "data_reviews.nunique()"
      ],
      "execution_count": null,
      "outputs": [
        {
          "output_type": "execute_result",
          "data": {
            "text/plain": [
              "username        540338\n",
              "hours            21762\n",
              "products          3926\n",
              "product_id       12665\n",
              "page_order          10\n",
              "date              2617\n",
              "text            718776\n",
              "early_access         2\n",
              "page             18368\n",
              "user_id         259975\n",
              "compensation         1\n",
              "found_funny        634\n",
              "dtype: int64"
            ]
          },
          "metadata": {},
          "execution_count": 15
        }
      ]
    },
    {
      "cell_type": "code",
      "metadata": {
        "id": "tESt9-wQUOA1",
        "colab": {
          "base_uri": "https://localhost:8080/"
        },
        "outputId": "ba2ac05b-13e3-4509-a266-12df61acca74"
      },
      "source": [
        "# Usuarios unicos\n",
        "len(data_reviews.user_id)"
      ],
      "execution_count": null,
      "outputs": [
        {
          "output_type": "execute_result",
          "data": {
            "text/plain": [
              "779307"
            ]
          },
          "metadata": {},
          "execution_count": 16
        }
      ]
    },
    {
      "cell_type": "code",
      "metadata": {
        "id": "8F-EVRZ4WT0L",
        "colab": {
          "base_uri": "https://localhost:8080/"
        },
        "outputId": "b6c14e8d-0da9-4e80-a595-d6645b4128d7"
      },
      "source": [
        "# Suma de los valores NAN del dataset.\n",
        "data_reviews.isna().sum()"
      ],
      "execution_count": null,
      "outputs": [
        {
          "output_type": "execute_result",
          "data": {
            "text/plain": [
              "username            18\n",
              "hours             2637\n",
              "products          1566\n",
              "product_id           0\n",
              "page_order           0\n",
              "date                 0\n",
              "text              1839\n",
              "early_access         0\n",
              "page                 0\n",
              "user_id         461967\n",
              "compensation    764719\n",
              "found_funny     659143\n",
              "dtype: int64"
            ]
          },
          "metadata": {},
          "execution_count": 17
        }
      ]
    },
    {
      "cell_type": "code",
      "metadata": {
        "id": "GuhrEhVnbcbK",
        "colab": {
          "base_uri": "https://localhost:8080/",
          "height": 300
        },
        "outputId": "a96fca3e-d5f2-4263-ce2e-7701ad3e3281"
      },
      "source": [
        "# Descripcion estadistica del dataset\n",
        "data_reviews.describe()"
      ],
      "execution_count": null,
      "outputs": [
        {
          "output_type": "execute_result",
          "data": {
            "text/html": [
              "<div>\n",
              "<style scoped>\n",
              "    .dataframe tbody tr th:only-of-type {\n",
              "        vertical-align: middle;\n",
              "    }\n",
              "\n",
              "    .dataframe tbody tr th {\n",
              "        vertical-align: top;\n",
              "    }\n",
              "\n",
              "    .dataframe thead th {\n",
              "        text-align: right;\n",
              "    }\n",
              "</style>\n",
              "<table border=\"1\" class=\"dataframe\">\n",
              "  <thead>\n",
              "    <tr style=\"text-align: right;\">\n",
              "      <th></th>\n",
              "      <th>hours</th>\n",
              "      <th>products</th>\n",
              "      <th>product_id</th>\n",
              "      <th>page_order</th>\n",
              "      <th>page</th>\n",
              "      <th>user_id</th>\n",
              "      <th>found_funny</th>\n",
              "    </tr>\n",
              "  </thead>\n",
              "  <tbody>\n",
              "    <tr>\n",
              "      <th>count</th>\n",
              "      <td>776670.000000</td>\n",
              "      <td>777741.000000</td>\n",
              "      <td>779307.000000</td>\n",
              "      <td>779307.000000</td>\n",
              "      <td>779307.000000</td>\n",
              "      <td>3.173400e+05</td>\n",
              "      <td>120164.000000</td>\n",
              "    </tr>\n",
              "    <tr>\n",
              "      <th>mean</th>\n",
              "      <td>111.843832</td>\n",
              "      <td>236.993936</td>\n",
              "      <td>251489.822053</td>\n",
              "      <td>4.417743</td>\n",
              "      <td>893.581355</td>\n",
              "      <td>7.656120e+16</td>\n",
              "      <td>7.713125</td>\n",
              "    </tr>\n",
              "    <tr>\n",
              "      <th>std</th>\n",
              "      <td>390.145376</td>\n",
              "      <td>486.034479</td>\n",
              "      <td>149975.370469</td>\n",
              "      <td>2.897848</td>\n",
              "      <td>1928.272966</td>\n",
              "      <td>1.007694e+08</td>\n",
              "      <td>72.465816</td>\n",
              "    </tr>\n",
              "    <tr>\n",
              "      <th>min</th>\n",
              "      <td>0.000000</td>\n",
              "      <td>1.000000</td>\n",
              "      <td>10.000000</td>\n",
              "      <td>0.000000</td>\n",
              "      <td>1.000000</td>\n",
              "      <td>7.656120e+16</td>\n",
              "      <td>1.000000</td>\n",
              "    </tr>\n",
              "    <tr>\n",
              "      <th>25%</th>\n",
              "      <td>4.000000</td>\n",
              "      <td>45.000000</td>\n",
              "      <td>203770.000000</td>\n",
              "      <td>2.000000</td>\n",
              "      <td>53.000000</td>\n",
              "      <td>7.656120e+16</td>\n",
              "      <td>1.000000</td>\n",
              "    </tr>\n",
              "    <tr>\n",
              "      <th>50%</th>\n",
              "      <td>15.300000</td>\n",
              "      <td>110.000000</td>\n",
              "      <td>252490.000000</td>\n",
              "      <td>4.000000</td>\n",
              "      <td>238.000000</td>\n",
              "      <td>7.656120e+16</td>\n",
              "      <td>1.000000</td>\n",
              "    </tr>\n",
              "    <tr>\n",
              "      <th>75%</th>\n",
              "      <td>59.600000</td>\n",
              "      <td>246.000000</td>\n",
              "      <td>346110.000000</td>\n",
              "      <td>7.000000</td>\n",
              "      <td>829.000000</td>\n",
              "      <td>7.656120e+16</td>\n",
              "      <td>3.000000</td>\n",
              "    </tr>\n",
              "    <tr>\n",
              "      <th>max</th>\n",
              "      <td>28164.000000</td>\n",
              "      <td>13540.000000</td>\n",
              "      <td>773900.000000</td>\n",
              "      <td>9.000000</td>\n",
              "      <td>18371.000000</td>\n",
              "      <td>7.656120e+16</td>\n",
              "      <td>6524.000000</td>\n",
              "    </tr>\n",
              "  </tbody>\n",
              "</table>\n",
              "</div>"
            ],
            "text/plain": [
              "               hours       products  ...       user_id    found_funny\n",
              "count  776670.000000  777741.000000  ...  3.173400e+05  120164.000000\n",
              "mean      111.843832     236.993936  ...  7.656120e+16       7.713125\n",
              "std       390.145376     486.034479  ...  1.007694e+08      72.465816\n",
              "min         0.000000       1.000000  ...  7.656120e+16       1.000000\n",
              "25%         4.000000      45.000000  ...  7.656120e+16       1.000000\n",
              "50%        15.300000     110.000000  ...  7.656120e+16       1.000000\n",
              "75%        59.600000     246.000000  ...  7.656120e+16       3.000000\n",
              "max     28164.000000   13540.000000  ...  7.656120e+16    6524.000000\n",
              "\n",
              "[8 rows x 7 columns]"
            ]
          },
          "metadata": {},
          "execution_count": 18
        }
      ]
    },
    {
      "cell_type": "code",
      "metadata": {
        "id": "r6Lf_nJyGfAv"
      },
      "source": [
        "# Eliminamos las columnas de los datasets que no aportan informacion\n",
        "data_reviews = data_reviews.drop(columns=['products', 'page_order','text', 'early_access', 'page', 'compensation','found_funny','user_id'])"
      ],
      "execution_count": null,
      "outputs": []
    },
    {
      "cell_type": "code",
      "metadata": {
        "id": "oI-4ZS9RdZij",
        "colab": {
          "base_uri": "https://localhost:8080/",
          "height": 424
        },
        "outputId": "99ef15a9-e70d-43ae-bb82-5ec35ebe875b"
      },
      "source": [
        "data_reviews"
      ],
      "execution_count": null,
      "outputs": [
        {
          "output_type": "execute_result",
          "data": {
            "text/html": [
              "<div>\n",
              "<style scoped>\n",
              "    .dataframe tbody tr th:only-of-type {\n",
              "        vertical-align: middle;\n",
              "    }\n",
              "\n",
              "    .dataframe tbody tr th {\n",
              "        vertical-align: top;\n",
              "    }\n",
              "\n",
              "    .dataframe thead th {\n",
              "        text-align: right;\n",
              "    }\n",
              "</style>\n",
              "<table border=\"1\" class=\"dataframe\">\n",
              "  <thead>\n",
              "    <tr style=\"text-align: right;\">\n",
              "      <th></th>\n",
              "      <th>username</th>\n",
              "      <th>hours</th>\n",
              "      <th>product_id</th>\n",
              "      <th>date</th>\n",
              "    </tr>\n",
              "  </thead>\n",
              "  <tbody>\n",
              "    <tr>\n",
              "      <th>0</th>\n",
              "      <td>Chaos Syren</td>\n",
              "      <td>0.1</td>\n",
              "      <td>725280</td>\n",
              "      <td>2017-12-17</td>\n",
              "    </tr>\n",
              "    <tr>\n",
              "      <th>1</th>\n",
              "      <td>Ariman1</td>\n",
              "      <td>13.2</td>\n",
              "      <td>328100</td>\n",
              "      <td>2017-08-02</td>\n",
              "    </tr>\n",
              "    <tr>\n",
              "      <th>2</th>\n",
              "      <td>freakfantom</td>\n",
              "      <td>0.1</td>\n",
              "      <td>725280</td>\n",
              "      <td>2017-11-12</td>\n",
              "    </tr>\n",
              "    <tr>\n",
              "      <th>3</th>\n",
              "      <td>The_Cpt_FROGGY</td>\n",
              "      <td>7.8</td>\n",
              "      <td>631920</td>\n",
              "      <td>2017-12-11</td>\n",
              "    </tr>\n",
              "    <tr>\n",
              "      <th>4</th>\n",
              "      <td>the_maker988</td>\n",
              "      <td>8.2</td>\n",
              "      <td>35140</td>\n",
              "      <td>2018-01-02</td>\n",
              "    </tr>\n",
              "    <tr>\n",
              "      <th>...</th>\n",
              "      <td>...</td>\n",
              "      <td>...</td>\n",
              "      <td>...</td>\n",
              "      <td>...</td>\n",
              "    </tr>\n",
              "    <tr>\n",
              "      <th>779302</th>\n",
              "      <td>Vidaar</td>\n",
              "      <td>783.5</td>\n",
              "      <td>252490</td>\n",
              "      <td>2013-12-11</td>\n",
              "    </tr>\n",
              "    <tr>\n",
              "      <th>779303</th>\n",
              "      <td>Nikolai Belinski</td>\n",
              "      <td>55.1</td>\n",
              "      <td>252490</td>\n",
              "      <td>2013-12-11</td>\n",
              "    </tr>\n",
              "    <tr>\n",
              "      <th>779304</th>\n",
              "      <td>RancorZealot</td>\n",
              "      <td>203.5</td>\n",
              "      <td>252490</td>\n",
              "      <td>2013-12-11</td>\n",
              "    </tr>\n",
              "    <tr>\n",
              "      <th>779305</th>\n",
              "      <td>Jerry</td>\n",
              "      <td>139.8</td>\n",
              "      <td>252490</td>\n",
              "      <td>2013-12-11</td>\n",
              "    </tr>\n",
              "    <tr>\n",
              "      <th>779306</th>\n",
              "      <td>Helk</td>\n",
              "      <td>15375.0</td>\n",
              "      <td>252490</td>\n",
              "      <td>2013-12-11</td>\n",
              "    </tr>\n",
              "  </tbody>\n",
              "</table>\n",
              "<p>779307 rows × 4 columns</p>\n",
              "</div>"
            ],
            "text/plain": [
              "                username    hours  product_id        date\n",
              "0            Chaos Syren      0.1      725280  2017-12-17\n",
              "1                Ariman1     13.2      328100  2017-08-02\n",
              "2            freakfantom      0.1      725280  2017-11-12\n",
              "3         The_Cpt_FROGGY      7.8      631920  2017-12-11\n",
              "4           the_maker988      8.2       35140  2018-01-02\n",
              "...                  ...      ...         ...         ...\n",
              "779302            Vidaar    783.5      252490  2013-12-11\n",
              "779303  Nikolai Belinski     55.1      252490  2013-12-11\n",
              "779304      RancorZealot    203.5      252490  2013-12-11\n",
              "779305             Jerry    139.8      252490  2013-12-11\n",
              "779306              Helk  15375.0      252490  2013-12-11\n",
              "\n",
              "[779307 rows x 4 columns]"
            ]
          },
          "metadata": {},
          "execution_count": 20
        }
      ]
    },
    {
      "cell_type": "markdown",
      "metadata": {
        "id": "04ed3teRWT0T"
      },
      "source": [
        "## Importando el dataset con los datos de cada juego"
      ]
    },
    {
      "cell_type": "code",
      "metadata": {
        "id": "8wRb24Y5WT0U"
      },
      "source": [
        "# data_games = []\n",
        "# for l in parse('steam_games.json.gz'):\n",
        "#     data_games.append(l)\n",
        "# data_games = pd.DataFrame(data_games)\n",
        "\n",
        "# if True:\n",
        "#     data_games.to_csv('data_games.csv', index= False)"
      ],
      "execution_count": null,
      "outputs": []
    },
    {
      "cell_type": "code",
      "metadata": {
        "id": "pG1kDhKkGwtt"
      },
      "source": [
        "# Importamos el dataset data games\n",
        "data_games = pd.read_csv('/content/drive/MyDrive/data science/sprint project 3/data_games.csv')"
      ],
      "execution_count": null,
      "outputs": []
    },
    {
      "cell_type": "markdown",
      "metadata": {
        "id": "sdWvsPNymhV6"
      },
      "source": [
        "Descripcion de las features de steam_games:\n",
        "\n",
        "* publisher: empresa editor que publicó el juego;\n",
        "* genres: genero del juego, por ejemplo aventura,accion;\n",
        "* app_name: nombre de la aplicación correspondiente al juego;\n",
        "* title: titulo del juego;\n",
        "* url: link al juego;\n",
        "* release_date: fecha de lanzamiento;\n",
        "* tags: etiquetas del juego, genero / si es gratuito o no;\n",
        "* discount_price: precio con descuento y monto;\n",
        "* reviews_url: url a las reseñas del juego;\n",
        "* specs: caracteristicas del juego, single, multi, online etc;\n",
        "* price: precio;\n",
        "* early_access: acceso mientras el juego evoluciona;\n",
        "* id: id numerico del juego;\n",
        "* developer: compañia que desarrollo el juego;\n",
        "* sentiment: sentimiento general del juego;\n",
        "* metascore: puntuación general de usuario del juego."
      ]
    },
    {
      "cell_type": "code",
      "metadata": {
        "id": "sVR0Cs6SWT0b",
        "colab": {
          "base_uri": "https://localhost:8080/",
          "height": 591
        },
        "outputId": "c5f5f1d9-6160-4b78-deb5-a0d42a2942a6"
      },
      "source": [
        "data_games.head()"
      ],
      "execution_count": null,
      "outputs": [
        {
          "output_type": "execute_result",
          "data": {
            "text/html": [
              "<div>\n",
              "<style scoped>\n",
              "    .dataframe tbody tr th:only-of-type {\n",
              "        vertical-align: middle;\n",
              "    }\n",
              "\n",
              "    .dataframe tbody tr th {\n",
              "        vertical-align: top;\n",
              "    }\n",
              "\n",
              "    .dataframe thead th {\n",
              "        text-align: right;\n",
              "    }\n",
              "</style>\n",
              "<table border=\"1\" class=\"dataframe\">\n",
              "  <thead>\n",
              "    <tr style=\"text-align: right;\">\n",
              "      <th></th>\n",
              "      <th>publisher</th>\n",
              "      <th>genres</th>\n",
              "      <th>app_name</th>\n",
              "      <th>title</th>\n",
              "      <th>url</th>\n",
              "      <th>release_date</th>\n",
              "      <th>tags</th>\n",
              "      <th>discount_price</th>\n",
              "      <th>reviews_url</th>\n",
              "      <th>specs</th>\n",
              "      <th>price</th>\n",
              "      <th>early_access</th>\n",
              "      <th>id</th>\n",
              "      <th>developer</th>\n",
              "      <th>sentiment</th>\n",
              "      <th>metascore</th>\n",
              "    </tr>\n",
              "  </thead>\n",
              "  <tbody>\n",
              "    <tr>\n",
              "      <th>0</th>\n",
              "      <td>Kotoshiro</td>\n",
              "      <td>['Action', 'Casual', 'Indie', 'Simulation', 'S...</td>\n",
              "      <td>Lost Summoner Kitty</td>\n",
              "      <td>Lost Summoner Kitty</td>\n",
              "      <td>http://store.steampowered.com/app/761140/Lost_...</td>\n",
              "      <td>2018-01-04</td>\n",
              "      <td>['Strategy', 'Action', 'Indie', 'Casual', 'Sim...</td>\n",
              "      <td>4.49</td>\n",
              "      <td>http://steamcommunity.com/app/761140/reviews/?...</td>\n",
              "      <td>['Single-player']</td>\n",
              "      <td>4.99</td>\n",
              "      <td>False</td>\n",
              "      <td>761140.0</td>\n",
              "      <td>Kotoshiro</td>\n",
              "      <td>NaN</td>\n",
              "      <td>NaN</td>\n",
              "    </tr>\n",
              "    <tr>\n",
              "      <th>1</th>\n",
              "      <td>Making Fun, Inc.</td>\n",
              "      <td>['Free to Play', 'Indie', 'RPG', 'Strategy']</td>\n",
              "      <td>Ironbound</td>\n",
              "      <td>Ironbound</td>\n",
              "      <td>http://store.steampowered.com/app/643980/Ironb...</td>\n",
              "      <td>2018-01-04</td>\n",
              "      <td>['Free to Play', 'Strategy', 'Indie', 'RPG', '...</td>\n",
              "      <td>NaN</td>\n",
              "      <td>http://steamcommunity.com/app/643980/reviews/?...</td>\n",
              "      <td>['Single-player', 'Multi-player', 'Online Mult...</td>\n",
              "      <td>Free To Play</td>\n",
              "      <td>False</td>\n",
              "      <td>643980.0</td>\n",
              "      <td>Secret Level SRL</td>\n",
              "      <td>Mostly Positive</td>\n",
              "      <td>NaN</td>\n",
              "    </tr>\n",
              "    <tr>\n",
              "      <th>2</th>\n",
              "      <td>Poolians.com</td>\n",
              "      <td>['Casual', 'Free to Play', 'Indie', 'Simulatio...</td>\n",
              "      <td>Real Pool 3D - Poolians</td>\n",
              "      <td>Real Pool 3D - Poolians</td>\n",
              "      <td>http://store.steampowered.com/app/670290/Real_...</td>\n",
              "      <td>2017-07-24</td>\n",
              "      <td>['Free to Play', 'Simulation', 'Sports', 'Casu...</td>\n",
              "      <td>NaN</td>\n",
              "      <td>http://steamcommunity.com/app/670290/reviews/?...</td>\n",
              "      <td>['Single-player', 'Multi-player', 'Online Mult...</td>\n",
              "      <td>Free to Play</td>\n",
              "      <td>False</td>\n",
              "      <td>670290.0</td>\n",
              "      <td>Poolians.com</td>\n",
              "      <td>Mostly Positive</td>\n",
              "      <td>NaN</td>\n",
              "    </tr>\n",
              "    <tr>\n",
              "      <th>3</th>\n",
              "      <td>彼岸领域</td>\n",
              "      <td>['Action', 'Adventure', 'Casual']</td>\n",
              "      <td>弹炸人2222</td>\n",
              "      <td>弹炸人2222</td>\n",
              "      <td>http://store.steampowered.com/app/767400/2222/</td>\n",
              "      <td>2017-12-07</td>\n",
              "      <td>['Action', 'Adventure', 'Casual']</td>\n",
              "      <td>0.83</td>\n",
              "      <td>http://steamcommunity.com/app/767400/reviews/?...</td>\n",
              "      <td>['Single-player']</td>\n",
              "      <td>0.99</td>\n",
              "      <td>False</td>\n",
              "      <td>767400.0</td>\n",
              "      <td>彼岸领域</td>\n",
              "      <td>NaN</td>\n",
              "      <td>NaN</td>\n",
              "    </tr>\n",
              "    <tr>\n",
              "      <th>4</th>\n",
              "      <td>NaN</td>\n",
              "      <td>NaN</td>\n",
              "      <td>Log Challenge</td>\n",
              "      <td>NaN</td>\n",
              "      <td>http://store.steampowered.com/app/773570/Log_C...</td>\n",
              "      <td>NaN</td>\n",
              "      <td>['Action', 'Indie', 'Casual', 'Sports']</td>\n",
              "      <td>1.79</td>\n",
              "      <td>http://steamcommunity.com/app/773570/reviews/?...</td>\n",
              "      <td>['Single-player', 'Full controller support', '...</td>\n",
              "      <td>2.99</td>\n",
              "      <td>False</td>\n",
              "      <td>773570.0</td>\n",
              "      <td>NaN</td>\n",
              "      <td>NaN</td>\n",
              "      <td>NaN</td>\n",
              "    </tr>\n",
              "  </tbody>\n",
              "</table>\n",
              "</div>"
            ],
            "text/plain": [
              "          publisher  ... metascore\n",
              "0         Kotoshiro  ...       NaN\n",
              "1  Making Fun, Inc.  ...       NaN\n",
              "2      Poolians.com  ...       NaN\n",
              "3              彼岸领域  ...       NaN\n",
              "4               NaN  ...       NaN\n",
              "\n",
              "[5 rows x 16 columns]"
            ]
          },
          "metadata": {},
          "execution_count": 23
        }
      ]
    },
    {
      "cell_type": "code",
      "metadata": {
        "id": "WhjH4Z6t8gnX",
        "colab": {
          "base_uri": "https://localhost:8080/",
          "height": 521
        },
        "outputId": "b2753f99-ac7f-4705-aa95-d786416420db"
      },
      "source": [
        "data_games.tail()"
      ],
      "execution_count": null,
      "outputs": [
        {
          "output_type": "execute_result",
          "data": {
            "text/html": [
              "<div>\n",
              "<style scoped>\n",
              "    .dataframe tbody tr th:only-of-type {\n",
              "        vertical-align: middle;\n",
              "    }\n",
              "\n",
              "    .dataframe tbody tr th {\n",
              "        vertical-align: top;\n",
              "    }\n",
              "\n",
              "    .dataframe thead th {\n",
              "        text-align: right;\n",
              "    }\n",
              "</style>\n",
              "<table border=\"1\" class=\"dataframe\">\n",
              "  <thead>\n",
              "    <tr style=\"text-align: right;\">\n",
              "      <th></th>\n",
              "      <th>publisher</th>\n",
              "      <th>genres</th>\n",
              "      <th>app_name</th>\n",
              "      <th>title</th>\n",
              "      <th>url</th>\n",
              "      <th>release_date</th>\n",
              "      <th>tags</th>\n",
              "      <th>discount_price</th>\n",
              "      <th>reviews_url</th>\n",
              "      <th>specs</th>\n",
              "      <th>price</th>\n",
              "      <th>early_access</th>\n",
              "      <th>id</th>\n",
              "      <th>developer</th>\n",
              "      <th>sentiment</th>\n",
              "      <th>metascore</th>\n",
              "    </tr>\n",
              "  </thead>\n",
              "  <tbody>\n",
              "    <tr>\n",
              "      <th>32130</th>\n",
              "      <td>Ghost_RUS Games</td>\n",
              "      <td>['Casual', 'Indie', 'Simulation', 'Strategy']</td>\n",
              "      <td>Colony On Mars</td>\n",
              "      <td>Colony On Mars</td>\n",
              "      <td>http://store.steampowered.com/app/773640/Colon...</td>\n",
              "      <td>2018-01-04</td>\n",
              "      <td>['Strategy', 'Indie', 'Casual', 'Simulation']</td>\n",
              "      <td>1.49</td>\n",
              "      <td>http://steamcommunity.com/app/773640/reviews/?...</td>\n",
              "      <td>['Single-player', 'Steam Achievements']</td>\n",
              "      <td>1.99</td>\n",
              "      <td>False</td>\n",
              "      <td>773640.0</td>\n",
              "      <td>Nikita \"Ghost_RUS\"</td>\n",
              "      <td>NaN</td>\n",
              "      <td>NaN</td>\n",
              "    </tr>\n",
              "    <tr>\n",
              "      <th>32131</th>\n",
              "      <td>Sacada</td>\n",
              "      <td>['Casual', 'Indie', 'Strategy']</td>\n",
              "      <td>LOGistICAL: South Africa</td>\n",
              "      <td>LOGistICAL: South Africa</td>\n",
              "      <td>http://store.steampowered.com/app/733530/LOGis...</td>\n",
              "      <td>2018-01-04</td>\n",
              "      <td>['Strategy', 'Indie', 'Casual']</td>\n",
              "      <td>4.24</td>\n",
              "      <td>http://steamcommunity.com/app/733530/reviews/?...</td>\n",
              "      <td>['Single-player', 'Steam Achievements', 'Steam...</td>\n",
              "      <td>4.99</td>\n",
              "      <td>False</td>\n",
              "      <td>733530.0</td>\n",
              "      <td>Sacada</td>\n",
              "      <td>NaN</td>\n",
              "      <td>NaN</td>\n",
              "    </tr>\n",
              "    <tr>\n",
              "      <th>32132</th>\n",
              "      <td>Laush Studio</td>\n",
              "      <td>['Indie', 'Racing', 'Simulation']</td>\n",
              "      <td>Russian Roads</td>\n",
              "      <td>Russian Roads</td>\n",
              "      <td>http://store.steampowered.com/app/610660/Russi...</td>\n",
              "      <td>2018-01-04</td>\n",
              "      <td>['Indie', 'Simulation', 'Racing']</td>\n",
              "      <td>1.39</td>\n",
              "      <td>http://steamcommunity.com/app/610660/reviews/?...</td>\n",
              "      <td>['Single-player', 'Steam Achievements', 'Steam...</td>\n",
              "      <td>1.99</td>\n",
              "      <td>False</td>\n",
              "      <td>610660.0</td>\n",
              "      <td>Laush Dmitriy Sergeevich</td>\n",
              "      <td>NaN</td>\n",
              "      <td>NaN</td>\n",
              "    </tr>\n",
              "    <tr>\n",
              "      <th>32133</th>\n",
              "      <td>SIXNAILS</td>\n",
              "      <td>['Casual', 'Indie']</td>\n",
              "      <td>EXIT 2 - Directions</td>\n",
              "      <td>EXIT 2 - Directions</td>\n",
              "      <td>http://store.steampowered.com/app/658870/EXIT_...</td>\n",
              "      <td>2017-09-02</td>\n",
              "      <td>['Indie', 'Casual', 'Puzzle', 'Singleplayer', ...</td>\n",
              "      <td>NaN</td>\n",
              "      <td>http://steamcommunity.com/app/658870/reviews/?...</td>\n",
              "      <td>['Single-player', 'Steam Achievements', 'Steam...</td>\n",
              "      <td>4.99</td>\n",
              "      <td>False</td>\n",
              "      <td>658870.0</td>\n",
              "      <td>xropi,stev3ns</td>\n",
              "      <td>1 user reviews</td>\n",
              "      <td>NaN</td>\n",
              "    </tr>\n",
              "    <tr>\n",
              "      <th>32134</th>\n",
              "      <td>NaN</td>\n",
              "      <td>NaN</td>\n",
              "      <td>Maze Run VR</td>\n",
              "      <td>NaN</td>\n",
              "      <td>http://store.steampowered.com/app/681550/Maze_...</td>\n",
              "      <td>NaN</td>\n",
              "      <td>['Early Access', 'Adventure', 'Indie', 'Action...</td>\n",
              "      <td>NaN</td>\n",
              "      <td>http://steamcommunity.com/app/681550/reviews/?...</td>\n",
              "      <td>['Single-player', 'Stats', 'Steam Leaderboards...</td>\n",
              "      <td>4.99</td>\n",
              "      <td>True</td>\n",
              "      <td>681550.0</td>\n",
              "      <td>NaN</td>\n",
              "      <td>Positive</td>\n",
              "      <td>NaN</td>\n",
              "    </tr>\n",
              "  </tbody>\n",
              "</table>\n",
              "</div>"
            ],
            "text/plain": [
              "             publisher  ... metascore\n",
              "32130  Ghost_RUS Games  ...       NaN\n",
              "32131           Sacada  ...       NaN\n",
              "32132     Laush Studio  ...       NaN\n",
              "32133         SIXNAILS  ...       NaN\n",
              "32134              NaN  ...       NaN\n",
              "\n",
              "[5 rows x 16 columns]"
            ]
          },
          "metadata": {},
          "execution_count": 24
        }
      ]
    },
    {
      "cell_type": "code",
      "metadata": {
        "id": "2qDLUehaDuNl",
        "colab": {
          "base_uri": "https://localhost:8080/"
        },
        "outputId": "a2b0cbf5-22ba-40e1-d7a1-f66c09dbcf67"
      },
      "source": [
        "data_games.info()"
      ],
      "execution_count": null,
      "outputs": [
        {
          "output_type": "stream",
          "name": "stdout",
          "text": [
            "<class 'pandas.core.frame.DataFrame'>\n",
            "RangeIndex: 32135 entries, 0 to 32134\n",
            "Data columns (total 16 columns):\n",
            " #   Column          Non-Null Count  Dtype  \n",
            "---  ------          --------------  -----  \n",
            " 0   publisher       24073 non-null  object \n",
            " 1   genres          28852 non-null  object \n",
            " 2   app_name        32133 non-null  object \n",
            " 3   title           30085 non-null  object \n",
            " 4   url             32135 non-null  object \n",
            " 5   release_date    30068 non-null  object \n",
            " 6   tags            31972 non-null  object \n",
            " 7   discount_price  225 non-null    float64\n",
            " 8   reviews_url     32133 non-null  object \n",
            " 9   specs           31465 non-null  object \n",
            " 10  price           30758 non-null  object \n",
            " 11  early_access    32135 non-null  bool   \n",
            " 12  id              32133 non-null  float64\n",
            " 13  developer       28836 non-null  object \n",
            " 14  sentiment       24953 non-null  object \n",
            " 15  metascore       2607 non-null   float64\n",
            "dtypes: bool(1), float64(3), object(12)\n",
            "memory usage: 3.7+ MB\n"
          ]
        }
      ]
    },
    {
      "cell_type": "code",
      "metadata": {
        "id": "7Oss_PkIGJLo",
        "colab": {
          "base_uri": "https://localhost:8080/"
        },
        "outputId": "aab4e325-337a-455c-9195-0dd2fbeb8c49"
      },
      "source": [
        "data_games.shape"
      ],
      "execution_count": null,
      "outputs": [
        {
          "output_type": "execute_result",
          "data": {
            "text/plain": [
              "(32135, 16)"
            ]
          },
          "metadata": {},
          "execution_count": 26
        }
      ]
    },
    {
      "cell_type": "code",
      "metadata": {
        "id": "N0KBmAzQb-hW",
        "colab": {
          "base_uri": "https://localhost:8080/"
        },
        "outputId": "97c1b480-49df-4d99-846b-7f11ee0e6c52"
      },
      "source": [
        "data_games.columns"
      ],
      "execution_count": null,
      "outputs": [
        {
          "output_type": "execute_result",
          "data": {
            "text/plain": [
              "Index(['publisher', 'genres', 'app_name', 'title', 'url', 'release_date',\n",
              "       'tags', 'discount_price', 'reviews_url', 'specs', 'price',\n",
              "       'early_access', 'id', 'developer', 'sentiment', 'metascore'],\n",
              "      dtype='object')"
            ]
          },
          "metadata": {},
          "execution_count": 27
        }
      ]
    },
    {
      "cell_type": "code",
      "metadata": {
        "id": "R6GKywSKIola",
        "colab": {
          "base_uri": "https://localhost:8080/"
        },
        "outputId": "16904a8e-e61a-48ee-861e-66697e8f4712"
      },
      "source": [
        "# Visualizamos los valores NAN del dataset\n",
        "data_games.isna().sum()"
      ],
      "execution_count": null,
      "outputs": [
        {
          "output_type": "execute_result",
          "data": {
            "text/plain": [
              "publisher          8062\n",
              "genres             3283\n",
              "app_name              2\n",
              "title              2050\n",
              "url                   0\n",
              "release_date       2067\n",
              "tags                163\n",
              "discount_price    31910\n",
              "reviews_url           2\n",
              "specs               670\n",
              "price              1377\n",
              "early_access          0\n",
              "id                    2\n",
              "developer          3299\n",
              "sentiment          7182\n",
              "metascore         29528\n",
              "dtype: int64"
            ]
          },
          "metadata": {},
          "execution_count": 28
        }
      ]
    },
    {
      "cell_type": "markdown",
      "metadata": {
        "id": "IrU4vUTFco34"
      },
      "source": [
        "Descartando columnas poco informativas."
      ]
    },
    {
      "cell_type": "code",
      "metadata": {
        "id": "ZxIwh2n9b6I1"
      },
      "source": [
        "# Eliminamos las columnas del dataset que no aportan informacion\n",
        "data_games = data_games.drop(columns=['url', 'discount_price', 'reviews_url','specs','early_access'])"
      ],
      "execution_count": null,
      "outputs": []
    },
    {
      "cell_type": "code",
      "metadata": {
        "id": "QHpYuJ-FdIGu",
        "colab": {
          "base_uri": "https://localhost:8080/",
          "height": 597
        },
        "outputId": "48077af2-326b-4987-bb0c-e2ccbdb0b379"
      },
      "source": [
        "data_games"
      ],
      "execution_count": null,
      "outputs": [
        {
          "output_type": "execute_result",
          "data": {
            "text/html": [
              "<div>\n",
              "<style scoped>\n",
              "    .dataframe tbody tr th:only-of-type {\n",
              "        vertical-align: middle;\n",
              "    }\n",
              "\n",
              "    .dataframe tbody tr th {\n",
              "        vertical-align: top;\n",
              "    }\n",
              "\n",
              "    .dataframe thead th {\n",
              "        text-align: right;\n",
              "    }\n",
              "</style>\n",
              "<table border=\"1\" class=\"dataframe\">\n",
              "  <thead>\n",
              "    <tr style=\"text-align: right;\">\n",
              "      <th></th>\n",
              "      <th>publisher</th>\n",
              "      <th>genres</th>\n",
              "      <th>app_name</th>\n",
              "      <th>title</th>\n",
              "      <th>release_date</th>\n",
              "      <th>tags</th>\n",
              "      <th>price</th>\n",
              "      <th>id</th>\n",
              "      <th>developer</th>\n",
              "      <th>sentiment</th>\n",
              "      <th>metascore</th>\n",
              "    </tr>\n",
              "  </thead>\n",
              "  <tbody>\n",
              "    <tr>\n",
              "      <th>0</th>\n",
              "      <td>Kotoshiro</td>\n",
              "      <td>['Action', 'Casual', 'Indie', 'Simulation', 'S...</td>\n",
              "      <td>Lost Summoner Kitty</td>\n",
              "      <td>Lost Summoner Kitty</td>\n",
              "      <td>2018-01-04</td>\n",
              "      <td>['Strategy', 'Action', 'Indie', 'Casual', 'Sim...</td>\n",
              "      <td>4.99</td>\n",
              "      <td>761140.0</td>\n",
              "      <td>Kotoshiro</td>\n",
              "      <td>NaN</td>\n",
              "      <td>NaN</td>\n",
              "    </tr>\n",
              "    <tr>\n",
              "      <th>1</th>\n",
              "      <td>Making Fun, Inc.</td>\n",
              "      <td>['Free to Play', 'Indie', 'RPG', 'Strategy']</td>\n",
              "      <td>Ironbound</td>\n",
              "      <td>Ironbound</td>\n",
              "      <td>2018-01-04</td>\n",
              "      <td>['Free to Play', 'Strategy', 'Indie', 'RPG', '...</td>\n",
              "      <td>Free To Play</td>\n",
              "      <td>643980.0</td>\n",
              "      <td>Secret Level SRL</td>\n",
              "      <td>Mostly Positive</td>\n",
              "      <td>NaN</td>\n",
              "    </tr>\n",
              "    <tr>\n",
              "      <th>2</th>\n",
              "      <td>Poolians.com</td>\n",
              "      <td>['Casual', 'Free to Play', 'Indie', 'Simulatio...</td>\n",
              "      <td>Real Pool 3D - Poolians</td>\n",
              "      <td>Real Pool 3D - Poolians</td>\n",
              "      <td>2017-07-24</td>\n",
              "      <td>['Free to Play', 'Simulation', 'Sports', 'Casu...</td>\n",
              "      <td>Free to Play</td>\n",
              "      <td>670290.0</td>\n",
              "      <td>Poolians.com</td>\n",
              "      <td>Mostly Positive</td>\n",
              "      <td>NaN</td>\n",
              "    </tr>\n",
              "    <tr>\n",
              "      <th>3</th>\n",
              "      <td>彼岸领域</td>\n",
              "      <td>['Action', 'Adventure', 'Casual']</td>\n",
              "      <td>弹炸人2222</td>\n",
              "      <td>弹炸人2222</td>\n",
              "      <td>2017-12-07</td>\n",
              "      <td>['Action', 'Adventure', 'Casual']</td>\n",
              "      <td>0.99</td>\n",
              "      <td>767400.0</td>\n",
              "      <td>彼岸领域</td>\n",
              "      <td>NaN</td>\n",
              "      <td>NaN</td>\n",
              "    </tr>\n",
              "    <tr>\n",
              "      <th>4</th>\n",
              "      <td>NaN</td>\n",
              "      <td>NaN</td>\n",
              "      <td>Log Challenge</td>\n",
              "      <td>NaN</td>\n",
              "      <td>NaN</td>\n",
              "      <td>['Action', 'Indie', 'Casual', 'Sports']</td>\n",
              "      <td>2.99</td>\n",
              "      <td>773570.0</td>\n",
              "      <td>NaN</td>\n",
              "      <td>NaN</td>\n",
              "      <td>NaN</td>\n",
              "    </tr>\n",
              "    <tr>\n",
              "      <th>...</th>\n",
              "      <td>...</td>\n",
              "      <td>...</td>\n",
              "      <td>...</td>\n",
              "      <td>...</td>\n",
              "      <td>...</td>\n",
              "      <td>...</td>\n",
              "      <td>...</td>\n",
              "      <td>...</td>\n",
              "      <td>...</td>\n",
              "      <td>...</td>\n",
              "      <td>...</td>\n",
              "    </tr>\n",
              "    <tr>\n",
              "      <th>32130</th>\n",
              "      <td>Ghost_RUS Games</td>\n",
              "      <td>['Casual', 'Indie', 'Simulation', 'Strategy']</td>\n",
              "      <td>Colony On Mars</td>\n",
              "      <td>Colony On Mars</td>\n",
              "      <td>2018-01-04</td>\n",
              "      <td>['Strategy', 'Indie', 'Casual', 'Simulation']</td>\n",
              "      <td>1.99</td>\n",
              "      <td>773640.0</td>\n",
              "      <td>Nikita \"Ghost_RUS\"</td>\n",
              "      <td>NaN</td>\n",
              "      <td>NaN</td>\n",
              "    </tr>\n",
              "    <tr>\n",
              "      <th>32131</th>\n",
              "      <td>Sacada</td>\n",
              "      <td>['Casual', 'Indie', 'Strategy']</td>\n",
              "      <td>LOGistICAL: South Africa</td>\n",
              "      <td>LOGistICAL: South Africa</td>\n",
              "      <td>2018-01-04</td>\n",
              "      <td>['Strategy', 'Indie', 'Casual']</td>\n",
              "      <td>4.99</td>\n",
              "      <td>733530.0</td>\n",
              "      <td>Sacada</td>\n",
              "      <td>NaN</td>\n",
              "      <td>NaN</td>\n",
              "    </tr>\n",
              "    <tr>\n",
              "      <th>32132</th>\n",
              "      <td>Laush Studio</td>\n",
              "      <td>['Indie', 'Racing', 'Simulation']</td>\n",
              "      <td>Russian Roads</td>\n",
              "      <td>Russian Roads</td>\n",
              "      <td>2018-01-04</td>\n",
              "      <td>['Indie', 'Simulation', 'Racing']</td>\n",
              "      <td>1.99</td>\n",
              "      <td>610660.0</td>\n",
              "      <td>Laush Dmitriy Sergeevich</td>\n",
              "      <td>NaN</td>\n",
              "      <td>NaN</td>\n",
              "    </tr>\n",
              "    <tr>\n",
              "      <th>32133</th>\n",
              "      <td>SIXNAILS</td>\n",
              "      <td>['Casual', 'Indie']</td>\n",
              "      <td>EXIT 2 - Directions</td>\n",
              "      <td>EXIT 2 - Directions</td>\n",
              "      <td>2017-09-02</td>\n",
              "      <td>['Indie', 'Casual', 'Puzzle', 'Singleplayer', ...</td>\n",
              "      <td>4.99</td>\n",
              "      <td>658870.0</td>\n",
              "      <td>xropi,stev3ns</td>\n",
              "      <td>1 user reviews</td>\n",
              "      <td>NaN</td>\n",
              "    </tr>\n",
              "    <tr>\n",
              "      <th>32134</th>\n",
              "      <td>NaN</td>\n",
              "      <td>NaN</td>\n",
              "      <td>Maze Run VR</td>\n",
              "      <td>NaN</td>\n",
              "      <td>NaN</td>\n",
              "      <td>['Early Access', 'Adventure', 'Indie', 'Action...</td>\n",
              "      <td>4.99</td>\n",
              "      <td>681550.0</td>\n",
              "      <td>NaN</td>\n",
              "      <td>Positive</td>\n",
              "      <td>NaN</td>\n",
              "    </tr>\n",
              "  </tbody>\n",
              "</table>\n",
              "<p>32135 rows × 11 columns</p>\n",
              "</div>"
            ],
            "text/plain": [
              "              publisher  ... metascore\n",
              "0             Kotoshiro  ...       NaN\n",
              "1      Making Fun, Inc.  ...       NaN\n",
              "2          Poolians.com  ...       NaN\n",
              "3                  彼岸领域  ...       NaN\n",
              "4                   NaN  ...       NaN\n",
              "...                 ...  ...       ...\n",
              "32130   Ghost_RUS Games  ...       NaN\n",
              "32131            Sacada  ...       NaN\n",
              "32132      Laush Studio  ...       NaN\n",
              "32133          SIXNAILS  ...       NaN\n",
              "32134               NaN  ...       NaN\n",
              "\n",
              "[32135 rows x 11 columns]"
            ]
          },
          "metadata": {},
          "execution_count": 30
        }
      ]
    },
    {
      "cell_type": "markdown",
      "metadata": {
        "id": "HfR5GSdSdv1c"
      },
      "source": [
        "## Procedemos a unir los datasets"
      ]
    },
    {
      "cell_type": "code",
      "metadata": {
        "id": "uKtNpuv3dq_F"
      },
      "source": [
        "df =pd.merge(data_reviews,data_games, how ='inner', left_on = \"product_id\", right_on = \"id\")\n",
        "df.drop('id', axis=1, inplace=True)"
      ],
      "execution_count": null,
      "outputs": []
    },
    {
      "cell_type": "code",
      "metadata": {
        "id": "C4wdLbZqhCGN",
        "colab": {
          "base_uri": "https://localhost:8080/",
          "height": 293
        },
        "outputId": "a53dd7bb-f065-443c-dafe-e369fd5963ed"
      },
      "source": [
        "df.head()"
      ],
      "execution_count": null,
      "outputs": [
        {
          "output_type": "execute_result",
          "data": {
            "text/html": [
              "<div>\n",
              "<style scoped>\n",
              "    .dataframe tbody tr th:only-of-type {\n",
              "        vertical-align: middle;\n",
              "    }\n",
              "\n",
              "    .dataframe tbody tr th {\n",
              "        vertical-align: top;\n",
              "    }\n",
              "\n",
              "    .dataframe thead th {\n",
              "        text-align: right;\n",
              "    }\n",
              "</style>\n",
              "<table border=\"1\" class=\"dataframe\">\n",
              "  <thead>\n",
              "    <tr style=\"text-align: right;\">\n",
              "      <th></th>\n",
              "      <th>username</th>\n",
              "      <th>hours</th>\n",
              "      <th>product_id</th>\n",
              "      <th>date</th>\n",
              "      <th>publisher</th>\n",
              "      <th>genres</th>\n",
              "      <th>app_name</th>\n",
              "      <th>title</th>\n",
              "      <th>release_date</th>\n",
              "      <th>tags</th>\n",
              "      <th>price</th>\n",
              "      <th>developer</th>\n",
              "      <th>sentiment</th>\n",
              "      <th>metascore</th>\n",
              "    </tr>\n",
              "  </thead>\n",
              "  <tbody>\n",
              "    <tr>\n",
              "      <th>0</th>\n",
              "      <td>Chaos Syren</td>\n",
              "      <td>0.1</td>\n",
              "      <td>725280</td>\n",
              "      <td>2017-12-17</td>\n",
              "      <td>Vyacheslav Shilikhin</td>\n",
              "      <td>['Action', 'Adventure', 'Indie', 'Simulation']</td>\n",
              "      <td>Psi Project</td>\n",
              "      <td>Psi Project</td>\n",
              "      <td>2017-11-10</td>\n",
              "      <td>['Action', 'Adventure', 'Indie', 'Simulation']</td>\n",
              "      <td>2.99</td>\n",
              "      <td>Vyacheslav Shilikhin</td>\n",
              "      <td>Positive</td>\n",
              "      <td>NaN</td>\n",
              "    </tr>\n",
              "    <tr>\n",
              "      <th>1</th>\n",
              "      <td>freakfantom</td>\n",
              "      <td>0.1</td>\n",
              "      <td>725280</td>\n",
              "      <td>2017-11-12</td>\n",
              "      <td>Vyacheslav Shilikhin</td>\n",
              "      <td>['Action', 'Adventure', 'Indie', 'Simulation']</td>\n",
              "      <td>Psi Project</td>\n",
              "      <td>Psi Project</td>\n",
              "      <td>2017-11-10</td>\n",
              "      <td>['Action', 'Adventure', 'Indie', 'Simulation']</td>\n",
              "      <td>2.99</td>\n",
              "      <td>Vyacheslav Shilikhin</td>\n",
              "      <td>Positive</td>\n",
              "      <td>NaN</td>\n",
              "    </tr>\n",
              "    <tr>\n",
              "      <th>2</th>\n",
              "      <td>Ariman1</td>\n",
              "      <td>13.2</td>\n",
              "      <td>328100</td>\n",
              "      <td>2017-08-02</td>\n",
              "      <td>KISS ltd</td>\n",
              "      <td>['Adventure', 'Indie', 'RPG']</td>\n",
              "      <td>Gunspell - Steam Edition</td>\n",
              "      <td>Gunspell - Steam Edition</td>\n",
              "      <td>2014-11-07</td>\n",
              "      <td>['Adventure', 'RPG', 'Indie', 'Puzzle', 'Match...</td>\n",
              "      <td>14.99</td>\n",
              "      <td>Ino-Co Plus</td>\n",
              "      <td>Mixed</td>\n",
              "      <td>NaN</td>\n",
              "    </tr>\n",
              "    <tr>\n",
              "      <th>3</th>\n",
              "      <td>dll3z</td>\n",
              "      <td>0.4</td>\n",
              "      <td>328100</td>\n",
              "      <td>2017-03-07</td>\n",
              "      <td>KISS ltd</td>\n",
              "      <td>['Adventure', 'Indie', 'RPG']</td>\n",
              "      <td>Gunspell - Steam Edition</td>\n",
              "      <td>Gunspell - Steam Edition</td>\n",
              "      <td>2014-11-07</td>\n",
              "      <td>['Adventure', 'RPG', 'Indie', 'Puzzle', 'Match...</td>\n",
              "      <td>14.99</td>\n",
              "      <td>Ino-Co Plus</td>\n",
              "      <td>Mixed</td>\n",
              "      <td>NaN</td>\n",
              "    </tr>\n",
              "    <tr>\n",
              "      <th>4</th>\n",
              "      <td>Nyazicat</td>\n",
              "      <td>2.2</td>\n",
              "      <td>328100</td>\n",
              "      <td>2017-01-09</td>\n",
              "      <td>KISS ltd</td>\n",
              "      <td>['Adventure', 'Indie', 'RPG']</td>\n",
              "      <td>Gunspell - Steam Edition</td>\n",
              "      <td>Gunspell - Steam Edition</td>\n",
              "      <td>2014-11-07</td>\n",
              "      <td>['Adventure', 'RPG', 'Indie', 'Puzzle', 'Match...</td>\n",
              "      <td>14.99</td>\n",
              "      <td>Ino-Co Plus</td>\n",
              "      <td>Mixed</td>\n",
              "      <td>NaN</td>\n",
              "    </tr>\n",
              "  </tbody>\n",
              "</table>\n",
              "</div>"
            ],
            "text/plain": [
              "      username  hours  product_id  ...             developer sentiment metascore\n",
              "0  Chaos Syren    0.1      725280  ...  Vyacheslav Shilikhin  Positive       NaN\n",
              "1  freakfantom    0.1      725280  ...  Vyacheslav Shilikhin  Positive       NaN\n",
              "2      Ariman1   13.2      328100  ...           Ino-Co Plus     Mixed       NaN\n",
              "3        dll3z    0.4      328100  ...           Ino-Co Plus     Mixed       NaN\n",
              "4     Nyazicat    2.2      328100  ...           Ino-Co Plus     Mixed       NaN\n",
              "\n",
              "[5 rows x 14 columns]"
            ]
          },
          "metadata": {},
          "execution_count": 32
        }
      ]
    },
    {
      "cell_type": "code",
      "metadata": {
        "id": "xE9xybzrhO3s"
      },
      "source": [
        "# Guardamos el dataset unico\n",
        "#if True:\n",
        "#    df.to_csv('/content/drive/MyDrive/data science/sprint project 3/df.csv', index= False)"
      ],
      "execution_count": null,
      "outputs": []
    },
    {
      "cell_type": "markdown",
      "metadata": {
        "id": "P2SduzDL_y_s"
      },
      "source": [
        "## Dataset procesado"
      ]
    },
    {
      "cell_type": "code",
      "metadata": {
        "id": "Ucx3O0g46b6_"
      },
      "source": [
        "import numpy as np\n",
        "import pandas as pd\n",
        "import seaborn as sns\n",
        "import matplotlib.pyplot as plt\n",
        "import warnings\n",
        "warnings.filterwarnings('ignore')\n",
        "import time"
      ],
      "execution_count": null,
      "outputs": []
    },
    {
      "cell_type": "code",
      "metadata": {
        "id": "iUIlX0jW6ipt",
        "colab": {
          "base_uri": "https://localhost:8080/"
        },
        "outputId": "2d626f27-3236-445f-f2c8-3b78b439736c"
      },
      "source": [
        "from google.colab import drive\n",
        "drive.mount('/content/drive')"
      ],
      "execution_count": null,
      "outputs": [
        {
          "output_type": "stream",
          "name": "stdout",
          "text": [
            "Drive already mounted at /content/drive; to attempt to forcibly remount, call drive.mount(\"/content/drive\", force_remount=True).\n"
          ]
        }
      ]
    },
    {
      "cell_type": "code",
      "metadata": {
        "id": "Xf8bHb4thbdU"
      },
      "source": [
        "# Importamos el dataframe\n",
        "df = pd.read_csv('/content/drive/MyDrive/data science/sprint project 3/df.csv')"
      ],
      "execution_count": null,
      "outputs": []
    },
    {
      "cell_type": "code",
      "metadata": {
        "id": "qDKZyqFzA_ln",
        "colab": {
          "base_uri": "https://localhost:8080/",
          "height": 293
        },
        "outputId": "55971e0b-fceb-4f4a-e43a-f0dbc986642e"
      },
      "source": [
        "# Visualizamos las 5 primeras lineas \n",
        "df.head()"
      ],
      "execution_count": null,
      "outputs": [
        {
          "output_type": "execute_result",
          "data": {
            "text/html": [
              "<div>\n",
              "<style scoped>\n",
              "    .dataframe tbody tr th:only-of-type {\n",
              "        vertical-align: middle;\n",
              "    }\n",
              "\n",
              "    .dataframe tbody tr th {\n",
              "        vertical-align: top;\n",
              "    }\n",
              "\n",
              "    .dataframe thead th {\n",
              "        text-align: right;\n",
              "    }\n",
              "</style>\n",
              "<table border=\"1\" class=\"dataframe\">\n",
              "  <thead>\n",
              "    <tr style=\"text-align: right;\">\n",
              "      <th></th>\n",
              "      <th>username</th>\n",
              "      <th>hours</th>\n",
              "      <th>product_id</th>\n",
              "      <th>date</th>\n",
              "      <th>publisher</th>\n",
              "      <th>genres</th>\n",
              "      <th>app_name</th>\n",
              "      <th>title</th>\n",
              "      <th>release_date</th>\n",
              "      <th>tags</th>\n",
              "      <th>price</th>\n",
              "      <th>developer</th>\n",
              "      <th>sentiment</th>\n",
              "      <th>metascore</th>\n",
              "    </tr>\n",
              "  </thead>\n",
              "  <tbody>\n",
              "    <tr>\n",
              "      <th>0</th>\n",
              "      <td>Chaos Syren</td>\n",
              "      <td>0.1</td>\n",
              "      <td>725280</td>\n",
              "      <td>2017-12-17</td>\n",
              "      <td>Vyacheslav Shilikhin</td>\n",
              "      <td>['Action', 'Adventure', 'Indie', 'Simulation']</td>\n",
              "      <td>Psi Project</td>\n",
              "      <td>Psi Project</td>\n",
              "      <td>2017-11-10</td>\n",
              "      <td>['Action', 'Adventure', 'Indie', 'Simulation']</td>\n",
              "      <td>2.99</td>\n",
              "      <td>Vyacheslav Shilikhin</td>\n",
              "      <td>Positive</td>\n",
              "      <td>NaN</td>\n",
              "    </tr>\n",
              "    <tr>\n",
              "      <th>1</th>\n",
              "      <td>freakfantom</td>\n",
              "      <td>0.1</td>\n",
              "      <td>725280</td>\n",
              "      <td>2017-11-12</td>\n",
              "      <td>Vyacheslav Shilikhin</td>\n",
              "      <td>['Action', 'Adventure', 'Indie', 'Simulation']</td>\n",
              "      <td>Psi Project</td>\n",
              "      <td>Psi Project</td>\n",
              "      <td>2017-11-10</td>\n",
              "      <td>['Action', 'Adventure', 'Indie', 'Simulation']</td>\n",
              "      <td>2.99</td>\n",
              "      <td>Vyacheslav Shilikhin</td>\n",
              "      <td>Positive</td>\n",
              "      <td>NaN</td>\n",
              "    </tr>\n",
              "    <tr>\n",
              "      <th>2</th>\n",
              "      <td>Ariman1</td>\n",
              "      <td>13.2</td>\n",
              "      <td>328100</td>\n",
              "      <td>2017-08-02</td>\n",
              "      <td>KISS ltd</td>\n",
              "      <td>['Adventure', 'Indie', 'RPG']</td>\n",
              "      <td>Gunspell - Steam Edition</td>\n",
              "      <td>Gunspell - Steam Edition</td>\n",
              "      <td>2014-11-07</td>\n",
              "      <td>['Adventure', 'RPG', 'Indie', 'Puzzle', 'Match...</td>\n",
              "      <td>14.99</td>\n",
              "      <td>Ino-Co Plus</td>\n",
              "      <td>Mixed</td>\n",
              "      <td>NaN</td>\n",
              "    </tr>\n",
              "    <tr>\n",
              "      <th>3</th>\n",
              "      <td>dll3z</td>\n",
              "      <td>0.4</td>\n",
              "      <td>328100</td>\n",
              "      <td>2017-03-07</td>\n",
              "      <td>KISS ltd</td>\n",
              "      <td>['Adventure', 'Indie', 'RPG']</td>\n",
              "      <td>Gunspell - Steam Edition</td>\n",
              "      <td>Gunspell - Steam Edition</td>\n",
              "      <td>2014-11-07</td>\n",
              "      <td>['Adventure', 'RPG', 'Indie', 'Puzzle', 'Match...</td>\n",
              "      <td>14.99</td>\n",
              "      <td>Ino-Co Plus</td>\n",
              "      <td>Mixed</td>\n",
              "      <td>NaN</td>\n",
              "    </tr>\n",
              "    <tr>\n",
              "      <th>4</th>\n",
              "      <td>Nyazicat</td>\n",
              "      <td>2.2</td>\n",
              "      <td>328100</td>\n",
              "      <td>2017-01-09</td>\n",
              "      <td>KISS ltd</td>\n",
              "      <td>['Adventure', 'Indie', 'RPG']</td>\n",
              "      <td>Gunspell - Steam Edition</td>\n",
              "      <td>Gunspell - Steam Edition</td>\n",
              "      <td>2014-11-07</td>\n",
              "      <td>['Adventure', 'RPG', 'Indie', 'Puzzle', 'Match...</td>\n",
              "      <td>14.99</td>\n",
              "      <td>Ino-Co Plus</td>\n",
              "      <td>Mixed</td>\n",
              "      <td>NaN</td>\n",
              "    </tr>\n",
              "  </tbody>\n",
              "</table>\n",
              "</div>"
            ],
            "text/plain": [
              "      username  hours  product_id  ...             developer sentiment metascore\n",
              "0  Chaos Syren    0.1      725280  ...  Vyacheslav Shilikhin  Positive       NaN\n",
              "1  freakfantom    0.1      725280  ...  Vyacheslav Shilikhin  Positive       NaN\n",
              "2      Ariman1   13.2      328100  ...           Ino-Co Plus     Mixed       NaN\n",
              "3        dll3z    0.4      328100  ...           Ino-Co Plus     Mixed       NaN\n",
              "4     Nyazicat    2.2      328100  ...           Ino-Co Plus     Mixed       NaN\n",
              "\n",
              "[5 rows x 14 columns]"
            ]
          },
          "metadata": {},
          "execution_count": 37
        }
      ]
    },
    {
      "cell_type": "code",
      "metadata": {
        "id": "BrnYsKP__w2u",
        "colab": {
          "base_uri": "https://localhost:8080/"
        },
        "outputId": "2a4aaa3a-0fd9-41cf-dde9-5115c495e1f1"
      },
      "source": [
        "# Informacion sobre el dataset\n",
        "df.info()"
      ],
      "execution_count": null,
      "outputs": [
        {
          "output_type": "stream",
          "name": "stdout",
          "text": [
            "<class 'pandas.core.frame.DataFrame'>\n",
            "RangeIndex: 779951 entries, 0 to 779950\n",
            "Data columns (total 14 columns):\n",
            " #   Column        Non-Null Count   Dtype  \n",
            "---  ------        --------------   -----  \n",
            " 0   username      779933 non-null  object \n",
            " 1   hours         777314 non-null  float64\n",
            " 2   product_id    779951 non-null  int64  \n",
            " 3   date          779951 non-null  object \n",
            " 4   publisher     770295 non-null  object \n",
            " 5   genres        775928 non-null  object \n",
            " 6   app_name      779951 non-null  object \n",
            " 7   title         779951 non-null  object \n",
            " 8   release_date  778840 non-null  object \n",
            " 9   tags          779947 non-null  object \n",
            " 10  price         773278 non-null  object \n",
            " 11  developer     774163 non-null  object \n",
            " 12  sentiment     779807 non-null  object \n",
            " 13  metascore     458307 non-null  float64\n",
            "dtypes: float64(2), int64(1), object(11)\n",
            "memory usage: 83.3+ MB\n"
          ]
        }
      ]
    },
    {
      "cell_type": "code",
      "metadata": {
        "id": "VGuE2nQSBuxx",
        "colab": {
          "base_uri": "https://localhost:8080/"
        },
        "outputId": "1f943954-0f0f-43f7-a92c-593b44373dbe"
      },
      "source": [
        "# Features\n",
        "df.columns"
      ],
      "execution_count": null,
      "outputs": [
        {
          "output_type": "execute_result",
          "data": {
            "text/plain": [
              "Index(['username', 'hours', 'product_id', 'date', 'publisher', 'genres',\n",
              "       'app_name', 'title', 'release_date', 'tags', 'price', 'developer',\n",
              "       'sentiment', 'metascore'],\n",
              "      dtype='object')"
            ]
          },
          "metadata": {},
          "execution_count": 39
        }
      ]
    },
    {
      "cell_type": "code",
      "metadata": {
        "id": "n6zVOHOUBw2K",
        "colab": {
          "base_uri": "https://localhost:8080/"
        },
        "outputId": "28215417-67a0-45ce-ce4c-6383b2e7b46b"
      },
      "source": [
        "# Forma del dataset, 14 features y 779951 Instancias\n",
        "df.shape"
      ],
      "execution_count": null,
      "outputs": [
        {
          "output_type": "execute_result",
          "data": {
            "text/plain": [
              "(779951, 14)"
            ]
          },
          "metadata": {},
          "execution_count": 40
        }
      ]
    },
    {
      "cell_type": "code",
      "metadata": {
        "id": "T68ZjVeDAKX8",
        "colab": {
          "base_uri": "https://localhost:8080/",
          "height": 300
        },
        "outputId": "c2d1237e-ed8c-4467-abe5-02ce949b3128"
      },
      "source": [
        "# Descripcion estadistica de las variables numericas\n",
        "df.describe()"
      ],
      "execution_count": null,
      "outputs": [
        {
          "output_type": "execute_result",
          "data": {
            "text/html": [
              "<div>\n",
              "<style scoped>\n",
              "    .dataframe tbody tr th:only-of-type {\n",
              "        vertical-align: middle;\n",
              "    }\n",
              "\n",
              "    .dataframe tbody tr th {\n",
              "        vertical-align: top;\n",
              "    }\n",
              "\n",
              "    .dataframe thead th {\n",
              "        text-align: right;\n",
              "    }\n",
              "</style>\n",
              "<table border=\"1\" class=\"dataframe\">\n",
              "  <thead>\n",
              "    <tr style=\"text-align: right;\">\n",
              "      <th></th>\n",
              "      <th>hours</th>\n",
              "      <th>product_id</th>\n",
              "      <th>metascore</th>\n",
              "    </tr>\n",
              "  </thead>\n",
              "  <tbody>\n",
              "    <tr>\n",
              "      <th>count</th>\n",
              "      <td>777314.000000</td>\n",
              "      <td>779951.000000</td>\n",
              "      <td>458307.000000</td>\n",
              "    </tr>\n",
              "    <tr>\n",
              "      <th>mean</th>\n",
              "      <td>111.765730</td>\n",
              "      <td>251788.219356</td>\n",
              "      <td>79.767056</td>\n",
              "    </tr>\n",
              "    <tr>\n",
              "      <th>std</th>\n",
              "      <td>389.993556</td>\n",
              "      <td>150272.381645</td>\n",
              "      <td>9.730428</td>\n",
              "    </tr>\n",
              "    <tr>\n",
              "      <th>min</th>\n",
              "      <td>0.000000</td>\n",
              "      <td>10.000000</td>\n",
              "      <td>20.000000</td>\n",
              "    </tr>\n",
              "    <tr>\n",
              "      <th>25%</th>\n",
              "      <td>4.000000</td>\n",
              "      <td>203770.000000</td>\n",
              "      <td>74.000000</td>\n",
              "    </tr>\n",
              "    <tr>\n",
              "      <th>50%</th>\n",
              "      <td>15.300000</td>\n",
              "      <td>252490.000000</td>\n",
              "      <td>81.000000</td>\n",
              "    </tr>\n",
              "    <tr>\n",
              "      <th>75%</th>\n",
              "      <td>59.500000</td>\n",
              "      <td>346330.000000</td>\n",
              "      <td>87.000000</td>\n",
              "    </tr>\n",
              "    <tr>\n",
              "      <th>max</th>\n",
              "      <td>28164.000000</td>\n",
              "      <td>773900.000000</td>\n",
              "      <td>96.000000</td>\n",
              "    </tr>\n",
              "  </tbody>\n",
              "</table>\n",
              "</div>"
            ],
            "text/plain": [
              "               hours     product_id      metascore\n",
              "count  777314.000000  779951.000000  458307.000000\n",
              "mean      111.765730  251788.219356      79.767056\n",
              "std       389.993556  150272.381645       9.730428\n",
              "min         0.000000      10.000000      20.000000\n",
              "25%         4.000000  203770.000000      74.000000\n",
              "50%        15.300000  252490.000000      81.000000\n",
              "75%        59.500000  346330.000000      87.000000\n",
              "max     28164.000000  773900.000000      96.000000"
            ]
          },
          "metadata": {},
          "execution_count": 41
        }
      ]
    },
    {
      "cell_type": "code",
      "metadata": {
        "id": "df0LvH9-BMgZ",
        "colab": {
          "base_uri": "https://localhost:8080/"
        },
        "outputId": "ab34e83d-9d4a-430a-8bc8-c2deeaad1dbf"
      },
      "source": [
        "# Agrupamos por sentimientos calificados a cada juego por los usuarios. Visualizamos muchas calificaciones positivas\n",
        "df.groupby(['sentiment'])['username'].count()"
      ],
      "execution_count": null,
      "outputs": [
        {
          "output_type": "execute_result",
          "data": {
            "text/plain": [
              "sentiment\n",
              "1 user reviews                187\n",
              "2 user reviews                290\n",
              "3 user reviews                284\n",
              "4 user reviews                367\n",
              "5 user reviews                345\n",
              "6 user reviews                388\n",
              "7 user reviews                317\n",
              "8 user reviews                367\n",
              "9 user reviews                318\n",
              "Mixed                      120781\n",
              "Mostly Negative              8352\n",
              "Mostly Positive            108489\n",
              "Negative                      317\n",
              "Overwhelmingly Negative       675\n",
              "Overwhelmingly Positive    148202\n",
              "Positive                     4512\n",
              "Very Negative                 347\n",
              "Very Positive              385251\n",
              "Name: username, dtype: int64"
            ]
          },
          "metadata": {},
          "execution_count": 42
        }
      ]
    },
    {
      "cell_type": "code",
      "metadata": {
        "id": "uLsteu8O7umz",
        "colab": {
          "base_uri": "https://localhost:8080/"
        },
        "outputId": "9efe35ef-1dfc-46d0-cd19-3cb3c83b99e3"
      },
      "source": [
        "# Cantidad de Usuarios unicos\n",
        "df.username.nunique()"
      ],
      "execution_count": null,
      "outputs": [
        {
          "output_type": "execute_result",
          "data": {
            "text/plain": [
              "540338"
            ]
          },
          "metadata": {},
          "execution_count": 43
        }
      ]
    },
    {
      "cell_type": "code",
      "metadata": {
        "id": "7eClrN7V7ukJ",
        "colab": {
          "base_uri": "https://localhost:8080/"
        },
        "outputId": "38cb6dab-4391-4745-aec0-c6986e037df8"
      },
      "source": [
        "# Juegos que califico cada usuario\n",
        "juegos_user = df.username.value_counts()\n",
        "juegos_user"
      ],
      "execution_count": null,
      "outputs": [
        {
          "output_type": "execute_result",
          "data": {
            "text/plain": [
              "123                     213\n",
              "Alex                    190\n",
              "Chris                   156\n",
              "Nick                    143\n",
              "Matt                    139\n",
              "                       ... \n",
              "Thundershots              1\n",
              "1111                      1\n",
              "✦ K I A M                 1\n",
              "Danny | csgonerf.com      1\n",
              "Catwalk Lady              1\n",
              "Name: username, Length: 540338, dtype: int64"
            ]
          },
          "metadata": {},
          "execution_count": 44
        }
      ]
    },
    {
      "cell_type": "code",
      "metadata": {
        "id": "bABw-i9J-Rit",
        "colab": {
          "base_uri": "https://localhost:8080/",
          "height": 455
        },
        "outputId": "c13e9a72-7fe9-4860-a27f-a6c089c1c52d"
      },
      "source": [
        "# Agrupamos los usuarios \n",
        "df_by_users=df.groupby(['username']).count()\n",
        "df_by_users"
      ],
      "execution_count": null,
      "outputs": [
        {
          "output_type": "execute_result",
          "data": {
            "text/html": [
              "<div>\n",
              "<style scoped>\n",
              "    .dataframe tbody tr th:only-of-type {\n",
              "        vertical-align: middle;\n",
              "    }\n",
              "\n",
              "    .dataframe tbody tr th {\n",
              "        vertical-align: top;\n",
              "    }\n",
              "\n",
              "    .dataframe thead th {\n",
              "        text-align: right;\n",
              "    }\n",
              "</style>\n",
              "<table border=\"1\" class=\"dataframe\">\n",
              "  <thead>\n",
              "    <tr style=\"text-align: right;\">\n",
              "      <th></th>\n",
              "      <th>hours</th>\n",
              "      <th>product_id</th>\n",
              "      <th>date</th>\n",
              "      <th>publisher</th>\n",
              "      <th>genres</th>\n",
              "      <th>app_name</th>\n",
              "      <th>title</th>\n",
              "      <th>release_date</th>\n",
              "      <th>tags</th>\n",
              "      <th>price</th>\n",
              "      <th>developer</th>\n",
              "      <th>sentiment</th>\n",
              "      <th>metascore</th>\n",
              "    </tr>\n",
              "    <tr>\n",
              "      <th>username</th>\n",
              "      <th></th>\n",
              "      <th></th>\n",
              "      <th></th>\n",
              "      <th></th>\n",
              "      <th></th>\n",
              "      <th></th>\n",
              "      <th></th>\n",
              "      <th></th>\n",
              "      <th></th>\n",
              "      <th></th>\n",
              "      <th></th>\n",
              "      <th></th>\n",
              "      <th></th>\n",
              "    </tr>\n",
              "  </thead>\n",
              "  <tbody>\n",
              "    <tr>\n",
              "      <th>!</th>\n",
              "      <td>1</td>\n",
              "      <td>1</td>\n",
              "      <td>1</td>\n",
              "      <td>1</td>\n",
              "      <td>1</td>\n",
              "      <td>1</td>\n",
              "      <td>1</td>\n",
              "      <td>1</td>\n",
              "      <td>1</td>\n",
              "      <td>1</td>\n",
              "      <td>1</td>\n",
              "      <td>1</td>\n",
              "      <td>1</td>\n",
              "    </tr>\n",
              "    <tr>\n",
              "      <th>!    ZerZ</th>\n",
              "      <td>2</td>\n",
              "      <td>2</td>\n",
              "      <td>2</td>\n",
              "      <td>2</td>\n",
              "      <td>2</td>\n",
              "      <td>2</td>\n",
              "      <td>2</td>\n",
              "      <td>2</td>\n",
              "      <td>2</td>\n",
              "      <td>2</td>\n",
              "      <td>2</td>\n",
              "      <td>2</td>\n",
              "      <td>2</td>\n",
              "    </tr>\n",
              "    <tr>\n",
              "      <th>! ! ŦŕĩŽǿЯëќ™ ! !</th>\n",
              "      <td>1</td>\n",
              "      <td>1</td>\n",
              "      <td>1</td>\n",
              "      <td>1</td>\n",
              "      <td>1</td>\n",
              "      <td>1</td>\n",
              "      <td>1</td>\n",
              "      <td>1</td>\n",
              "      <td>1</td>\n",
              "      <td>1</td>\n",
              "      <td>1</td>\n",
              "      <td>1</td>\n",
              "      <td>1</td>\n",
              "    </tr>\n",
              "    <tr>\n",
              "      <th>! Alga</th>\n",
              "      <td>2</td>\n",
              "      <td>2</td>\n",
              "      <td>2</td>\n",
              "      <td>2</td>\n",
              "      <td>2</td>\n",
              "      <td>2</td>\n",
              "      <td>2</td>\n",
              "      <td>2</td>\n",
              "      <td>2</td>\n",
              "      <td>2</td>\n",
              "      <td>2</td>\n",
              "      <td>2</td>\n",
              "      <td>2</td>\n",
              "    </tr>\n",
              "    <tr>\n",
              "      <th>! DeadlyDeal !</th>\n",
              "      <td>1</td>\n",
              "      <td>1</td>\n",
              "      <td>1</td>\n",
              "      <td>1</td>\n",
              "      <td>1</td>\n",
              "      <td>1</td>\n",
              "      <td>1</td>\n",
              "      <td>1</td>\n",
              "      <td>1</td>\n",
              "      <td>1</td>\n",
              "      <td>1</td>\n",
              "      <td>1</td>\n",
              "      <td>0</td>\n",
              "    </tr>\n",
              "    <tr>\n",
              "      <th>...</th>\n",
              "      <td>...</td>\n",
              "      <td>...</td>\n",
              "      <td>...</td>\n",
              "      <td>...</td>\n",
              "      <td>...</td>\n",
              "      <td>...</td>\n",
              "      <td>...</td>\n",
              "      <td>...</td>\n",
              "      <td>...</td>\n",
              "      <td>...</td>\n",
              "      <td>...</td>\n",
              "      <td>...</td>\n",
              "      <td>...</td>\n",
              "    </tr>\n",
              "    <tr>\n",
              "      <th>󰀓Heavy Unit󰀓</th>\n",
              "      <td>1</td>\n",
              "      <td>1</td>\n",
              "      <td>1</td>\n",
              "      <td>1</td>\n",
              "      <td>1</td>\n",
              "      <td>1</td>\n",
              "      <td>1</td>\n",
              "      <td>1</td>\n",
              "      <td>1</td>\n",
              "      <td>1</td>\n",
              "      <td>1</td>\n",
              "      <td>1</td>\n",
              "      <td>0</td>\n",
              "    </tr>\n",
              "    <tr>\n",
              "      <th>󰀓Oxymoronicphalanx󰀓</th>\n",
              "      <td>2</td>\n",
              "      <td>2</td>\n",
              "      <td>2</td>\n",
              "      <td>2</td>\n",
              "      <td>2</td>\n",
              "      <td>2</td>\n",
              "      <td>2</td>\n",
              "      <td>2</td>\n",
              "      <td>2</td>\n",
              "      <td>2</td>\n",
              "      <td>2</td>\n",
              "      <td>2</td>\n",
              "      <td>0</td>\n",
              "    </tr>\n",
              "    <tr>\n",
              "      <th>󰀕 Africa's Population 󰀕</th>\n",
              "      <td>2</td>\n",
              "      <td>2</td>\n",
              "      <td>2</td>\n",
              "      <td>1</td>\n",
              "      <td>2</td>\n",
              "      <td>2</td>\n",
              "      <td>2</td>\n",
              "      <td>2</td>\n",
              "      <td>2</td>\n",
              "      <td>2</td>\n",
              "      <td>2</td>\n",
              "      <td>2</td>\n",
              "      <td>2</td>\n",
              "    </tr>\n",
              "    <tr>\n",
              "      <th>󰀕Rusya󰀕</th>\n",
              "      <td>1</td>\n",
              "      <td>1</td>\n",
              "      <td>1</td>\n",
              "      <td>1</td>\n",
              "      <td>1</td>\n",
              "      <td>1</td>\n",
              "      <td>1</td>\n",
              "      <td>1</td>\n",
              "      <td>1</td>\n",
              "      <td>1</td>\n",
              "      <td>1</td>\n",
              "      <td>1</td>\n",
              "      <td>1</td>\n",
              "    </tr>\n",
              "    <tr>\n",
              "      <th>󰀖Mr.Tarunio</th>\n",
              "      <td>1</td>\n",
              "      <td>1</td>\n",
              "      <td>1</td>\n",
              "      <td>1</td>\n",
              "      <td>1</td>\n",
              "      <td>1</td>\n",
              "      <td>1</td>\n",
              "      <td>1</td>\n",
              "      <td>1</td>\n",
              "      <td>1</td>\n",
              "      <td>1</td>\n",
              "      <td>1</td>\n",
              "      <td>1</td>\n",
              "    </tr>\n",
              "  </tbody>\n",
              "</table>\n",
              "<p>540338 rows × 13 columns</p>\n",
              "</div>"
            ],
            "text/plain": [
              "                         hours  product_id  ...  sentiment  metascore\n",
              "username                                    ...                      \n",
              "!                            1           1  ...          1          1\n",
              "!    ZerZ                    2           2  ...          2          2\n",
              "! ! ŦŕĩŽǿЯëќ™ ! !            1           1  ...          1          1\n",
              "! Alga                       2           2  ...          2          2\n",
              "! DeadlyDeal !               1           1  ...          1          0\n",
              "...                        ...         ...  ...        ...        ...\n",
              "󰀓Heavy Unit󰀓                 1           1  ...          1          0\n",
              "󰀓Oxymoronicphalanx󰀓          2           2  ...          2          0\n",
              "󰀕 Africa's Population 󰀕      2           2  ...          2          2\n",
              "󰀕Rusya󰀕                      1           1  ...          1          1\n",
              "󰀖Mr.Tarunio                  1           1  ...          1          1\n",
              "\n",
              "[540338 rows x 13 columns]"
            ]
          },
          "metadata": {},
          "execution_count": 45
        }
      ]
    },
    {
      "cell_type": "code",
      "metadata": {
        "id": "I1Jcur2J7uh1",
        "colab": {
          "base_uri": "https://localhost:8080/",
          "height": 271
        },
        "outputId": "71db75fa-eb9c-4558-baa4-fcf6b0e9fb30"
      },
      "source": [
        "# Grafica de histograma de la cantidad de horas y cantidad de usuarios.\n",
        "plt.hist(df_by_users.hours, log= True)\n",
        "plt.show()"
      ],
      "execution_count": null,
      "outputs": [
        {
          "output_type": "display_data",
          "data": {
            "image/png": "[encoded data removed]",
            "text/plain": [
              "<Figure size 432x288 with 1 Axes>"
            ]
          },
          "metadata": {
            "needs_background": "light"
          }
        }
      ]
    },
    {
      "cell_type": "markdown",
      "metadata": {
        "id": "0wz3cJDh-lKH"
      },
      "source": [
        "Pocos usuarios son los que jugaron muchas horas"
      ]
    },
    {
      "cell_type": "code",
      "metadata": {
        "id": "L1HiLR-87ubh",
        "colab": {
          "base_uri": "https://localhost:8080/"
        },
        "outputId": "aca8f02c-39dc-4df3-9bfc-a206b4c8071a"
      },
      "source": [
        "#garbage collector\n",
        "import gc \n",
        "gc.collect()"
      ],
      "execution_count": null,
      "outputs": [
        {
          "output_type": "execute_result",
          "data": {
            "text/plain": [
              "12738"
            ]
          },
          "metadata": {},
          "execution_count": 47
        }
      ]
    },
    {
      "cell_type": "markdown",
      "metadata": {
        "id": "1xadlcqR7WGg"
      },
      "source": [
        "## Tipos de datos"
      ]
    },
    {
      "cell_type": "code",
      "metadata": {
        "id": "Bmtz2tRfEE_9",
        "colab": {
          "base_uri": "https://localhost:8080/"
        },
        "outputId": "9b457eb7-6e20-4371-f657-5970ea7fc645"
      },
      "source": [
        "# Eliminamos los valores nulos de las columas metascore y hours.\n",
        "df = df.dropna()\n",
        "df.shape"
      ],
      "execution_count": null,
      "outputs": [
        {
          "output_type": "execute_result",
          "data": {
            "text/plain": [
              "(449486, 14)"
            ]
          },
          "metadata": {},
          "execution_count": 48
        }
      ]
    },
    {
      "cell_type": "code",
      "metadata": {
        "id": "2eTODIhcAWBU"
      },
      "source": [
        "# Procedemos a cambiar el tipo de variable a fin convertir a tipos de datos que ocupen menos lugar.\n",
        "#df['hours'] = df['hours'].astype(np.int8)\n",
        "#df['product_id'] = df['product_id'].astype(np.int8)\n",
        "#df['metascore'] = df['metascore'].astype(np.int8)"
      ],
      "execution_count": null,
      "outputs": []
    },
    {
      "cell_type": "code",
      "metadata": {
        "id": "ebb4-qTZBeqB",
        "colab": {
          "base_uri": "https://localhost:8080/"
        },
        "outputId": "037aab0e-b4c8-4485-e53c-c5247157bc21"
      },
      "source": [
        "# Informacion sobre el dataset procesado\n",
        "df.info()"
      ],
      "execution_count": null,
      "outputs": [
        {
          "output_type": "stream",
          "name": "stdout",
          "text": [
            "<class 'pandas.core.frame.DataFrame'>\n",
            "Int64Index: 449486 entries, 12 to 779548\n",
            "Data columns (total 14 columns):\n",
            " #   Column        Non-Null Count   Dtype  \n",
            "---  ------        --------------   -----  \n",
            " 0   username      449486 non-null  object \n",
            " 1   hours         449486 non-null  float64\n",
            " 2   product_id    449486 non-null  int64  \n",
            " 3   date          449486 non-null  object \n",
            " 4   publisher     449486 non-null  object \n",
            " 5   genres        449486 non-null  object \n",
            " 6   app_name      449486 non-null  object \n",
            " 7   title         449486 non-null  object \n",
            " 8   release_date  449486 non-null  object \n",
            " 9   tags          449486 non-null  object \n",
            " 10  price         449486 non-null  object \n",
            " 11  developer     449486 non-null  object \n",
            " 12  sentiment     449486 non-null  object \n",
            " 13  metascore     449486 non-null  float64\n",
            "dtypes: float64(2), int64(1), object(11)\n",
            "memory usage: 51.4+ MB\n"
          ]
        }
      ]
    },
    {
      "cell_type": "code",
      "metadata": {
        "id": "MKm6ZzaaFAHx",
        "colab": {
          "base_uri": "https://localhost:8080/"
        },
        "outputId": "fc5e2418-613e-460b-f885-c2dd048a398a"
      },
      "source": [
        "# Visualizamos los nulos del dataset\n",
        "df.isna().sum()"
      ],
      "execution_count": null,
      "outputs": [
        {
          "output_type": "execute_result",
          "data": {
            "text/plain": [
              "username        0\n",
              "hours           0\n",
              "product_id      0\n",
              "date            0\n",
              "publisher       0\n",
              "genres          0\n",
              "app_name        0\n",
              "title           0\n",
              "release_date    0\n",
              "tags            0\n",
              "price           0\n",
              "developer       0\n",
              "sentiment       0\n",
              "metascore       0\n",
              "dtype: int64"
            ]
          },
          "metadata": {},
          "execution_count": 51
        }
      ]
    },
    {
      "cell_type": "code",
      "metadata": {
        "id": "vH4Ucm1FEhit"
      },
      "source": [
        "# #Guardamos el dataset unico\n",
        "# if True:\n",
        "#     df.to_csv('/content/drive/MyDrive/data science/sprint project 3/df2.csv', index= False)"
      ],
      "execution_count": null,
      "outputs": []
    },
    {
      "cell_type": "code",
      "metadata": {
        "id": "4lLepQnvGCZC"
      },
      "source": [
        "# Importamos el dataset modificado\n",
        "df2 = pd.read_csv('/content/drive/MyDrive/data science/sprint project 3/df2.csv')"
      ],
      "execution_count": null,
      "outputs": []
    },
    {
      "cell_type": "code",
      "metadata": {
        "id": "xXhw86JIGEmt",
        "colab": {
          "base_uri": "https://localhost:8080/",
          "height": 553
        },
        "outputId": "4a0dd56a-0fc0-4b43-b3e6-ee4d4e87912c"
      },
      "source": [
        "# Visualizando las 5 primeras instancias del dataset procesado\n",
        "df2.head()"
      ],
      "execution_count": null,
      "outputs": [
        {
          "output_type": "execute_result",
          "data": {
            "text/html": [
              "<div>\n",
              "<style scoped>\n",
              "    .dataframe tbody tr th:only-of-type {\n",
              "        vertical-align: middle;\n",
              "    }\n",
              "\n",
              "    .dataframe tbody tr th {\n",
              "        vertical-align: top;\n",
              "    }\n",
              "\n",
              "    .dataframe thead th {\n",
              "        text-align: right;\n",
              "    }\n",
              "</style>\n",
              "<table border=\"1\" class=\"dataframe\">\n",
              "  <thead>\n",
              "    <tr style=\"text-align: right;\">\n",
              "      <th></th>\n",
              "      <th>username</th>\n",
              "      <th>hours</th>\n",
              "      <th>product_id</th>\n",
              "      <th>date</th>\n",
              "      <th>publisher</th>\n",
              "      <th>genres</th>\n",
              "      <th>app_name</th>\n",
              "      <th>title</th>\n",
              "      <th>release_date</th>\n",
              "      <th>tags</th>\n",
              "      <th>price</th>\n",
              "      <th>developer</th>\n",
              "      <th>sentiment</th>\n",
              "      <th>metascore</th>\n",
              "    </tr>\n",
              "  </thead>\n",
              "  <tbody>\n",
              "    <tr>\n",
              "      <th>0</th>\n",
              "      <td>the_maker988</td>\n",
              "      <td>8</td>\n",
              "      <td>68</td>\n",
              "      <td>2018-01-02</td>\n",
              "      <td>Warner Bros. Interactive Entertainment, Feral ...</td>\n",
              "      <td>['Action', 'Adventure']</td>\n",
              "      <td>Batman: Arkham Asylum Game of the Year Edition</td>\n",
              "      <td>Batman: Arkham Asylum Game of the Year Edition</td>\n",
              "      <td>2010-03-26</td>\n",
              "      <td>['Action', 'Batman', 'Stealth', 'Adventure', '...</td>\n",
              "      <td>19.99</td>\n",
              "      <td>Rocksteady Studios,Feral Interactive (Mac)</td>\n",
              "      <td>Overwhelmingly Positive</td>\n",
              "      <td>91</td>\n",
              "    </tr>\n",
              "    <tr>\n",
              "      <th>1</th>\n",
              "      <td>MLGarbage</td>\n",
              "      <td>9</td>\n",
              "      <td>68</td>\n",
              "      <td>2018-01-02</td>\n",
              "      <td>Warner Bros. Interactive Entertainment, Feral ...</td>\n",
              "      <td>['Action', 'Adventure']</td>\n",
              "      <td>Batman: Arkham Asylum Game of the Year Edition</td>\n",
              "      <td>Batman: Arkham Asylum Game of the Year Edition</td>\n",
              "      <td>2010-03-26</td>\n",
              "      <td>['Action', 'Batman', 'Stealth', 'Adventure', '...</td>\n",
              "      <td>19.99</td>\n",
              "      <td>Rocksteady Studios,Feral Interactive (Mac)</td>\n",
              "      <td>Overwhelmingly Positive</td>\n",
              "      <td>91</td>\n",
              "    </tr>\n",
              "    <tr>\n",
              "      <th>2</th>\n",
              "      <td>Brookie</td>\n",
              "      <td>16</td>\n",
              "      <td>68</td>\n",
              "      <td>2017-12-31</td>\n",
              "      <td>Warner Bros. Interactive Entertainment, Feral ...</td>\n",
              "      <td>['Action', 'Adventure']</td>\n",
              "      <td>Batman: Arkham Asylum Game of the Year Edition</td>\n",
              "      <td>Batman: Arkham Asylum Game of the Year Edition</td>\n",
              "      <td>2010-03-26</td>\n",
              "      <td>['Action', 'Batman', 'Stealth', 'Adventure', '...</td>\n",
              "      <td>19.99</td>\n",
              "      <td>Rocksteady Studios,Feral Interactive (Mac)</td>\n",
              "      <td>Overwhelmingly Positive</td>\n",
              "      <td>91</td>\n",
              "    </tr>\n",
              "    <tr>\n",
              "      <th>3</th>\n",
              "      <td>anotherphysicsgradstudent</td>\n",
              "      <td>56</td>\n",
              "      <td>68</td>\n",
              "      <td>2017-12-31</td>\n",
              "      <td>Warner Bros. Interactive Entertainment, Feral ...</td>\n",
              "      <td>['Action', 'Adventure']</td>\n",
              "      <td>Batman: Arkham Asylum Game of the Year Edition</td>\n",
              "      <td>Batman: Arkham Asylum Game of the Year Edition</td>\n",
              "      <td>2010-03-26</td>\n",
              "      <td>['Action', 'Batman', 'Stealth', 'Adventure', '...</td>\n",
              "      <td>19.99</td>\n",
              "      <td>Rocksteady Studios,Feral Interactive (Mac)</td>\n",
              "      <td>Overwhelmingly Positive</td>\n",
              "      <td>91</td>\n",
              "    </tr>\n",
              "    <tr>\n",
              "      <th>4</th>\n",
              "      <td>BouncedBadger123</td>\n",
              "      <td>54</td>\n",
              "      <td>68</td>\n",
              "      <td>2017-12-29</td>\n",
              "      <td>Warner Bros. Interactive Entertainment, Feral ...</td>\n",
              "      <td>['Action', 'Adventure']</td>\n",
              "      <td>Batman: Arkham Asylum Game of the Year Edition</td>\n",
              "      <td>Batman: Arkham Asylum Game of the Year Edition</td>\n",
              "      <td>2010-03-26</td>\n",
              "      <td>['Action', 'Batman', 'Stealth', 'Adventure', '...</td>\n",
              "      <td>19.99</td>\n",
              "      <td>Rocksteady Studios,Feral Interactive (Mac)</td>\n",
              "      <td>Overwhelmingly Positive</td>\n",
              "      <td>91</td>\n",
              "    </tr>\n",
              "  </tbody>\n",
              "</table>\n",
              "</div>"
            ],
            "text/plain": [
              "                    username  hours  ...                sentiment metascore\n",
              "0               the_maker988      8  ...  Overwhelmingly Positive        91\n",
              "1                  MLGarbage      9  ...  Overwhelmingly Positive        91\n",
              "2                    Brookie     16  ...  Overwhelmingly Positive        91\n",
              "3  anotherphysicsgradstudent     56  ...  Overwhelmingly Positive        91\n",
              "4           BouncedBadger123     54  ...  Overwhelmingly Positive        91\n",
              "\n",
              "[5 rows x 14 columns]"
            ]
          },
          "metadata": {},
          "execution_count": 55
        }
      ]
    },
    {
      "cell_type": "code",
      "metadata": {
        "id": "lw9orM9vGHBt",
        "colab": {
          "base_uri": "https://localhost:8080/"
        },
        "outputId": "a1321f2d-64e5-4146-c77c-fc5a7f1d0f76"
      },
      "source": [
        "# Forma del dataset\n",
        "df2.shape"
      ],
      "execution_count": null,
      "outputs": [
        {
          "output_type": "execute_result",
          "data": {
            "text/plain": [
              "(457813, 14)"
            ]
          },
          "metadata": {},
          "execution_count": 56
        }
      ]
    },
    {
      "cell_type": "code",
      "metadata": {
        "id": "fYKIy5KR_p-3",
        "colab": {
          "base_uri": "https://localhost:8080/",
          "height": 297
        },
        "outputId": "35deda0a-ec48-46f3-d79e-c61067568ed7"
      },
      "source": [
        "# Grafica de Cantidad de veces que los Usuarios calificaron\n",
        "sns.distplot(df2.username.value_counts())"
      ],
      "execution_count": null,
      "outputs": [
        {
          "output_type": "execute_result",
          "data": {
            "text/plain": [
              "<matplotlib.axes._subplots.AxesSubplot at 0x7f79641ca950>"
            ]
          },
          "metadata": {},
          "execution_count": 57
        },
        {
          "output_type": "display_data",
          "data": {
            "image/png": "[encoded data removed]",
            "text/plain": [
              "<Figure size 432x288 with 1 Axes>"
            ]
          },
          "metadata": {
            "needs_background": "light"
          }
        }
      ]
    },
    {
      "cell_type": "markdown",
      "metadata": {
        "id": "zdn5QbKZ_uBR"
      },
      "source": [
        "Muy pocos usuarios calificaron los juegos"
      ]
    },
    {
      "cell_type": "code",
      "metadata": {
        "id": "NMrwKPZOEgSF",
        "colab": {
          "base_uri": "https://localhost:8080/"
        },
        "outputId": "00e9e992-03ad-48c4-f15d-c7c0fd7bdb7e"
      },
      "source": [
        "# los 10 juegos mas calificados\n",
        "for i in range(9):\n",
        "  print(df2.app_name.value_counts().index[i])"
      ],
      "execution_count": null,
      "outputs": [
        {
          "output_type": "stream",
          "name": "stdout",
          "text": [
            "Team Fortress 2\n",
            "Borderlands 2\n",
            "Fallout 4\n",
            "Grand Theft Auto V\n",
            "Undertale\n",
            "Warframe\n",
            "Portal 2\n",
            "Starbound\n",
            "ARK: Survival Evolved\n"
          ]
        }
      ]
    },
    {
      "cell_type": "code",
      "metadata": {
        "id": "mVvGTwzTIoXp",
        "colab": {
          "base_uri": "https://localhost:8080/"
        },
        "outputId": "6d85b236-353d-40aa-ecf4-d47202b2e0e1"
      },
      "source": [
        "# los 10 juegos menos calificados\n",
        "for i in range(9):\n",
        "  print(df2.app_name.value_counts(ascending=True).index[i])"
      ],
      "execution_count": null,
      "outputs": [
        {
          "output_type": "stream",
          "name": "stdout",
          "text": [
            "Konung 2\n",
            "LUMINES™\n",
            "Talent Not Included\n",
            "Beachhead 2000\n",
            "Elven Legacy: Ranger\n",
            "Attentat 1942\n",
            "Memento Mori 2\n",
            "Hard to Be a God\n",
            "Red Game Without A Great Name\n"
          ]
        }
      ]
    },
    {
      "cell_type": "code",
      "metadata": {
        "id": "I7UG6_3S_G_t",
        "colab": {
          "base_uri": "https://localhost:8080/",
          "height": 301
        },
        "outputId": "15e44623-4719-4f8f-8bdb-eb51083070c2"
      },
      "source": [
        "# Grafica de cantidad de veces que los juegos fueron calificados\n",
        "sns.distplot(df2.app_name.value_counts())"
      ],
      "execution_count": null,
      "outputs": [
        {
          "output_type": "execute_result",
          "data": {
            "text/plain": [
              "<matplotlib.axes._subplots.AxesSubplot at 0x7f795b8bcc90>"
            ]
          },
          "metadata": {},
          "execution_count": 60
        },
        {
          "output_type": "display_data",
          "data": {
            "image/png": "[encoded data removed]",
            "text/plain": [
              "<Figure size 432x288 with 1 Axes>"
            ]
          },
          "metadata": {
            "needs_background": "light"
          }
        }
      ]
    },
    {
      "cell_type": "markdown",
      "metadata": {
        "id": "koAOx0IQ_UBd"
      },
      "source": [
        "Pocos juegos fueron calificados"
      ]
    },
    {
      "cell_type": "code",
      "metadata": {
        "id": "fTtPfn6Hv7i_",
        "colab": {
          "base_uri": "https://localhost:8080/"
        },
        "outputId": "daf50494-4c83-422c-dc49-e3e877cca4d1"
      },
      "source": [
        "# Cantidad de usuarios unicos\n",
        "df2.username.nunique()"
      ],
      "execution_count": null,
      "outputs": [
        {
          "output_type": "execute_result",
          "data": {
            "text/plain": [
              "344506"
            ]
          },
          "metadata": {},
          "execution_count": 61
        }
      ]
    },
    {
      "cell_type": "code",
      "metadata": {
        "id": "G2QRMGiowDo3",
        "colab": {
          "base_uri": "https://localhost:8080/"
        },
        "outputId": "ce227b81-c25c-4cf4-fff6-2c40da81ad9b"
      },
      "source": [
        "# Cantidad de juegos unicos\n",
        "df2.app_name.nunique()"
      ],
      "execution_count": null,
      "outputs": [
        {
          "output_type": "execute_result",
          "data": {
            "text/plain": [
              "2389"
            ]
          },
          "metadata": {},
          "execution_count": 62
        }
      ]
    },
    {
      "cell_type": "code",
      "metadata": {
        "id": "HcIDDXHZwPh3",
        "colab": {
          "base_uri": "https://localhost:8080/"
        },
        "outputId": "87855bbf-4187-4ee7-925a-15a8d08f28f4"
      },
      "source": [
        "# Calificacion de los usuarios\n",
        "df2.sentiment.value_counts()"
      ],
      "execution_count": null,
      "outputs": [
        {
          "output_type": "execute_result",
          "data": {
            "text/plain": [
              "Very Positive              245842\n",
              "Overwhelmingly Positive    107929\n",
              "Mixed                       52568\n",
              "Mostly Positive             47564\n",
              "Mostly Negative              2922\n",
              "Positive                      510\n",
              "Overwhelmingly Negative       318\n",
              "Very Negative                  86\n",
              "2 user reviews                 18\n",
              "8 user reviews                 12\n",
              "Negative                       11\n",
              "7 user reviews                  9\n",
              "9 user reviews                  9\n",
              "5 user reviews                  6\n",
              "4 user reviews                  5\n",
              "6 user reviews                  4\n",
              "Name: sentiment, dtype: int64"
            ]
          },
          "metadata": {},
          "execution_count": 63
        }
      ]
    },
    {
      "cell_type": "markdown",
      "metadata": {
        "id": "1qDzhzsEI9VP"
      },
      "source": [
        "## Outliers"
      ]
    },
    {
      "cell_type": "code",
      "metadata": {
        "id": "BI5u7atCwfwf",
        "colab": {
          "base_uri": "https://localhost:8080/",
          "height": 297
        },
        "outputId": "6c21656a-15b4-4970-90d3-8e7140343d4e"
      },
      "source": [
        "# Graficamos con un boxplot a fin de visualizar los outliers\n",
        "sns.boxplot(df2.hours)"
      ],
      "execution_count": null,
      "outputs": [
        {
          "output_type": "execute_result",
          "data": {
            "text/plain": [
              "<matplotlib.axes._subplots.AxesSubplot at 0x7f795b7e1d50>"
            ]
          },
          "metadata": {},
          "execution_count": 64
        },
        {
          "output_type": "display_data",
          "data": {
            "image/png": "[encoded data removed]",
            "text/plain": [
              "<Figure size 432x288 with 1 Axes>"
            ]
          },
          "metadata": {
            "needs_background": "light"
          }
        }
      ]
    },
    {
      "cell_type": "code",
      "metadata": {
        "id": "J3QTSr3lSbtG",
        "colab": {
          "base_uri": "https://localhost:8080/"
        },
        "outputId": "d46753e9-ab59-44e8-8d49-e4a1c9f2446b"
      },
      "source": [
        "# Eliminamos los outliers de las horas jugadas\n",
        "valor_medio = df2['hours'].mean()\n",
        "std = df2['hours'].std()\n",
        "minimo = valor_medio - 3*std\n",
        "maximo = valor_medio + 3*std\n",
        "mascara_outliers = np.logical_or(df2['hours'] < minimo, df2['hours'] > maximo)\n",
        "print(valor_medio, std, minimo, maximo)"
      ],
      "execution_count": null,
      "outputs": [
        {
          "output_type": "stream",
          "name": "stdout",
          "text": [
            "16.041165279273415 44.596319745687964 -117.74779395779048 149.83012451633732\n"
          ]
        }
      ]
    },
    {
      "cell_type": "code",
      "metadata": {
        "id": "FzQOe4EJSt1q",
        "colab": {
          "base_uri": "https://localhost:8080/"
        },
        "outputId": "24658a2a-61c6-4b79-fc0a-dffb3b1f7d13"
      },
      "source": [
        "# Sacamos los valores donde contienen horas negativas\n",
        "df2 = df2[~mascara_outliers]\n",
        "df2 = df2[df2.hours >=0]\n",
        "df2['hours'].describe()"
      ],
      "execution_count": null,
      "outputs": [
        {
          "output_type": "execute_result",
          "data": {
            "text/plain": [
              "count    406538.000000\n",
              "mean         27.249374\n",
              "std          30.770908\n",
              "min           0.000000\n",
              "25%           5.000000\n",
              "50%          15.000000\n",
              "75%          39.000000\n",
              "max         127.000000\n",
              "Name: hours, dtype: float64"
            ]
          },
          "metadata": {},
          "execution_count": 66
        }
      ]
    },
    {
      "cell_type": "code",
      "metadata": {
        "id": "OCzlzGHSVS8A",
        "colab": {
          "base_uri": "https://localhost:8080/",
          "height": 243
        },
        "outputId": "7ee66658-119c-4999-9f0d-2068a292d1f1"
      },
      "source": [
        "# Grafica de caja de horas jugadas\n",
        "plt.subplots(figsize=(15,3))\n",
        "sns.boxplot(x=df2[~df2['hours'].isna()]['hours'])"
      ],
      "execution_count": null,
      "outputs": [
        {
          "output_type": "execute_result",
          "data": {
            "text/plain": [
              "<matplotlib.axes._subplots.AxesSubplot at 0x7f795b747650>"
            ]
          },
          "metadata": {},
          "execution_count": 67
        },
        {
          "output_type": "display_data",
          "data": {
            "image/png": "[encoded data removed]",
            "text/plain": [
              "<Figure size 1080x216 with 1 Axes>"
            ]
          },
          "metadata": {
            "needs_background": "light"
          }
        }
      ]
    },
    {
      "cell_type": "code",
      "metadata": {
        "id": "Z7_WULl_I78E",
        "colab": {
          "base_uri": "https://localhost:8080/",
          "height": 297
        },
        "outputId": "8299511f-cdb1-4820-9928-8c8c18d16932"
      },
      "source": [
        "# Graficamos el metascore\n",
        "sns.boxplot(df2.metascore)"
      ],
      "execution_count": null,
      "outputs": [
        {
          "output_type": "execute_result",
          "data": {
            "text/plain": [
              "<matplotlib.axes._subplots.AxesSubplot at 0x7f795b6cb110>"
            ]
          },
          "metadata": {},
          "execution_count": 68
        },
        {
          "output_type": "display_data",
          "data": {
            "image/png": "[encoded data removed]",
            "text/plain": [
              "<Figure size 432x288 with 1 Axes>"
            ]
          },
          "metadata": {
            "needs_background": "light"
          }
        }
      ]
    },
    {
      "cell_type": "code",
      "metadata": {
        "id": "Q_hgy-ljWQAS"
      },
      "source": [
        "# Reemplazamos los na por np.nan\n",
        "df2.metascore = df2.metascore.replace(['NA'],np.nan)"
      ],
      "execution_count": null,
      "outputs": []
    },
    {
      "cell_type": "code",
      "metadata": {
        "id": "bq7KeOU8Wf-D",
        "colab": {
          "base_uri": "https://localhost:8080/",
          "height": 501
        },
        "outputId": "93a9110e-556d-419d-b8bc-8234db9bb846"
      },
      "source": [
        "# grafica de distribucion de metascore\n",
        "plt.subplots(figsize=(15,8))\n",
        "sns.distplot(df2.metascore.values)"
      ],
      "execution_count": null,
      "outputs": [
        {
          "output_type": "execute_result",
          "data": {
            "text/plain": [
              "<matplotlib.axes._subplots.AxesSubplot at 0x7f795b6482d0>"
            ]
          },
          "metadata": {},
          "execution_count": 70
        },
        {
          "output_type": "display_data",
          "data": {
            "image/png": "[encoded data removed]",
            "text/plain": [
              "<Figure size 1080x576 with 1 Axes>"
            ]
          },
          "metadata": {
            "needs_background": "light"
          }
        }
      ]
    },
    {
      "cell_type": "code",
      "metadata": {
        "id": "pQ778L6PWUkH",
        "colab": {
          "base_uri": "https://localhost:8080/"
        },
        "outputId": "b646862a-04c0-4f6c-8f91-398fa36d36fd"
      },
      "source": [
        "df2.metascore.describe()"
      ],
      "execution_count": null,
      "outputs": [
        {
          "output_type": "execute_result",
          "data": {
            "text/plain": [
              "count    406538.000000\n",
              "mean         79.409246\n",
              "std           9.808326\n",
              "min          20.000000\n",
              "25%          74.000000\n",
              "50%          81.000000\n",
              "75%          86.000000\n",
              "max          96.000000\n",
              "Name: metascore, dtype: float64"
            ]
          },
          "metadata": {},
          "execution_count": 71
        }
      ]
    },
    {
      "cell_type": "code",
      "metadata": {
        "id": "fSFlLyM7Z4yj",
        "colab": {
          "base_uri": "https://localhost:8080/"
        },
        "outputId": "17b5a23d-04ba-498f-fb3e-39872c901801"
      },
      "source": [
        "# Precio de los juegos\n",
        "df2.price"
      ],
      "execution_count": null,
      "outputs": [
        {
          "output_type": "execute_result",
          "data": {
            "text/plain": [
              "0         19.99\n",
              "1         19.99\n",
              "2         19.99\n",
              "3         19.99\n",
              "4         19.99\n",
              "          ...  \n",
              "457808     4.99\n",
              "457809     4.99\n",
              "457810     4.99\n",
              "457811     4.99\n",
              "457812     4.99\n",
              "Name: price, Length: 406538, dtype: object"
            ]
          },
          "metadata": {},
          "execution_count": 72
        }
      ]
    },
    {
      "cell_type": "code",
      "metadata": {
        "id": "KrBHT0-7ZX-i"
      },
      "source": [
        "# Convertimos a numericos los valores de feature price\n",
        "df2.price = pd.to_numeric(df2.price, errors='coerce').fillna(0).astype(np.float64)"
      ],
      "execution_count": null,
      "outputs": []
    },
    {
      "cell_type": "code",
      "metadata": {
        "id": "U9Tqgd0LRpyp",
        "colab": {
          "base_uri": "https://localhost:8080/"
        },
        "outputId": "41c30f0a-e5d5-485a-926a-be42c9bd32dd"
      },
      "source": [
        "df2.price"
      ],
      "execution_count": null,
      "outputs": [
        {
          "output_type": "execute_result",
          "data": {
            "text/plain": [
              "0         19.99\n",
              "1         19.99\n",
              "2         19.99\n",
              "3         19.99\n",
              "4         19.99\n",
              "          ...  \n",
              "457808     4.99\n",
              "457809     4.99\n",
              "457810     4.99\n",
              "457811     4.99\n",
              "457812     4.99\n",
              "Name: price, Length: 406538, dtype: float64"
            ]
          },
          "metadata": {},
          "execution_count": 74
        }
      ]
    },
    {
      "cell_type": "code",
      "metadata": {
        "id": "T73zC5JQRwnJ",
        "colab": {
          "base_uri": "https://localhost:8080/",
          "height": 300
        },
        "outputId": "6304b910-599b-4f93-9acc-84c14856b065"
      },
      "source": [
        "df2.describe()"
      ],
      "execution_count": null,
      "outputs": [
        {
          "output_type": "execute_result",
          "data": {
            "text/html": [
              "<div>\n",
              "<style scoped>\n",
              "    .dataframe tbody tr th:only-of-type {\n",
              "        vertical-align: middle;\n",
              "    }\n",
              "\n",
              "    .dataframe tbody tr th {\n",
              "        vertical-align: top;\n",
              "    }\n",
              "\n",
              "    .dataframe thead th {\n",
              "        text-align: right;\n",
              "    }\n",
              "</style>\n",
              "<table border=\"1\" class=\"dataframe\">\n",
              "  <thead>\n",
              "    <tr style=\"text-align: right;\">\n",
              "      <th></th>\n",
              "      <th>hours</th>\n",
              "      <th>product_id</th>\n",
              "      <th>price</th>\n",
              "      <th>metascore</th>\n",
              "    </tr>\n",
              "  </thead>\n",
              "  <tbody>\n",
              "    <tr>\n",
              "      <th>count</th>\n",
              "      <td>406538.000000</td>\n",
              "      <td>406538.000000</td>\n",
              "      <td>406538.000000</td>\n",
              "      <td>406538.000000</td>\n",
              "    </tr>\n",
              "    <tr>\n",
              "      <th>mean</th>\n",
              "      <td>27.249374</td>\n",
              "      <td>0.874482</td>\n",
              "      <td>19.205695</td>\n",
              "      <td>79.409246</td>\n",
              "    </tr>\n",
              "    <tr>\n",
              "      <th>std</th>\n",
              "      <td>30.770908</td>\n",
              "      <td>72.601755</td>\n",
              "      <td>14.438087</td>\n",
              "      <td>9.808326</td>\n",
              "    </tr>\n",
              "    <tr>\n",
              "      <th>min</th>\n",
              "      <td>0.000000</td>\n",
              "      <td>-128.000000</td>\n",
              "      <td>0.000000</td>\n",
              "      <td>20.000000</td>\n",
              "    </tr>\n",
              "    <tr>\n",
              "      <th>25%</th>\n",
              "      <td>5.000000</td>\n",
              "      <td>-62.000000</td>\n",
              "      <td>9.990000</td>\n",
              "      <td>74.000000</td>\n",
              "    </tr>\n",
              "    <tr>\n",
              "      <th>50%</th>\n",
              "      <td>15.000000</td>\n",
              "      <td>-2.000000</td>\n",
              "      <td>16.990000</td>\n",
              "      <td>81.000000</td>\n",
              "    </tr>\n",
              "    <tr>\n",
              "      <th>75%</th>\n",
              "      <td>39.000000</td>\n",
              "      <td>64.000000</td>\n",
              "      <td>24.990000</td>\n",
              "      <td>86.000000</td>\n",
              "    </tr>\n",
              "    <tr>\n",
              "      <th>max</th>\n",
              "      <td>127.000000</td>\n",
              "      <td>126.000000</td>\n",
              "      <td>87.940000</td>\n",
              "      <td>96.000000</td>\n",
              "    </tr>\n",
              "  </tbody>\n",
              "</table>\n",
              "</div>"
            ],
            "text/plain": [
              "               hours     product_id          price      metascore\n",
              "count  406538.000000  406538.000000  406538.000000  406538.000000\n",
              "mean       27.249374       0.874482      19.205695      79.409246\n",
              "std        30.770908      72.601755      14.438087       9.808326\n",
              "min         0.000000    -128.000000       0.000000      20.000000\n",
              "25%         5.000000     -62.000000       9.990000      74.000000\n",
              "50%        15.000000      -2.000000      16.990000      81.000000\n",
              "75%        39.000000      64.000000      24.990000      86.000000\n",
              "max       127.000000     126.000000      87.940000      96.000000"
            ]
          },
          "metadata": {},
          "execution_count": 75
        }
      ]
    },
    {
      "cell_type": "code",
      "metadata": {
        "id": "9zWmc3IASB35",
        "colab": {
          "base_uri": "https://localhost:8080/",
          "height": 297
        },
        "outputId": "5c6255c7-3854-4762-cadf-b5fbc2cf8204"
      },
      "source": [
        "# Grafica de caja de los precios\n",
        "sns.boxplot(df2.price)"
      ],
      "execution_count": null,
      "outputs": [
        {
          "output_type": "execute_result",
          "data": {
            "text/plain": [
              "<matplotlib.axes._subplots.AxesSubplot at 0x7f795b55fcd0>"
            ]
          },
          "metadata": {},
          "execution_count": 76
        },
        {
          "output_type": "display_data",
          "data": {
            "image/png": "[encoded data removed]",
            "text/plain": [
              "<Figure size 432x288 with 1 Axes>"
            ]
          },
          "metadata": {
            "needs_background": "light"
          }
        }
      ]
    },
    {
      "cell_type": "code",
      "metadata": {
        "id": "7Xn0n4uIhIbP",
        "colab": {
          "base_uri": "https://localhost:8080/",
          "height": 352
        },
        "outputId": "4c141ebf-c61e-4af2-ba14-b0594b052c7c"
      },
      "source": [
        "# Grafica de precios de juegos\n",
        "fig, ax = plt.subplots(figsize=(15,5))\n",
        "ax = sns.distplot(df2.price)\n",
        "ax.set_xlabel('Precio (USD)')\n",
        "ax.set_ylabel('Frecuencia por bins')"
      ],
      "execution_count": null,
      "outputs": [
        {
          "output_type": "execute_result",
          "data": {
            "text/plain": [
              "Text(0, 0.5, 'Frecuencia por bins')"
            ]
          },
          "metadata": {},
          "execution_count": 77
        },
        {
          "output_type": "display_data",
          "data": {
            "image/png": "[encoded data removed]",
            "text/plain": [
              "<Figure size 1080x360 with 1 Axes>"
            ]
          },
          "metadata": {
            "needs_background": "light"
          }
        }
      ]
    },
    {
      "cell_type": "code",
      "metadata": {
        "id": "V9wvwDARgYoA"
      },
      "source": [
        "if True:\n",
        "    df2.to_csv('/content/drive/MyDrive/data science/sprint project 3/df3.csv', index= False)"
      ],
      "execution_count": null,
      "outputs": []
    },
    {
      "cell_type": "code",
      "metadata": {
        "id": "Y2TGaS2ygpLF"
      },
      "source": [
        "# Importamos el dataset modificado\n",
        "df3 = pd.read_csv('/content/drive/MyDrive/data science/sprint project 3/df3.csv')"
      ],
      "execution_count": null,
      "outputs": []
    },
    {
      "cell_type": "code",
      "metadata": {
        "id": "qvG3dM3rhHgy",
        "colab": {
          "base_uri": "https://localhost:8080/",
          "height": 466
        },
        "outputId": "c7873df4-1bb9-421e-f0bb-e3b91413a470"
      },
      "source": [
        "df3.head(5)"
      ],
      "execution_count": null,
      "outputs": [
        {
          "output_type": "execute_result",
          "data": {
            "text/html": [
              "<div>\n",
              "<style scoped>\n",
              "    .dataframe tbody tr th:only-of-type {\n",
              "        vertical-align: middle;\n",
              "    }\n",
              "\n",
              "    .dataframe tbody tr th {\n",
              "        vertical-align: top;\n",
              "    }\n",
              "\n",
              "    .dataframe thead th {\n",
              "        text-align: right;\n",
              "    }\n",
              "</style>\n",
              "<table border=\"1\" class=\"dataframe\">\n",
              "  <thead>\n",
              "    <tr style=\"text-align: right;\">\n",
              "      <th></th>\n",
              "      <th>username</th>\n",
              "      <th>hours</th>\n",
              "      <th>product_id</th>\n",
              "      <th>date</th>\n",
              "      <th>publisher</th>\n",
              "      <th>genres</th>\n",
              "      <th>app_name</th>\n",
              "      <th>title</th>\n",
              "      <th>release_date</th>\n",
              "      <th>tags</th>\n",
              "      <th>price</th>\n",
              "      <th>developer</th>\n",
              "      <th>sentiment</th>\n",
              "      <th>metascore</th>\n",
              "    </tr>\n",
              "  </thead>\n",
              "  <tbody>\n",
              "    <tr>\n",
              "      <th>0</th>\n",
              "      <td>the_maker988</td>\n",
              "      <td>8</td>\n",
              "      <td>68</td>\n",
              "      <td>2018-01-02</td>\n",
              "      <td>Warner Bros. Interactive Entertainment, Feral ...</td>\n",
              "      <td>['Action', 'Adventure']</td>\n",
              "      <td>Batman: Arkham Asylum Game of the Year Edition</td>\n",
              "      <td>Batman: Arkham Asylum Game of the Year Edition</td>\n",
              "      <td>2010-03-26</td>\n",
              "      <td>['Action', 'Batman', 'Stealth', 'Adventure', '...</td>\n",
              "      <td>19.99</td>\n",
              "      <td>Rocksteady Studios,Feral Interactive (Mac)</td>\n",
              "      <td>Overwhelmingly Positive</td>\n",
              "      <td>91</td>\n",
              "    </tr>\n",
              "    <tr>\n",
              "      <th>1</th>\n",
              "      <td>MLGarbage</td>\n",
              "      <td>9</td>\n",
              "      <td>68</td>\n",
              "      <td>2018-01-02</td>\n",
              "      <td>Warner Bros. Interactive Entertainment, Feral ...</td>\n",
              "      <td>['Action', 'Adventure']</td>\n",
              "      <td>Batman: Arkham Asylum Game of the Year Edition</td>\n",
              "      <td>Batman: Arkham Asylum Game of the Year Edition</td>\n",
              "      <td>2010-03-26</td>\n",
              "      <td>['Action', 'Batman', 'Stealth', 'Adventure', '...</td>\n",
              "      <td>19.99</td>\n",
              "      <td>Rocksteady Studios,Feral Interactive (Mac)</td>\n",
              "      <td>Overwhelmingly Positive</td>\n",
              "      <td>91</td>\n",
              "    </tr>\n",
              "    <tr>\n",
              "      <th>2</th>\n",
              "      <td>Brookie</td>\n",
              "      <td>16</td>\n",
              "      <td>68</td>\n",
              "      <td>2017-12-31</td>\n",
              "      <td>Warner Bros. Interactive Entertainment, Feral ...</td>\n",
              "      <td>['Action', 'Adventure']</td>\n",
              "      <td>Batman: Arkham Asylum Game of the Year Edition</td>\n",
              "      <td>Batman: Arkham Asylum Game of the Year Edition</td>\n",
              "      <td>2010-03-26</td>\n",
              "      <td>['Action', 'Batman', 'Stealth', 'Adventure', '...</td>\n",
              "      <td>19.99</td>\n",
              "      <td>Rocksteady Studios,Feral Interactive (Mac)</td>\n",
              "      <td>Overwhelmingly Positive</td>\n",
              "      <td>91</td>\n",
              "    </tr>\n",
              "    <tr>\n",
              "      <th>3</th>\n",
              "      <td>anotherphysicsgradstudent</td>\n",
              "      <td>56</td>\n",
              "      <td>68</td>\n",
              "      <td>2017-12-31</td>\n",
              "      <td>Warner Bros. Interactive Entertainment, Feral ...</td>\n",
              "      <td>['Action', 'Adventure']</td>\n",
              "      <td>Batman: Arkham Asylum Game of the Year Edition</td>\n",
              "      <td>Batman: Arkham Asylum Game of the Year Edition</td>\n",
              "      <td>2010-03-26</td>\n",
              "      <td>['Action', 'Batman', 'Stealth', 'Adventure', '...</td>\n",
              "      <td>19.99</td>\n",
              "      <td>Rocksteady Studios,Feral Interactive (Mac)</td>\n",
              "      <td>Overwhelmingly Positive</td>\n",
              "      <td>91</td>\n",
              "    </tr>\n",
              "    <tr>\n",
              "      <th>4</th>\n",
              "      <td>BouncedBadger123</td>\n",
              "      <td>54</td>\n",
              "      <td>68</td>\n",
              "      <td>2017-12-29</td>\n",
              "      <td>Warner Bros. Interactive Entertainment, Feral ...</td>\n",
              "      <td>['Action', 'Adventure']</td>\n",
              "      <td>Batman: Arkham Asylum Game of the Year Edition</td>\n",
              "      <td>Batman: Arkham Asylum Game of the Year Edition</td>\n",
              "      <td>2010-03-26</td>\n",
              "      <td>['Action', 'Batman', 'Stealth', 'Adventure', '...</td>\n",
              "      <td>19.99</td>\n",
              "      <td>Rocksteady Studios,Feral Interactive (Mac)</td>\n",
              "      <td>Overwhelmingly Positive</td>\n",
              "      <td>91</td>\n",
              "    </tr>\n",
              "  </tbody>\n",
              "</table>\n",
              "</div>"
            ],
            "text/plain": [
              "                    username  hours  ...                sentiment metascore\n",
              "0               the_maker988      8  ...  Overwhelmingly Positive        91\n",
              "1                  MLGarbage      9  ...  Overwhelmingly Positive        91\n",
              "2                    Brookie     16  ...  Overwhelmingly Positive        91\n",
              "3  anotherphysicsgradstudent     56  ...  Overwhelmingly Positive        91\n",
              "4           BouncedBadger123     54  ...  Overwhelmingly Positive        91\n",
              "\n",
              "[5 rows x 14 columns]"
            ]
          },
          "metadata": {},
          "execution_count": 70
        }
      ]
    },
    {
      "cell_type": "markdown",
      "metadata": {
        "id": "dj_EBM004sxX"
      },
      "source": [
        "# Parte B - Modelo de Machine Learning\n",
        "# Entrenamiento de modelos de sistema de recomendación\n",
        "\n",
        "Para entrenar el sistema de recomendación vamos a usar la biblioteca Surprise. \n",
        "El objetivo del entrenamiento del modelo es desarrollar un algoritmo que pueda predecir el feature target (usualmente relacionado con el rating o calificación de satisfacción según usuarios) para usuarios e items (juegos) que no tengan un rating asignado a su respectiva combinación."
      ]
    },
    {
      "cell_type": "code",
      "metadata": {
        "id": "cAlxXYSGxvAW"
      },
      "source": [
        "# Importamos las librerias basicas\n",
        "import numpy as np\n",
        "import pandas as pd\n",
        "import seaborn as sns\n",
        "import matplotlib.pyplot as plt\n",
        "import warnings\n",
        "warnings.filterwarnings('ignore')\n",
        "import time"
      ],
      "execution_count": null,
      "outputs": []
    },
    {
      "cell_type": "code",
      "metadata": {
        "id": "SEySJpHYx7vP",
        "colab": {
          "base_uri": "https://localhost:8080/"
        },
        "outputId": "3abfc952-e0a0-492c-82a1-74a221005ae5"
      },
      "source": [
        "from google.colab import drive\n",
        "drive.mount('/content/drive')"
      ],
      "execution_count": null,
      "outputs": [
        {
          "output_type": "stream",
          "name": "stdout",
          "text": [
            "Drive already mounted at /content/drive; to attempt to forcibly remount, call drive.mount(\"/content/drive\", force_remount=True).\n"
          ]
        }
      ]
    },
    {
      "cell_type": "code",
      "metadata": {
        "id": "jCeasoTJxk23"
      },
      "source": [
        "#@title\n",
        "# Importamos el dataset modificado\n",
        "df3 = pd.read_csv('/content/drive/MyDrive/data science/sprint project 3/df3.csv')"
      ],
      "execution_count": null,
      "outputs": []
    },
    {
      "cell_type": "code",
      "metadata": {
        "id": "c32mlr_T6zu4",
        "colab": {
          "base_uri": "https://localhost:8080/"
        },
        "outputId": "bd3b20b1-25a2-4a5b-8a71-e6d81c256eae"
      },
      "source": [
        "# Importamos librerias\n",
        "!pip install surprise"
      ],
      "execution_count": null,
      "outputs": [
        {
          "output_type": "stream",
          "name": "stdout",
          "text": [
            "Requirement already satisfied: surprise in /usr/local/lib/python3.7/dist-packages (0.1)\n",
            "Requirement already satisfied: scikit-surprise in /usr/local/lib/python3.7/dist-packages (from surprise) (1.1.1)\n",
            "Requirement already satisfied: numpy>=1.11.2 in /usr/local/lib/python3.7/dist-packages (from scikit-surprise->surprise) (1.19.5)\n",
            "Requirement already satisfied: joblib>=0.11 in /usr/local/lib/python3.7/dist-packages (from scikit-surprise->surprise) (1.1.0)\n",
            "Requirement already satisfied: six>=1.10.0 in /usr/local/lib/python3.7/dist-packages (from scikit-surprise->surprise) (1.15.0)\n",
            "Requirement already satisfied: scipy>=1.0.0 in /usr/local/lib/python3.7/dist-packages (from scikit-surprise->surprise) (1.4.1)\n"
          ]
        }
      ]
    },
    {
      "cell_type": "code",
      "metadata": {
        "id": "F_sLTExlu1zT"
      },
      "source": [
        "from surprise import Dataset\n",
        "from surprise import Reader\n",
        "from surprise.model_selection import train_test_split\n",
        "from surprise import accuracy\n",
        "from surprise.model_selection import KFold\n",
        "from surprise import NormalPredictor\n",
        "from surprise.model_selection import cross_validate\n",
        "from surprise.model_selection import GridSearchCV\n",
        "from surprise import SVD"
      ],
      "execution_count": null,
      "outputs": []
    },
    {
      "cell_type": "markdown",
      "metadata": {
        "id": "rGud6eKu6gfk"
      },
      "source": [
        "- El target a utilizar sera el feature metascore, ya que se asimila al rating de cada juego"
      ]
    },
    {
      "cell_type": "code",
      "metadata": {
        "id": "ljMY_YHY4Ho7",
        "colab": {
          "base_uri": "https://localhost:8080/"
        },
        "outputId": "e82fac28-dbcc-43fb-f45b-17db7b64b01b"
      },
      "source": [
        "# La clase Reader se usa para analizar un archivo que contiene calificaciones. \n",
        "# Se supone que dicho archivo especifica solo una calificación por línea, \n",
        "# y cada línea debe respetar la siguiente estructura: user ; item ; rating ; [timestamp]\n",
        "# Parametrizamos el modelo para que el rating se interprete como una cantidad que puede variar entre 1 y 100.\n",
        "\n",
        "reader = Reader(rating_scale=(1, 100))\n",
        "\n",
        "# Cargamos los datos según indica la librería Surprise, en el dataset \"data\"\n",
        "\n",
        "data = Dataset.load_from_df(df3[['username', 'product_id', 'metascore']], reader)\n",
        "data"
      ],
      "execution_count": null,
      "outputs": [
        {
          "output_type": "execute_result",
          "data": {
            "text/plain": [
              "<surprise.dataset.DatasetAutoFolds at 0x7f2ebbd52150>"
            ]
          },
          "metadata": {},
          "execution_count": 17
        }
      ]
    },
    {
      "cell_type": "code",
      "metadata": {
        "id": "icgy1A54PumK",
        "colab": {
          "base_uri": "https://localhost:8080/"
        },
        "outputId": "615ea4ad-4346-4e9d-f886-cd9ce51c8ceb"
      },
      "source": [
        "# Realizamos una separación de train y test del 25%\n",
        "\n",
        "trainset, testset = train_test_split(data, test_size=.25)\n",
        "print(trainset)"
      ],
      "execution_count": null,
      "outputs": [
        {
          "output_type": "stream",
          "name": "stdout",
          "text": [
            "<surprise.trainset.Trainset object at 0x7f2ebbd52110>\n"
          ]
        }
      ]
    },
    {
      "cell_type": "markdown",
      "metadata": {
        "id": "vpXF0C9JQEL_"
      },
      "source": [
        "## Benchmark: SVD\n",
        "Entrenaremos sin especificar parámetros un modelo de recomendación basado en el algoritmo de descomposición en valores singulares (SVD). \n",
        "- Este modelo no puede usarse para el enfoque como filtro colaborativo, ya que no mide las similitudes entre usuario pero nos servirá como benchmark."
      ]
    },
    {
      "cell_type": "code",
      "metadata": {
        "id": "w__5-nakPvqM",
        "colab": {
          "base_uri": "https://localhost:8080/"
        },
        "outputId": "038a2b24-c2ab-490e-c5e0-ec961f06e8f9"
      },
      "source": [
        "from surprise import SVD\n",
        "algo = SVD()\n",
        "algo.fit(trainset)"
      ],
      "execution_count": null,
      "outputs": [
        {
          "output_type": "execute_result",
          "data": {
            "text/plain": [
              "<surprise.prediction_algorithms.matrix_factorization.SVD at 0x7f2eb58e0710>"
            ]
          },
          "metadata": {},
          "execution_count": 19
        }
      ]
    },
    {
      "cell_type": "code",
      "metadata": {
        "id": "P7JQcbUWQR37",
        "colab": {
          "base_uri": "https://localhost:8080/"
        },
        "outputId": "57f3d053-d82e-4f4a-844f-b36a8927abb7"
      },
      "source": [
        "predictions = algo.test(testset)\n",
        "predictions[0]"
      ],
      "execution_count": null,
      "outputs": [
        {
          "output_type": "execute_result",
          "data": {
            "text/plain": [
              "Prediction(uid='foxpresident24', iid=-56, r_ui=88.0, est=82.75410285348325, details={'was_impossible': False})"
            ]
          },
          "metadata": {},
          "execution_count": 20
        }
      ]
    },
    {
      "cell_type": "markdown",
      "metadata": {
        "id": "7LjohHw2Qi4d"
      },
      "source": [
        "La variable \"predictions\" contiene las predicciones para cada uno de los usuarios (user_id o uid) y desde ellos, para cada uno de los juegos (product_id o iid).\n",
        "* El ID de usuario (sin formato): uid.\n",
        "* El ID de artículo (sin procesar): iid.\n",
        "* La verdadera calificación: r_ui .\n",
        "* La calificación estimada: est ."
      ]
    },
    {
      "cell_type": "code",
      "metadata": {
        "id": "T8mDU-FpT_-5",
        "colab": {
          "base_uri": "https://localhost:8080/"
        },
        "outputId": "1b8b7e50-4dd5-4c8b-8d1f-8cf9c1813aaf"
      },
      "source": [
        "predictions[0:5]"
      ],
      "execution_count": null,
      "outputs": [
        {
          "output_type": "execute_result",
          "data": {
            "text/plain": [
              "[Prediction(uid='foxpresident24', iid=-56, r_ui=88.0, est=82.75410285348325, details={'was_impossible': False}),\n",
              " Prediction(uid='2B', iid=116, r_ui=80.0, est=87.24593805739065, details={'was_impossible': False}),\n",
              " Prediction(uid='Flintlock', iid=-30, r_ui=90.0, est=82.88533721549017, details={'was_impossible': False}),\n",
              " Prediction(uid='Face Full Of Festive Mann', iid=-84, r_ui=78.0, est=78.06568953480111, details={'was_impossible': False}),\n",
              " Prediction(uid='hindo', iid=84, r_ui=86.0, est=81.46027309197652, details={'was_impossible': False})]"
            ]
          },
          "metadata": {},
          "execution_count": 21
        }
      ]
    },
    {
      "cell_type": "code",
      "metadata": {
        "id": "nunMKJJ1YD-_",
        "colab": {
          "base_uri": "https://localhost:8080/"
        },
        "outputId": "f0556d2d-5ac8-418e-db4a-abc8f0796fff"
      },
      "source": [
        "# Predecimos para un usuario y juego en particular, utilizando el metodo predict\n",
        "algo.predict('Reloaded',52)"
      ],
      "execution_count": null,
      "outputs": [
        {
          "output_type": "execute_result",
          "data": {
            "text/plain": [
              "Prediction(uid='Reloaded', iid=52, r_ui=None, est=78.22894907791581, details={'was_impossible': False})"
            ]
          },
          "metadata": {},
          "execution_count": 22
        }
      ]
    },
    {
      "cell_type": "code",
      "metadata": {
        "id": "k--QoJarZpGc",
        "colab": {
          "base_uri": "https://localhost:8080/"
        },
        "outputId": "e5387226-1b24-439d-d31b-f276272316a6"
      },
      "source": [
        "# Ususario con mayor cantidad de reseñas\n",
        "df3.username.value_counts()"
      ],
      "execution_count": null,
      "outputs": [
        {
          "output_type": "execute_result",
          "data": {
            "text/plain": [
              "123          105\n",
              "Chris         92\n",
              "Alex          86\n",
              "Matt          80\n",
              "John          75\n",
              "            ... \n",
              "matt30060      1\n",
              "Ashi           1\n",
              "YogA           1\n",
              "orhill2        1\n",
              "Voffie         1\n",
              "Name: username, Length: 307267, dtype: int64"
            ]
          },
          "metadata": {},
          "execution_count": 23
        }
      ]
    },
    {
      "cell_type": "code",
      "metadata": {
        "id": "C1UHAzXdZrd1",
        "colab": {
          "base_uri": "https://localhost:8080/",
          "height": 354
        },
        "outputId": "fa962e00-56d7-4243-fde9-b382e1b35870"
      },
      "source": [
        "df3[df3.username=='123'].head(3)"
      ],
      "execution_count": null,
      "outputs": [
        {
          "output_type": "execute_result",
          "data": {
            "text/html": [
              "<div>\n",
              "<style scoped>\n",
              "    .dataframe tbody tr th:only-of-type {\n",
              "        vertical-align: middle;\n",
              "    }\n",
              "\n",
              "    .dataframe tbody tr th {\n",
              "        vertical-align: top;\n",
              "    }\n",
              "\n",
              "    .dataframe thead th {\n",
              "        text-align: right;\n",
              "    }\n",
              "</style>\n",
              "<table border=\"1\" class=\"dataframe\">\n",
              "  <thead>\n",
              "    <tr style=\"text-align: right;\">\n",
              "      <th></th>\n",
              "      <th>username</th>\n",
              "      <th>hours</th>\n",
              "      <th>product_id</th>\n",
              "      <th>date</th>\n",
              "      <th>publisher</th>\n",
              "      <th>genres</th>\n",
              "      <th>app_name</th>\n",
              "      <th>title</th>\n",
              "      <th>release_date</th>\n",
              "      <th>tags</th>\n",
              "      <th>price</th>\n",
              "      <th>developer</th>\n",
              "      <th>sentiment</th>\n",
              "      <th>metascore</th>\n",
              "    </tr>\n",
              "  </thead>\n",
              "  <tbody>\n",
              "    <tr>\n",
              "      <th>2340</th>\n",
              "      <td>123</td>\n",
              "      <td>69</td>\n",
              "      <td>-26</td>\n",
              "      <td>2017-09-15</td>\n",
              "      <td>Rockstar Games</td>\n",
              "      <td>['Action', 'Adventure']</td>\n",
              "      <td>Grand Theft Auto V</td>\n",
              "      <td>Grand Theft Auto V</td>\n",
              "      <td>2015-04-14</td>\n",
              "      <td>['Open World', 'Action', 'Multiplayer', 'First...</td>\n",
              "      <td>39.99</td>\n",
              "      <td>Rockstar North</td>\n",
              "      <td>Mixed</td>\n",
              "      <td>96</td>\n",
              "    </tr>\n",
              "    <tr>\n",
              "      <th>6785</th>\n",
              "      <td>123</td>\n",
              "      <td>26</td>\n",
              "      <td>104</td>\n",
              "      <td>2016-10-07</td>\n",
              "      <td>Square Enix, Feral Interactive (Linux), Feral ...</td>\n",
              "      <td>['Action', 'RPG']</td>\n",
              "      <td>Deus Ex: Mankind Divided</td>\n",
              "      <td>Deus Ex: Mankind Divided</td>\n",
              "      <td>2016-08-23</td>\n",
              "      <td>['Cyberpunk', 'Stealth', 'Action', 'Sci-fi', '...</td>\n",
              "      <td>59.99</td>\n",
              "      <td>Eidos Montreal,Feral Interactive (Linux),Feral...</td>\n",
              "      <td>Mixed</td>\n",
              "      <td>83</td>\n",
              "    </tr>\n",
              "    <tr>\n",
              "      <th>11684</th>\n",
              "      <td>123</td>\n",
              "      <td>34</td>\n",
              "      <td>-120</td>\n",
              "      <td>2017-12-29</td>\n",
              "      <td>Frozenbyte</td>\n",
              "      <td>['Action', 'Adventure', 'Indie']</td>\n",
              "      <td>Trine 2: Complete Story</td>\n",
              "      <td>Trine 2: Complete Story</td>\n",
              "      <td>2013-06-06</td>\n",
              "      <td>['Platformer', 'Adventure', 'Puzzle', 'Fantasy...</td>\n",
              "      <td>19.99</td>\n",
              "      <td>Frozenbyte</td>\n",
              "      <td>Overwhelmingly Positive</td>\n",
              "      <td>84</td>\n",
              "    </tr>\n",
              "  </tbody>\n",
              "</table>\n",
              "</div>"
            ],
            "text/plain": [
              "      username  hours  ...                sentiment metascore\n",
              "2340       123     69  ...                    Mixed        96\n",
              "6785       123     26  ...                    Mixed        83\n",
              "11684      123     34  ...  Overwhelmingly Positive        84\n",
              "\n",
              "[3 rows x 14 columns]"
            ]
          },
          "metadata": {},
          "execution_count": 24
        }
      ]
    },
    {
      "cell_type": "code",
      "metadata": {
        "id": "s7-MFcHcZ8We",
        "colab": {
          "base_uri": "https://localhost:8080/"
        },
        "outputId": "152a83c1-34b9-436f-d062-75671e2ca03a"
      },
      "source": [
        "algo.predict('123',-26)"
      ],
      "execution_count": null,
      "outputs": [
        {
          "output_type": "execute_result",
          "data": {
            "text/plain": [
              "Prediction(uid='123', iid=-26, r_ui=None, est=94.95821822040293, details={'was_impossible': False})"
            ]
          },
          "metadata": {},
          "execution_count": 25
        }
      ]
    },
    {
      "cell_type": "markdown",
      "metadata": {
        "id": "MUDFDFh5aR3t"
      },
      "source": [
        "La predicción anterior significa que para el usuario de id \"123\" y el juego \"-26\" el modelo predice un metascore (rating) de \"94.98\" y tiene 96 de metascore real."
      ]
    },
    {
      "cell_type": "markdown",
      "metadata": {
        "id": "YCgpQqU7o0Hy"
      },
      "source": [
        "Exploramos un usuario, vemos cuáles juegos le gustaron y cuáles recomienda el sistema"
      ]
    },
    {
      "cell_type": "code",
      "metadata": {
        "id": "TQcPC_uNaN7l",
        "colab": {
          "base_uri": "https://localhost:8080/",
          "height": 521
        },
        "outputId": "ed1e896e-943a-48e4-8421-7be302c71552"
      },
      "source": [
        "# Juegos que le gustaron al usuario\n",
        "usuario = '123'\n",
        "df_user = df3[(df3['username'] == usuario) & (df3['metascore'] >= 80.0)]\n",
        "df_user = df_user.reset_index(drop=True)\n",
        "df_user.head()"
      ],
      "execution_count": null,
      "outputs": [
        {
          "output_type": "execute_result",
          "data": {
            "text/html": [
              "<div>\n",
              "<style scoped>\n",
              "    .dataframe tbody tr th:only-of-type {\n",
              "        vertical-align: middle;\n",
              "    }\n",
              "\n",
              "    .dataframe tbody tr th {\n",
              "        vertical-align: top;\n",
              "    }\n",
              "\n",
              "    .dataframe thead th {\n",
              "        text-align: right;\n",
              "    }\n",
              "</style>\n",
              "<table border=\"1\" class=\"dataframe\">\n",
              "  <thead>\n",
              "    <tr style=\"text-align: right;\">\n",
              "      <th></th>\n",
              "      <th>username</th>\n",
              "      <th>hours</th>\n",
              "      <th>product_id</th>\n",
              "      <th>date</th>\n",
              "      <th>publisher</th>\n",
              "      <th>genres</th>\n",
              "      <th>app_name</th>\n",
              "      <th>title</th>\n",
              "      <th>release_date</th>\n",
              "      <th>tags</th>\n",
              "      <th>price</th>\n",
              "      <th>developer</th>\n",
              "      <th>sentiment</th>\n",
              "      <th>metascore</th>\n",
              "    </tr>\n",
              "  </thead>\n",
              "  <tbody>\n",
              "    <tr>\n",
              "      <th>0</th>\n",
              "      <td>123</td>\n",
              "      <td>69</td>\n",
              "      <td>-26</td>\n",
              "      <td>2017-09-15</td>\n",
              "      <td>Rockstar Games</td>\n",
              "      <td>['Action', 'Adventure']</td>\n",
              "      <td>Grand Theft Auto V</td>\n",
              "      <td>Grand Theft Auto V</td>\n",
              "      <td>2015-04-14</td>\n",
              "      <td>['Open World', 'Action', 'Multiplayer', 'First...</td>\n",
              "      <td>39.99</td>\n",
              "      <td>Rockstar North</td>\n",
              "      <td>Mixed</td>\n",
              "      <td>96</td>\n",
              "    </tr>\n",
              "    <tr>\n",
              "      <th>1</th>\n",
              "      <td>123</td>\n",
              "      <td>26</td>\n",
              "      <td>104</td>\n",
              "      <td>2016-10-07</td>\n",
              "      <td>Square Enix, Feral Interactive (Linux), Feral ...</td>\n",
              "      <td>['Action', 'RPG']</td>\n",
              "      <td>Deus Ex: Mankind Divided</td>\n",
              "      <td>Deus Ex: Mankind Divided</td>\n",
              "      <td>2016-08-23</td>\n",
              "      <td>['Cyberpunk', 'Stealth', 'Action', 'Sci-fi', '...</td>\n",
              "      <td>59.99</td>\n",
              "      <td>Eidos Montreal,Feral Interactive (Linux),Feral...</td>\n",
              "      <td>Mixed</td>\n",
              "      <td>83</td>\n",
              "    </tr>\n",
              "    <tr>\n",
              "      <th>2</th>\n",
              "      <td>123</td>\n",
              "      <td>34</td>\n",
              "      <td>-120</td>\n",
              "      <td>2017-12-29</td>\n",
              "      <td>Frozenbyte</td>\n",
              "      <td>['Action', 'Adventure', 'Indie']</td>\n",
              "      <td>Trine 2: Complete Story</td>\n",
              "      <td>Trine 2: Complete Story</td>\n",
              "      <td>2013-06-06</td>\n",
              "      <td>['Platformer', 'Adventure', 'Puzzle', 'Fantasy...</td>\n",
              "      <td>19.99</td>\n",
              "      <td>Frozenbyte</td>\n",
              "      <td>Overwhelmingly Positive</td>\n",
              "      <td>84</td>\n",
              "    </tr>\n",
              "    <tr>\n",
              "      <th>3</th>\n",
              "      <td>123</td>\n",
              "      <td>19</td>\n",
              "      <td>98</td>\n",
              "      <td>2017-12-26</td>\n",
              "      <td>BANDAI NAMCO Entertainment</td>\n",
              "      <td>['Action', 'Sports']</td>\n",
              "      <td>TEKKEN 7</td>\n",
              "      <td>TEKKEN 7</td>\n",
              "      <td>2017-06-01</td>\n",
              "      <td>['Fighting', 'Action', 'Multiplayer', 'Arcade'...</td>\n",
              "      <td>49.99</td>\n",
              "      <td>BANDAI NAMCO Studios Inc.</td>\n",
              "      <td>Very Positive</td>\n",
              "      <td>82</td>\n",
              "    </tr>\n",
              "    <tr>\n",
              "      <th>4</th>\n",
              "      <td>123</td>\n",
              "      <td>66</td>\n",
              "      <td>-8</td>\n",
              "      <td>2016-09-08</td>\n",
              "      <td>Vlambeer</td>\n",
              "      <td>['Action', 'Indie', 'RPG']</td>\n",
              "      <td>Nuclear Throne</td>\n",
              "      <td>Nuclear Throne</td>\n",
              "      <td>2015-12-05</td>\n",
              "      <td>['Rogue-like', 'Indie', 'Action', 'Difficult',...</td>\n",
              "      <td>11.99</td>\n",
              "      <td>Vlambeer</td>\n",
              "      <td>Overwhelmingly Positive</td>\n",
              "      <td>88</td>\n",
              "    </tr>\n",
              "  </tbody>\n",
              "</table>\n",
              "</div>"
            ],
            "text/plain": [
              "  username  hours  ...                sentiment metascore\n",
              "0      123     69  ...                    Mixed        96\n",
              "1      123     26  ...                    Mixed        83\n",
              "2      123     34  ...  Overwhelmingly Positive        84\n",
              "3      123     19  ...            Very Positive        82\n",
              "4      123     66  ...  Overwhelmingly Positive        88\n",
              "\n",
              "[5 rows x 14 columns]"
            ]
          },
          "metadata": {},
          "execution_count": 26
        }
      ]
    },
    {
      "cell_type": "code",
      "metadata": {
        "id": "QOtfScUHoRxW",
        "colab": {
          "base_uri": "https://localhost:8080/",
          "height": 254
        },
        "outputId": "15392e83-61b6-4108-a318-c41c2041426e"
      },
      "source": [
        "# Creamos un dataframe en donde vamos a guardar las recomendaciones\n",
        "recomendaciones_usuario = df_user[['title','product_id']].iloc[:10].copy()\n",
        "recomendaciones_usuario.index = recomendaciones_usuario.product_id\n",
        "recomendaciones_usuario = recomendaciones_usuario.drop(['product_id'], axis=1)\n",
        "print(recomendaciones_usuario.shape)\n",
        "recomendaciones_usuario.head()"
      ],
      "execution_count": null,
      "outputs": [
        {
          "output_type": "stream",
          "name": "stdout",
          "text": [
            "(10, 1)\n"
          ]
        },
        {
          "output_type": "execute_result",
          "data": {
            "text/html": [
              "<div>\n",
              "<style scoped>\n",
              "    .dataframe tbody tr th:only-of-type {\n",
              "        vertical-align: middle;\n",
              "    }\n",
              "\n",
              "    .dataframe tbody tr th {\n",
              "        vertical-align: top;\n",
              "    }\n",
              "\n",
              "    .dataframe thead th {\n",
              "        text-align: right;\n",
              "    }\n",
              "</style>\n",
              "<table border=\"1\" class=\"dataframe\">\n",
              "  <thead>\n",
              "    <tr style=\"text-align: right;\">\n",
              "      <th></th>\n",
              "      <th>title</th>\n",
              "    </tr>\n",
              "    <tr>\n",
              "      <th>product_id</th>\n",
              "      <th></th>\n",
              "    </tr>\n",
              "  </thead>\n",
              "  <tbody>\n",
              "    <tr>\n",
              "      <th>-26</th>\n",
              "      <td>Grand Theft Auto V</td>\n",
              "    </tr>\n",
              "    <tr>\n",
              "      <th>104</th>\n",
              "      <td>Deus Ex: Mankind Divided</td>\n",
              "    </tr>\n",
              "    <tr>\n",
              "      <th>-120</th>\n",
              "      <td>Trine 2: Complete Story</td>\n",
              "    </tr>\n",
              "    <tr>\n",
              "      <th>98</th>\n",
              "      <td>TEKKEN 7</td>\n",
              "    </tr>\n",
              "    <tr>\n",
              "      <th>-8</th>\n",
              "      <td>Nuclear Throne</td>\n",
              "    </tr>\n",
              "  </tbody>\n",
              "</table>\n",
              "</div>"
            ],
            "text/plain": [
              "                               title\n",
              "product_id                          \n",
              "-26               Grand Theft Auto V\n",
              " 104        Deus Ex: Mankind Divided\n",
              "-120         Trine 2: Complete Story\n",
              " 98                         TEKKEN 7\n",
              "-8                    Nuclear Throne"
            ]
          },
          "metadata": {},
          "execution_count": 27
        }
      ]
    },
    {
      "cell_type": "code",
      "metadata": {
        "id": "2CrWEJN7ptmE",
        "colab": {
          "base_uri": "https://localhost:8080/",
          "height": 223
        },
        "outputId": "ad8cd26a-3d54-43fb-8e53-424856f73965"
      },
      "source": [
        "usuario_vistas = df3[['username', 'product_id', 'metascore']][df3['username'] == usuario]\n",
        "print(usuario_vistas.shape)\n",
        "usuario_vistas.head()"
      ],
      "execution_count": null,
      "outputs": [
        {
          "output_type": "stream",
          "name": "stdout",
          "text": [
            "(105, 3)\n"
          ]
        },
        {
          "output_type": "execute_result",
          "data": {
            "text/html": [
              "<div>\n",
              "<style scoped>\n",
              "    .dataframe tbody tr th:only-of-type {\n",
              "        vertical-align: middle;\n",
              "    }\n",
              "\n",
              "    .dataframe tbody tr th {\n",
              "        vertical-align: top;\n",
              "    }\n",
              "\n",
              "    .dataframe thead th {\n",
              "        text-align: right;\n",
              "    }\n",
              "</style>\n",
              "<table border=\"1\" class=\"dataframe\">\n",
              "  <thead>\n",
              "    <tr style=\"text-align: right;\">\n",
              "      <th></th>\n",
              "      <th>username</th>\n",
              "      <th>product_id</th>\n",
              "      <th>metascore</th>\n",
              "    </tr>\n",
              "  </thead>\n",
              "  <tbody>\n",
              "    <tr>\n",
              "      <th>2340</th>\n",
              "      <td>123</td>\n",
              "      <td>-26</td>\n",
              "      <td>96</td>\n",
              "    </tr>\n",
              "    <tr>\n",
              "      <th>6785</th>\n",
              "      <td>123</td>\n",
              "      <td>104</td>\n",
              "      <td>83</td>\n",
              "    </tr>\n",
              "    <tr>\n",
              "      <th>11684</th>\n",
              "      <td>123</td>\n",
              "      <td>-120</td>\n",
              "      <td>84</td>\n",
              "    </tr>\n",
              "    <tr>\n",
              "      <th>15622</th>\n",
              "      <td>123</td>\n",
              "      <td>68</td>\n",
              "      <td>76</td>\n",
              "    </tr>\n",
              "    <tr>\n",
              "      <th>18899</th>\n",
              "      <td>123</td>\n",
              "      <td>98</td>\n",
              "      <td>82</td>\n",
              "    </tr>\n",
              "  </tbody>\n",
              "</table>\n",
              "</div>"
            ],
            "text/plain": [
              "      username  product_id  metascore\n",
              "2340       123         -26         96\n",
              "6785       123         104         83\n",
              "11684      123        -120         84\n",
              "15622      123          68         76\n",
              "18899      123          98         82"
            ]
          },
          "metadata": {},
          "execution_count": 28
        }
      ]
    },
    {
      "cell_type": "code",
      "metadata": {
        "id": "4vMo7Jl0qCvN",
        "colab": {
          "base_uri": "https://localhost:8080/",
          "height": 206
        },
        "outputId": "49a4035e-4995-424d-9fb2-fa5dfc766f35"
      },
      "source": [
        "recomendaciones_usuario = recomendaciones_usuario.reset_index()\n",
        "recomendaciones_usuario.head()"
      ],
      "execution_count": null,
      "outputs": [
        {
          "output_type": "execute_result",
          "data": {
            "text/html": [
              "<div>\n",
              "<style scoped>\n",
              "    .dataframe tbody tr th:only-of-type {\n",
              "        vertical-align: middle;\n",
              "    }\n",
              "\n",
              "    .dataframe tbody tr th {\n",
              "        vertical-align: top;\n",
              "    }\n",
              "\n",
              "    .dataframe thead th {\n",
              "        text-align: right;\n",
              "    }\n",
              "</style>\n",
              "<table border=\"1\" class=\"dataframe\">\n",
              "  <thead>\n",
              "    <tr style=\"text-align: right;\">\n",
              "      <th></th>\n",
              "      <th>product_id</th>\n",
              "      <th>title</th>\n",
              "    </tr>\n",
              "  </thead>\n",
              "  <tbody>\n",
              "    <tr>\n",
              "      <th>0</th>\n",
              "      <td>-26</td>\n",
              "      <td>Grand Theft Auto V</td>\n",
              "    </tr>\n",
              "    <tr>\n",
              "      <th>1</th>\n",
              "      <td>104</td>\n",
              "      <td>Deus Ex: Mankind Divided</td>\n",
              "    </tr>\n",
              "    <tr>\n",
              "      <th>2</th>\n",
              "      <td>-120</td>\n",
              "      <td>Trine 2: Complete Story</td>\n",
              "    </tr>\n",
              "    <tr>\n",
              "      <th>3</th>\n",
              "      <td>98</td>\n",
              "      <td>TEKKEN 7</td>\n",
              "    </tr>\n",
              "    <tr>\n",
              "      <th>4</th>\n",
              "      <td>-8</td>\n",
              "      <td>Nuclear Throne</td>\n",
              "    </tr>\n",
              "  </tbody>\n",
              "</table>\n",
              "</div>"
            ],
            "text/plain": [
              "   product_id                     title\n",
              "0         -26        Grand Theft Auto V\n",
              "1         104  Deus Ex: Mankind Divided\n",
              "2        -120   Trine 2: Complete Story\n",
              "3          98                  TEKKEN 7\n",
              "4          -8            Nuclear Throne"
            ]
          },
          "metadata": {},
          "execution_count": 29
        }
      ]
    },
    {
      "cell_type": "code",
      "metadata": {
        "id": "WBbXMLfsqN7U",
        "colab": {
          "base_uri": "https://localhost:8080/",
          "height": 363
        },
        "outputId": "84c5ae13-7adf-40dc-9075-39770523951c"
      },
      "source": [
        "recomendaciones_usuario['Estimate_Score'] = recomendaciones_usuario['product_id'].apply(lambda x: algo.predict(usuario, x).est)\n",
        "recomendaciones_usuario = recomendaciones_usuario.sort_values('Estimate_Score', ascending=False)\n",
        "recomendaciones_usuario.head(10)"
      ],
      "execution_count": null,
      "outputs": [
        {
          "output_type": "execute_result",
          "data": {
            "text/html": [
              "<div>\n",
              "<style scoped>\n",
              "    .dataframe tbody tr th:only-of-type {\n",
              "        vertical-align: middle;\n",
              "    }\n",
              "\n",
              "    .dataframe tbody tr th {\n",
              "        vertical-align: top;\n",
              "    }\n",
              "\n",
              "    .dataframe thead th {\n",
              "        text-align: right;\n",
              "    }\n",
              "</style>\n",
              "<table border=\"1\" class=\"dataframe\">\n",
              "  <thead>\n",
              "    <tr style=\"text-align: right;\">\n",
              "      <th></th>\n",
              "      <th>product_id</th>\n",
              "      <th>title</th>\n",
              "      <th>Estimate_Score</th>\n",
              "    </tr>\n",
              "  </thead>\n",
              "  <tbody>\n",
              "    <tr>\n",
              "      <th>0</th>\n",
              "      <td>-26</td>\n",
              "      <td>Grand Theft Auto V</td>\n",
              "      <td>94.958218</td>\n",
              "    </tr>\n",
              "    <tr>\n",
              "      <th>8</th>\n",
              "      <td>-72</td>\n",
              "      <td>Team Fortress 2</td>\n",
              "      <td>91.977947</td>\n",
              "    </tr>\n",
              "    <tr>\n",
              "      <th>6</th>\n",
              "      <td>92</td>\n",
              "      <td>Bastion</td>\n",
              "      <td>88.463559</td>\n",
              "    </tr>\n",
              "    <tr>\n",
              "      <th>5</th>\n",
              "      <td>46</td>\n",
              "      <td>Sid Meier’s Civilization® VI</td>\n",
              "      <td>86.818310</td>\n",
              "    </tr>\n",
              "    <tr>\n",
              "      <th>7</th>\n",
              "      <td>72</td>\n",
              "      <td>Fallout 4</td>\n",
              "      <td>83.376326</td>\n",
              "    </tr>\n",
              "    <tr>\n",
              "      <th>1</th>\n",
              "      <td>104</td>\n",
              "      <td>Deus Ex: Mankind Divided</td>\n",
              "      <td>82.177494</td>\n",
              "    </tr>\n",
              "    <tr>\n",
              "      <th>3</th>\n",
              "      <td>98</td>\n",
              "      <td>TEKKEN 7</td>\n",
              "      <td>81.996253</td>\n",
              "    </tr>\n",
              "    <tr>\n",
              "      <th>4</th>\n",
              "      <td>-8</td>\n",
              "      <td>Nuclear Throne</td>\n",
              "      <td>78.845867</td>\n",
              "    </tr>\n",
              "    <tr>\n",
              "      <th>9</th>\n",
              "      <td>110</td>\n",
              "      <td>Cuphead</td>\n",
              "      <td>78.152217</td>\n",
              "    </tr>\n",
              "    <tr>\n",
              "      <th>2</th>\n",
              "      <td>-120</td>\n",
              "      <td>Trine 2: Complete Story</td>\n",
              "      <td>74.818041</td>\n",
              "    </tr>\n",
              "  </tbody>\n",
              "</table>\n",
              "</div>"
            ],
            "text/plain": [
              "   product_id                         title  Estimate_Score\n",
              "0         -26            Grand Theft Auto V       94.958218\n",
              "8         -72               Team Fortress 2       91.977947\n",
              "6          92                       Bastion       88.463559\n",
              "5          46  Sid Meier’s Civilization® VI       86.818310\n",
              "7          72                     Fallout 4       83.376326\n",
              "1         104      Deus Ex: Mankind Divided       82.177494\n",
              "3          98                      TEKKEN 7       81.996253\n",
              "4          -8                Nuclear Throne       78.845867\n",
              "9         110                       Cuphead       78.152217\n",
              "2        -120       Trine 2: Complete Story       74.818041"
            ]
          },
          "metadata": {},
          "execution_count": 30
        }
      ]
    },
    {
      "cell_type": "markdown",
      "metadata": {
        "id": "csRMc4f7Pnwn"
      },
      "source": [
        "### Evaluación usando métrica RMSE\n",
        "Para el conjunto de testset, evaluamos el error RMSE entre las predicciones y las verdaderas calificaciones que le habían dado a los juegos."
      ]
    },
    {
      "cell_type": "code",
      "metadata": {
        "id": "IulmcHEaMX-1",
        "colab": {
          "base_uri": "https://localhost:8080/"
        },
        "outputId": "29d88b88-fa76-47fa-e44f-dac0e5b2dc0b"
      },
      "source": [
        "from surprise import accuracy\n",
        "\n",
        "rmse_svd_d = accuracy.rmse(predictions)"
      ],
      "execution_count": null,
      "outputs": [
        {
          "output_type": "stream",
          "name": "stdout",
          "text": [
            "RMSE: 8.5838\n"
          ]
        }
      ]
    },
    {
      "cell_type": "markdown",
      "metadata": {
        "id": "5GOuUBmpQdHV"
      },
      "source": [
        "teniendo en cuenta que las calificaciones son de 1-100 es un error aceptable."
      ]
    },
    {
      "cell_type": "markdown",
      "metadata": {
        "id": "syQq_MD1Qr-c"
      },
      "source": [
        "### Optimización de parámetros"
      ]
    },
    {
      "cell_type": "code",
      "metadata": {
        "id": "vikUbG_JQaaV",
        "colab": {
          "base_uri": "https://localhost:8080/"
        },
        "outputId": "02b772c3-5405-48e6-d86b-488b29c5ad69"
      },
      "source": [
        "from surprise.model_selection import cross_validate\n",
        "\n",
        "rmse_test_means = []\n",
        "factores = [1,2,4,8,16,32,64,128,256]\n",
        "\n",
        "for factor in factores:\n",
        "    print(factor)\n",
        "    algo = SVD(n_factors=factor)\n",
        "    cv = cross_validate(algo, data, measures=['RMSE'], cv = 3, verbose=True)\n",
        "    rmse_test_means.append(np.mean(cv['test_rmse']))"
      ],
      "execution_count": null,
      "outputs": [
        {
          "output_type": "stream",
          "name": "stdout",
          "text": [
            "1\n",
            "Evaluating RMSE of algorithm SVD on 3 split(s).\n",
            "\n",
            "                  Fold 1  Fold 2  Fold 3  Mean    Std     \n",
            "RMSE (testset)    9.2234  9.2797  9.2469  9.2500  0.0231  \n",
            "Fit time          60.21   40.22   49.28   49.90   8.17    \n",
            "Test time         14.96   14.12   27.81   18.96   6.26    \n",
            "2\n",
            "Evaluating RMSE of algorithm SVD on 3 split(s).\n",
            "\n",
            "                  Fold 1  Fold 2  Fold 3  Mean    Std     \n",
            "RMSE (testset)    9.1805  9.2355  9.2141  9.2100  0.0227  \n",
            "Fit time          42.32   39.56   99.80   60.56   27.77   \n",
            "Test time         12.77   8.81    36.13   19.24   12.05   \n",
            "4\n",
            "Evaluating RMSE of algorithm SVD on 3 split(s).\n",
            "\n",
            "                  Fold 1  Fold 2  Fold 3  Mean    Std     \n",
            "RMSE (testset)    9.0934  9.0187  9.0792  9.0638  0.0324  \n",
            "Fit time          68.90   64.35   99.66   77.64   15.68   \n",
            "Test time         14.70   30.60   14.74   20.01   7.48    \n",
            "8\n",
            "Evaluating RMSE of algorithm SVD on 3 split(s).\n",
            "\n",
            "                  Fold 1  Fold 2  Fold 3  Mean    Std     \n",
            "RMSE (testset)    8.8800  8.8752  8.9310  8.8954  0.0252  \n",
            "Fit time          59.92   73.41   94.96   76.09   14.43   \n",
            "Test time         22.25   28.27   29.55   26.69   3.18    \n",
            "16\n",
            "Evaluating RMSE of algorithm SVD on 3 split(s).\n",
            "\n",
            "                  Fold 1  Fold 2  Fold 3  Mean    Std     \n",
            "RMSE (testset)    8.6844  8.7402  8.6962  8.7069  0.0240  \n",
            "Fit time          60.50   98.87   52.73   70.70   20.17   \n",
            "Test time         23.01   6.82    5.73    11.86   7.90    \n",
            "32\n",
            "Evaluating RMSE of algorithm SVD on 3 split(s).\n",
            "\n",
            "                  Fold 1  Fold 2  Fold 3  Mean    Std     \n",
            "RMSE (testset)    8.5966  8.5690  8.6038  8.5898  0.0150  \n",
            "Fit time          86.71   121.21  90.49   99.47   15.45   \n",
            "Test time         13.31   10.78   18.40   14.16   3.17    \n",
            "64\n",
            "Evaluating RMSE of algorithm SVD on 3 split(s).\n",
            "\n",
            "                  Fold 1  Fold 2  Fold 3  Mean    Std     \n",
            "RMSE (testset)    8.5145  8.5747  8.5211  8.5368  0.0270  \n",
            "Fit time          152.43  97.08   140.55  130.02  23.80   \n",
            "Test time         14.56   18.32   41.75   24.87   12.03   \n",
            "128\n",
            "Evaluating RMSE of algorithm SVD on 3 split(s).\n",
            "\n",
            "                  Fold 1  Fold 2  Fold 3  Mean    Std     \n",
            "RMSE (testset)    8.5191  8.5242  8.4974  8.5135  0.0116  \n",
            "Fit time          296.51  212.17  211.26  239.98  39.97   \n",
            "Test time         24.44   19.19   25.78   23.14   2.84    \n",
            "256\n",
            "Evaluating RMSE of algorithm SVD on 3 split(s).\n",
            "\n",
            "                  Fold 1  Fold 2  Fold 3  Mean    Std     \n",
            "RMSE (testset)    8.4946  8.4938  8.5235  8.5040  0.0138  \n",
            "Fit time          343.21  312.53  320.31  325.35  13.02   \n",
            "Test time         12.50   5.55    10.99   9.68    2.98    \n"
          ]
        }
      ]
    },
    {
      "cell_type": "code",
      "metadata": {
        "id": "KD25C-zbSPTz",
        "colab": {
          "base_uri": "https://localhost:8080/",
          "height": 279
        },
        "outputId": "a2a080c3-bc5c-426c-9a2c-2d9b36b6b370"
      },
      "source": [
        "plt.scatter(factores, rmse_test_means)\n",
        "plt.xlabel('Numero de factores')\n",
        "plt.ylabel('Error RMSE')\n",
        "plt.show()"
      ],
      "execution_count": null,
      "outputs": [
        {
          "output_type": "display_data",
          "data": {
            "image/png": "[encoded data removed]",
            "text/plain": [
              "<Figure size 432x288 with 1 Axes>"
            ]
          },
          "metadata": {
            "needs_background": "light"
          }
        }
      ]
    },
    {
      "cell_type": "markdown",
      "metadata": {
        "id": "pMKGafA6tJNI"
      },
      "source": [
        "- aqui a medida que aumenta el numero de factores disminuye el error rmse, hasta 50 aproximadamente decrece y luego a medida que aumentan los numeros de factores la disminucion del error es minima.\n"
      ]
    },
    {
      "cell_type": "markdown",
      "metadata": {
        "id": "rFUPxDG5UhmO"
      },
      "source": [
        " GridSearchCV informa la métrica de precisión sobre un procedimiento de validación cruzada para un conjunto de parámetros dado. Si desea saber qué combinación de parámetros produce los mejores resultados usamos esta clase.prueba exhaustivamente todas las combinaciones de parámetros e informa los mejores parámetros para cualquier medida de precisión: Utilizaremos:\n",
        "* n_factors : el número de factores. El valor predeterminado es 100.\n",
        "* n_epochs : el número de iteraciones del procedimiento SGD. El valor predeterminado es 20.\n",
        "* lr_all : la tasa de aprendizaje de todos los parámetros. El valor predeterminado es 0.005."
      ]
    },
    {
      "cell_type": "code",
      "metadata": {
        "id": "lFcYlGIuShTs"
      },
      "source": [
        "from surprise.model_selection import GridSearchCV\n",
        "\n",
        "param_grid = {'n_factors': [5,50,100],'n_epochs': [5, 10,20], 'lr_all': [0.001, 0.002, 0.005],\n",
        "              'reg_all': [0.002, 0.02, 0.2]}\n",
        "gs = GridSearchCV(SVD, param_grid, measures=['rmse'], cv=3, n_jobs = -1)\n",
        "gs.fit(data)"
      ],
      "execution_count": null,
      "outputs": []
    },
    {
      "cell_type": "code",
      "metadata": {
        "id": "LwdeG4U6S-tH",
        "colab": {
          "base_uri": "https://localhost:8080/"
        },
        "outputId": "a07b5b49-84a0-44da-cb9f-485ca6ee2661"
      },
      "source": [
        "print(gs.best_score['rmse'])\n",
        "print(gs.best_params['rmse'])"
      ],
      "execution_count": null,
      "outputs": [
        {
          "output_type": "stream",
          "name": "stdout",
          "text": [
            "8.430667792844623\n",
            "{'n_factors': 50, 'n_epochs': 5, 'lr_all': 0.001, 'reg_all': 0.02}\n"
          ]
        }
      ]
    },
    {
      "cell_type": "markdown",
      "metadata": {
        "id": "p8OPFK3GA5Aq"
      },
      "source": [
        "Para hacer que el modelo sea generalizable, es decir, evitar el sobreajuste y el desajuste, el algoritmo de GridSearchCV resulta óptimo un n_factors = 100 "
      ]
    },
    {
      "cell_type": "code",
      "metadata": {
        "id": "jZ0ZwLLKTDpF",
        "colab": {
          "base_uri": "https://localhost:8080/"
        },
        "outputId": "7cea54e2-b3fc-4718-ddcb-f6a513ea29bc"
      },
      "source": [
        "algo = SVD(n_factors=50, n_epochs=5, lr_all=0.001, reg_all=0.02)\n",
        "cv = cross_validate(algo, data, measures=['RMSE'], cv = 3, verbose=True)\n",
        "np.mean(cv['test_rmse'])"
      ],
      "execution_count": null,
      "outputs": [
        {
          "output_type": "stream",
          "name": "stdout",
          "text": [
            "Evaluating RMSE of algorithm SVD on 3 split(s).\n",
            "\n",
            "                  Fold 1  Fold 2  Fold 3  Mean    Std     \n",
            "RMSE (testset)    8.4258  8.4609  8.4084  8.4317  0.0218  \n",
            "Fit time          3.36    3.53    3.50    3.46    0.08    \n",
            "Test time         1.91    2.08    1.55    1.85    0.22    \n"
          ]
        },
        {
          "output_type": "execute_result",
          "data": {
            "text/plain": [
              "8.43169342064852"
            ]
          },
          "metadata": {},
          "execution_count": 32
        }
      ]
    },
    {
      "cell_type": "markdown",
      "metadata": {
        "id": "4_WpRzsb4Q11"
      },
      "source": [
        "### Reentrenamos el modelo y medimos las recomendaciones"
      ]
    },
    {
      "cell_type": "code",
      "metadata": {
        "id": "wWEHJwOb4X3o"
      },
      "source": [
        "reader = Reader(rating_scale=(1, 100))\n",
        "data = Dataset.load_from_df(df3[['username', 'product_id', 'metascore']], reader)\n",
        "trainset, testset = train_test_split(data, test_size=.25)"
      ],
      "execution_count": null,
      "outputs": []
    },
    {
      "cell_type": "code",
      "metadata": {
        "id": "MpwvVh0OzguL"
      },
      "source": [
        "algo = SVD(n_factors=100, n_epochs=5, lr_all=0.001, reg_all=0.02)\n",
        "algo.fit(trainset)\n",
        "predictions = algo.test(testset)"
      ],
      "execution_count": null,
      "outputs": []
    },
    {
      "cell_type": "code",
      "metadata": {
        "colab": {
          "base_uri": "https://localhost:8080/"
        },
        "id": "MkfMONpz94K5",
        "outputId": "0fbd3f4c-06f0-47cd-b185-0fe9835ce7dd"
      },
      "source": [
        "from surprise import accuracy\n",
        "\n",
        "rmse_svd_gs = accuracy.rmse(predictions)"
      ],
      "execution_count": null,
      "outputs": [
        {
          "output_type": "stream",
          "name": "stdout",
          "text": [
            "RMSE: 8.3839\n"
          ]
        }
      ]
    },
    {
      "cell_type": "code",
      "metadata": {
        "id": "LN4paZn94qmP",
        "colab": {
          "base_uri": "https://localhost:8080/",
          "height": 254
        },
        "outputId": "23679e29-2148-47a3-9ee1-342cfac699f0"
      },
      "source": [
        "usuario = '123'\n",
        "df_user = df3[(df3['username'] == usuario) & (df3['metascore'] >= 80.0)]\n",
        "df_user = df_user.reset_index(drop=True)\n",
        "df_user.head()\n",
        "recomendaciones_usuario = df_user[['title','product_id']].iloc[:4499].copy()\n",
        "recomendaciones_usuario.index = recomendaciones_usuario.product_id\n",
        "recomendaciones_usuario = recomendaciones_usuario.drop(['product_id'], axis=1)\n",
        "print(recomendaciones_usuario.shape)\n",
        "recomendaciones_usuario.head()"
      ],
      "execution_count": null,
      "outputs": [
        {
          "output_type": "stream",
          "name": "stdout",
          "text": [
            "(25, 1)\n"
          ]
        },
        {
          "output_type": "execute_result",
          "data": {
            "text/html": [
              "<div>\n",
              "<style scoped>\n",
              "    .dataframe tbody tr th:only-of-type {\n",
              "        vertical-align: middle;\n",
              "    }\n",
              "\n",
              "    .dataframe tbody tr th {\n",
              "        vertical-align: top;\n",
              "    }\n",
              "\n",
              "    .dataframe thead th {\n",
              "        text-align: right;\n",
              "    }\n",
              "</style>\n",
              "<table border=\"1\" class=\"dataframe\">\n",
              "  <thead>\n",
              "    <tr style=\"text-align: right;\">\n",
              "      <th></th>\n",
              "      <th>title</th>\n",
              "    </tr>\n",
              "    <tr>\n",
              "      <th>product_id</th>\n",
              "      <th></th>\n",
              "    </tr>\n",
              "  </thead>\n",
              "  <tbody>\n",
              "    <tr>\n",
              "      <th>-26</th>\n",
              "      <td>Grand Theft Auto V</td>\n",
              "    </tr>\n",
              "    <tr>\n",
              "      <th>104</th>\n",
              "      <td>Deus Ex: Mankind Divided</td>\n",
              "    </tr>\n",
              "    <tr>\n",
              "      <th>-120</th>\n",
              "      <td>Trine 2: Complete Story</td>\n",
              "    </tr>\n",
              "    <tr>\n",
              "      <th>98</th>\n",
              "      <td>TEKKEN 7</td>\n",
              "    </tr>\n",
              "    <tr>\n",
              "      <th>-8</th>\n",
              "      <td>Nuclear Throne</td>\n",
              "    </tr>\n",
              "  </tbody>\n",
              "</table>\n",
              "</div>"
            ],
            "text/plain": [
              "                               title\n",
              "product_id                          \n",
              "-26               Grand Theft Auto V\n",
              " 104        Deus Ex: Mankind Divided\n",
              "-120         Trine 2: Complete Story\n",
              " 98                         TEKKEN 7\n",
              "-8                    Nuclear Throne"
            ]
          },
          "metadata": {},
          "execution_count": 9
        }
      ]
    },
    {
      "cell_type": "code",
      "metadata": {
        "id": "LHEkH5fB5gSw",
        "colab": {
          "base_uri": "https://localhost:8080/",
          "height": 223
        },
        "outputId": "8ba3614c-9954-4e44-ad81-d3249843de7c"
      },
      "source": [
        "usuario_vistas = df3[['username', 'product_id', 'metascore']][df3['username'] == usuario]\n",
        "print(usuario_vistas.shape)\n",
        "usuario_vistas.head()"
      ],
      "execution_count": null,
      "outputs": [
        {
          "output_type": "stream",
          "name": "stdout",
          "text": [
            "(105, 3)\n"
          ]
        },
        {
          "output_type": "execute_result",
          "data": {
            "text/html": [
              "<div>\n",
              "<style scoped>\n",
              "    .dataframe tbody tr th:only-of-type {\n",
              "        vertical-align: middle;\n",
              "    }\n",
              "\n",
              "    .dataframe tbody tr th {\n",
              "        vertical-align: top;\n",
              "    }\n",
              "\n",
              "    .dataframe thead th {\n",
              "        text-align: right;\n",
              "    }\n",
              "</style>\n",
              "<table border=\"1\" class=\"dataframe\">\n",
              "  <thead>\n",
              "    <tr style=\"text-align: right;\">\n",
              "      <th></th>\n",
              "      <th>username</th>\n",
              "      <th>product_id</th>\n",
              "      <th>metascore</th>\n",
              "    </tr>\n",
              "  </thead>\n",
              "  <tbody>\n",
              "    <tr>\n",
              "      <th>2340</th>\n",
              "      <td>123</td>\n",
              "      <td>-26</td>\n",
              "      <td>96</td>\n",
              "    </tr>\n",
              "    <tr>\n",
              "      <th>6785</th>\n",
              "      <td>123</td>\n",
              "      <td>104</td>\n",
              "      <td>83</td>\n",
              "    </tr>\n",
              "    <tr>\n",
              "      <th>11684</th>\n",
              "      <td>123</td>\n",
              "      <td>-120</td>\n",
              "      <td>84</td>\n",
              "    </tr>\n",
              "    <tr>\n",
              "      <th>15622</th>\n",
              "      <td>123</td>\n",
              "      <td>68</td>\n",
              "      <td>76</td>\n",
              "    </tr>\n",
              "    <tr>\n",
              "      <th>18899</th>\n",
              "      <td>123</td>\n",
              "      <td>98</td>\n",
              "      <td>82</td>\n",
              "    </tr>\n",
              "  </tbody>\n",
              "</table>\n",
              "</div>"
            ],
            "text/plain": [
              "      username  product_id  metascore\n",
              "2340       123         -26         96\n",
              "6785       123         104         83\n",
              "11684      123        -120         84\n",
              "15622      123          68         76\n",
              "18899      123          98         82"
            ]
          },
          "metadata": {},
          "execution_count": 10
        }
      ]
    },
    {
      "cell_type": "code",
      "metadata": {
        "id": "BjEDiiqp55X4",
        "colab": {
          "base_uri": "https://localhost:8080/",
          "height": 206
        },
        "outputId": "375ef9eb-00db-413e-d9c2-23b848e6805e"
      },
      "source": [
        "recomendaciones_usuario = recomendaciones_usuario.reset_index()\n",
        "recomendaciones_usuario.head()"
      ],
      "execution_count": null,
      "outputs": [
        {
          "output_type": "execute_result",
          "data": {
            "text/html": [
              "<div>\n",
              "<style scoped>\n",
              "    .dataframe tbody tr th:only-of-type {\n",
              "        vertical-align: middle;\n",
              "    }\n",
              "\n",
              "    .dataframe tbody tr th {\n",
              "        vertical-align: top;\n",
              "    }\n",
              "\n",
              "    .dataframe thead th {\n",
              "        text-align: right;\n",
              "    }\n",
              "</style>\n",
              "<table border=\"1\" class=\"dataframe\">\n",
              "  <thead>\n",
              "    <tr style=\"text-align: right;\">\n",
              "      <th></th>\n",
              "      <th>product_id</th>\n",
              "      <th>title</th>\n",
              "    </tr>\n",
              "  </thead>\n",
              "  <tbody>\n",
              "    <tr>\n",
              "      <th>0</th>\n",
              "      <td>-26</td>\n",
              "      <td>Grand Theft Auto V</td>\n",
              "    </tr>\n",
              "    <tr>\n",
              "      <th>1</th>\n",
              "      <td>104</td>\n",
              "      <td>Deus Ex: Mankind Divided</td>\n",
              "    </tr>\n",
              "    <tr>\n",
              "      <th>2</th>\n",
              "      <td>-120</td>\n",
              "      <td>Trine 2: Complete Story</td>\n",
              "    </tr>\n",
              "    <tr>\n",
              "      <th>3</th>\n",
              "      <td>98</td>\n",
              "      <td>TEKKEN 7</td>\n",
              "    </tr>\n",
              "    <tr>\n",
              "      <th>4</th>\n",
              "      <td>-8</td>\n",
              "      <td>Nuclear Throne</td>\n",
              "    </tr>\n",
              "  </tbody>\n",
              "</table>\n",
              "</div>"
            ],
            "text/plain": [
              "   product_id                     title\n",
              "0         -26        Grand Theft Auto V\n",
              "1         104  Deus Ex: Mankind Divided\n",
              "2        -120   Trine 2: Complete Story\n",
              "3          98                  TEKKEN 7\n",
              "4          -8            Nuclear Throne"
            ]
          },
          "metadata": {},
          "execution_count": 11
        }
      ]
    },
    {
      "cell_type": "code",
      "metadata": {
        "id": "EvgR06TH5__W",
        "colab": {
          "base_uri": "https://localhost:8080/",
          "height": 363
        },
        "outputId": "036af9db-5d3f-4d17-8ba3-1068353afe70"
      },
      "source": [
        "recomendaciones_usuario['Estimate_Score'] = recomendaciones_usuario['product_id'].apply(lambda x: algo.predict(usuario, x).est)\n",
        "recomendaciones_usuario = recomendaciones_usuario.sort_values('Estimate_Score', ascending=False)\n",
        "recomendaciones_usuario.head(10)"
      ],
      "execution_count": null,
      "outputs": [
        {
          "output_type": "execute_result",
          "data": {
            "text/html": [
              "<div>\n",
              "<style scoped>\n",
              "    .dataframe tbody tr th:only-of-type {\n",
              "        vertical-align: middle;\n",
              "    }\n",
              "\n",
              "    .dataframe tbody tr th {\n",
              "        vertical-align: top;\n",
              "    }\n",
              "\n",
              "    .dataframe thead th {\n",
              "        text-align: right;\n",
              "    }\n",
              "</style>\n",
              "<table border=\"1\" class=\"dataframe\">\n",
              "  <thead>\n",
              "    <tr style=\"text-align: right;\">\n",
              "      <th></th>\n",
              "      <th>product_id</th>\n",
              "      <th>title</th>\n",
              "      <th>Estimate_Score</th>\n",
              "    </tr>\n",
              "  </thead>\n",
              "  <tbody>\n",
              "    <tr>\n",
              "      <th>0</th>\n",
              "      <td>-26</td>\n",
              "      <td>Grand Theft Auto V</td>\n",
              "      <td>89.369451</td>\n",
              "    </tr>\n",
              "    <tr>\n",
              "      <th>8</th>\n",
              "      <td>-72</td>\n",
              "      <td>Team Fortress 2</td>\n",
              "      <td>86.322299</td>\n",
              "    </tr>\n",
              "    <tr>\n",
              "      <th>18</th>\n",
              "      <td>36</td>\n",
              "      <td>Dying Light</td>\n",
              "      <td>83.376742</td>\n",
              "    </tr>\n",
              "    <tr>\n",
              "      <th>15</th>\n",
              "      <td>-42</td>\n",
              "      <td>The Stanley Parable</td>\n",
              "      <td>83.081656</td>\n",
              "    </tr>\n",
              "    <tr>\n",
              "      <th>10</th>\n",
              "      <td>-16</td>\n",
              "      <td>Counter-Strike: Source</td>\n",
              "      <td>82.937309</td>\n",
              "    </tr>\n",
              "    <tr>\n",
              "      <th>11</th>\n",
              "      <td>-16</td>\n",
              "      <td>Counter-Strike: Source</td>\n",
              "      <td>82.937309</td>\n",
              "    </tr>\n",
              "    <tr>\n",
              "      <th>9</th>\n",
              "      <td>110</td>\n",
              "      <td>Cuphead</td>\n",
              "      <td>82.499980</td>\n",
              "    </tr>\n",
              "    <tr>\n",
              "      <th>6</th>\n",
              "      <td>92</td>\n",
              "      <td>Bastion</td>\n",
              "      <td>82.367068</td>\n",
              "    </tr>\n",
              "    <tr>\n",
              "      <th>14</th>\n",
              "      <td>50</td>\n",
              "      <td>Battlerite</td>\n",
              "      <td>80.851032</td>\n",
              "    </tr>\n",
              "    <tr>\n",
              "      <th>7</th>\n",
              "      <td>72</td>\n",
              "      <td>Fallout 4</td>\n",
              "      <td>80.752361</td>\n",
              "    </tr>\n",
              "  </tbody>\n",
              "</table>\n",
              "</div>"
            ],
            "text/plain": [
              "    product_id                   title  Estimate_Score\n",
              "0          -26      Grand Theft Auto V       89.369451\n",
              "8          -72         Team Fortress 2       86.322299\n",
              "18          36             Dying Light       83.376742\n",
              "15         -42     The Stanley Parable       83.081656\n",
              "10         -16  Counter-Strike: Source       82.937309\n",
              "11         -16  Counter-Strike: Source       82.937309\n",
              "9          110                 Cuphead       82.499980\n",
              "6           92                 Bastion       82.367068\n",
              "14          50              Battlerite       80.851032\n",
              "7           72               Fallout 4       80.752361"
            ]
          },
          "metadata": {},
          "execution_count": 12
        }
      ]
    },
    {
      "cell_type": "code",
      "metadata": {
        "id": "LQJ56ol36D6X",
        "colab": {
          "base_uri": "https://localhost:8080/"
        },
        "outputId": "80f3dd7e-4575-4774-becd-1b090ac76017"
      },
      "source": [
        "rmse_svd_gs=accuracy.rmse(predictions)"
      ],
      "execution_count": null,
      "outputs": [
        {
          "output_type": "stream",
          "name": "stdout",
          "text": [
            "RMSE: 8.4711\n"
          ]
        }
      ]
    },
    {
      "cell_type": "markdown",
      "metadata": {
        "id": "fhUY2i-v6kBM"
      },
      "source": [
        "Es un poco mejor que el svd con los parametros por default."
      ]
    },
    {
      "cell_type": "markdown",
      "metadata": {
        "id": "LO7OSbPit55i"
      },
      "source": [
        "Haremos una funcion de que devuelva el top 10 de recomendaciones para los usuarios."
      ]
    },
    {
      "cell_type": "code",
      "metadata": {
        "id": "wZlFGMXTzz8h"
      },
      "source": [
        "# Limitamos la data a 10000 debido a que no se puede procesar tanta informacion ni en colab ni en entorno local de jupyter\n",
        "reader = Reader(rating_scale=(1, 100))\n",
        "data = Dataset.load_from_df(df3[['username', 'product_id', 'metascore']][:10000], reader)\n",
        "trainset, testset = train_test_split(data, test_size=.25)"
      ],
      "execution_count": null,
      "outputs": []
    },
    {
      "cell_type": "code",
      "metadata": {
        "id": "wmIQZYv3z5ZQ"
      },
      "source": [
        "from surprise import SVD\n",
        "\n",
        "algo = SVD(n_factors=100, n_epochs=5, lr_all=0.001, reg_all=0.02)\n",
        "algo.fit(trainset)\n",
        "predictions = algo.test(testset)"
      ],
      "execution_count": null,
      "outputs": []
    },
    {
      "cell_type": "code",
      "metadata": {
        "id": "c8UiWgYfK1_R"
      },
      "source": [
        "from collections import defaultdict\n",
        "def get_top_n(predictions, n=10):\n",
        "    \"\"\"Devuelve la recomendación top-N para cada usuario de un conjunto de predicciones.\n",
        "\n",
        "     Args:\n",
        "         predicciones (lista de objetos de predicción): la lista de predicciones, como\n",
        "             devuelto por el método de prueba de un algoritmo.\n",
        "         n (int): el número de recomendaciones a generar para cada usuario. Default\n",
        "             es 10.\n",
        "\n",
        "     Return:\n",
        "     Un diccionario donde las Keys son identificadores de usuario (sin formato) y los valores son listas de tuplas:\n",
        "         [(ID de artículo sin procesar, estimación de calificación), ...] de tamaño n.\n",
        "    \"\"\"\n",
        "\n",
        "    # primero mapea las predicciones para cada usuario.\n",
        "    top_n = defaultdict(list)\n",
        "    for uid, iid, true_r, est, _ in predictions:\n",
        "        top_n[uid].append((iid, est))\n",
        "\n",
        "    # luego ordena las predicciones para cada usuario y recupera el k mas alto \n",
        "    for uid, user_ratings in top_n.items():\n",
        "        user_ratings.sort(key=lambda x: x[1], reverse=True)\n",
        "        top_n[uid] = user_ratings[:n]\n",
        "\n",
        "    return top_n"
      ],
      "execution_count": null,
      "outputs": []
    },
    {
      "cell_type": "code",
      "metadata": {
        "id": "A5EIwk5Lxizi"
      },
      "source": [
        "# Than predict ratings for all pairs (u, i) that are NOT in the training set.\n",
        "testset = trainset.build_anti_testset()\n",
        "predictions = algo.test(testset)\n",
        "\n",
        "top_n = get_top_n(predictions, n=10)\n",
        "\n"
      ],
      "execution_count": null,
      "outputs": []
    },
    {
      "cell_type": "code",
      "metadata": {
        "id": "_9f3EV45WC-Y"
      },
      "source": [
        "# Print the recommended items for each user\n",
        "for uid, user_ratings in top_n.items():\n",
        "    print(uid, [iid for (iid, _) in user_ratings])"
      ],
      "execution_count": null,
      "outputs": []
    },
    {
      "cell_type": "code",
      "metadata": {
        "id": "FxsZIGQv3lBd"
      },
      "source": [
        "def rmse_vs_factors(algorithm, data):\n",
        "  \"\"\"Devuelve: rmse_algorithm, es decir, una lista de RMSE medio de CV = 5 en cross_validate () para cada factor k en el rango (1, 101, 1)\n",
        "   100 valores\n",
        "   Arg: i.) Algoritmo = algoritmo de factorización de matriz, por ejemplo, SVD / NMF / PMF, ii.) Datos = surprice.dataset.DatasetAutoFolds\n",
        "  \"\"\"\n",
        "  \n",
        "  rmse_algorithm = []\n",
        "  \n",
        "  for k in range(1, 101, 1):\n",
        "    algo = algorithm(n_factors = k)\n",
        "    \n",
        "    #[\"test_rmse\"] is a numpy array with min accuracy value for each testset\n",
        "    loss_fce = cross_validate(algo, data, measures=['RMSE'], cv=5, verbose=False)[\"test_rmse\"].mean() \n",
        "    rmse_algorithm.append(loss_fce)\n",
        "  \n",
        "  return rmse_algorithm"
      ],
      "execution_count": null,
      "outputs": []
    },
    {
      "cell_type": "code",
      "metadata": {
        "id": "JGuijTYE3nwt"
      },
      "source": [
        "rmse_svd = rmse_vs_factors(SVD,data)"
      ],
      "execution_count": null,
      "outputs": []
    },
    {
      "cell_type": "code",
      "metadata": {
        "id": "DLbDDjNA3nuZ"
      },
      "source": [
        "def plot_rmse(rmse, algorithm):\n",
        "  \"\"\"Returns: sub plots (2x1) de rmse contra number of factors. \n",
        "     La línea vertical en la segunda subplot identifica el argumento de RMSE mínimo\n",
        "    \n",
        "     Arg: i.) rmse = list of mean RMSE returned by rmse_vs_factors(), ii.) algorithm = STRING! of algo \n",
        "  \"\"\"\n",
        "  \n",
        "  plt.figure(num=None, figsize=(11, 5), dpi=80, facecolor='w', edgecolor='k')\n",
        "\n",
        "  plt.subplot(2,1,1)\n",
        "  plt.plot(rmse)\n",
        "  plt.xlim(0,100)\n",
        "  plt.title(\"{0} Performance: RMSE Against Number of Factors\".format(algorithm), size = 20 )\n",
        "  plt.ylabel(\"Mean RMSE (cv=5)\")\n",
        "\n",
        "  plt.subplot(2,1,2)\n",
        "  plt.plot(rmse)\n",
        "  plt.xlim(0,50)\n",
        "  plt.xticks(np.arange(0, 52, step=2))\n",
        "\n",
        "  plt.xlabel(\"{0}(n_factor = k)\".format(algorithm))\n",
        "  plt.ylabel(\"Mean RMSE (cv=5)\")\n",
        "  plt.axvline(np.argmin(rmse), color = \"r\")"
      ],
      "execution_count": null,
      "outputs": []
    },
    {
      "cell_type": "code",
      "metadata": {
        "id": "yW_I9p-T3nrs",
        "colab": {
          "base_uri": "https://localhost:8080/",
          "height": 390
        },
        "outputId": "4e7bab04-b9fc-455f-f9f3-39e1fcc79a0c"
      },
      "source": [
        "plot_rmse(rmse_svd,\"SVD\")"
      ],
      "execution_count": null,
      "outputs": [
        {
          "output_type": "display_data",
          "data": {
            "image/png": "[encoded data removed]",
            "text/plain": [
              "<Figure size 880x400 with 2 Axes>"
            ]
          },
          "metadata": {}
        }
      ]
    },
    {
      "cell_type": "markdown",
      "metadata": {
        "id": "4cHaYGVX7p-P"
      },
      "source": [
        "A medida que aumenta el numero de factores aumenta el rmse, de forma decreciente, lo que indica que debemos usar un numero de factores bajo sin que cause overfitting.."
      ]
    },
    {
      "cell_type": "markdown",
      "metadata": {
        "id": "eOoH7KZo9CX4"
      },
      "source": [
        "Crearemos un anti_set, que consiste de los pares de usuarios y juegos que no existen en el dataset original. Este es el set en el cual desemos predecir los metascores.\n",
        "\n",
        "Para predecir valores, es decir, calificaciones, para cada elemento vacío, en la matriz de utilidad, es esencial especificar: a.) los usuarios y b.) juegos particulares que no están en el train. El metodo build_anti_testset() de trainset logra la meta."
      ]
    },
    {
      "cell_type": "code",
      "metadata": {
        "id": "Wq9yySk43no5",
        "colab": {
          "base_uri": "https://localhost:8080/"
        },
        "outputId": "bf007d82-604e-41c4-f5a2-f60207c607e4"
      },
      "source": [
        "algo_SVD = SVD(n_factors=100, n_epochs=5, lr_all=0.001, reg_all=0.02)\n",
        "algo_SVD.fit(trainset)\n",
        "\n",
        "\n",
        "# Predict ratings for all pairs (i,j) that are NOT in the training set.\n",
        "testset = trainset.build_anti_testset()\n",
        "\n",
        "predictions = algo_SVD.test(testset)\n",
        "\n",
        "# subset of the list  predictions\n",
        "predictions[0:2]"
      ],
      "execution_count": null,
      "outputs": [
        {
          "output_type": "execute_result",
          "data": {
            "text/plain": [
              "[Prediction(uid='NO More CSGO :| B4TM4n_iAx', iid=6, r_ui=87.8012, est=87.97744338486453, details={'was_impossible': False}),\n",
              " Prediction(uid='NO More CSGO :| B4TM4n_iAx', iid=104, r_ui=87.8012, est=83.12387154548539, details={'was_impossible': False})]"
            ]
          },
          "metadata": {},
          "execution_count": 27
        }
      ]
    },
    {
      "cell_type": "markdown",
      "metadata": {
        "id": "oLkLpf6TCHUn"
      },
      "source": [
        "## Modelos de Filtrado Colaborativo"
      ]
    },
    {
      "cell_type": "code",
      "metadata": {
        "id": "jVegIEn1Zqh2"
      },
      "source": [
        "# Importamos las librerias basicas\n",
        "import numpy as np\n",
        "import pandas as pd\n",
        "import seaborn as sns\n",
        "import matplotlib.pyplot as plt\n",
        "import warnings\n",
        "warnings.filterwarnings('ignore')\n",
        "import time"
      ],
      "execution_count": null,
      "outputs": []
    },
    {
      "cell_type": "code",
      "metadata": {
        "id": "WdtokJiZZqh3",
        "colab": {
          "base_uri": "https://localhost:8080/"
        },
        "outputId": "90478fdb-4eb1-4b97-dea0-00b8dc039cf9"
      },
      "source": [
        "from google.colab import drive\n",
        "drive.mount('/content/drive')"
      ],
      "execution_count": null,
      "outputs": [
        {
          "output_type": "stream",
          "name": "stdout",
          "text": [
            "Mounted at /content/drive\n"
          ]
        }
      ]
    },
    {
      "cell_type": "code",
      "metadata": {
        "id": "q2PirHETZqh3"
      },
      "source": [
        "# Importamos el dataset modificado\n",
        "df3 = pd.read_csv('/content/drive/MyDrive/data science/sprint project 3/df3.csv')"
      ],
      "execution_count": null,
      "outputs": []
    },
    {
      "cell_type": "code",
      "metadata": {
        "id": "XXn2IGy7Zqh3",
        "colab": {
          "base_uri": "https://localhost:8080/"
        },
        "outputId": "9a1cae2c-b5d9-477d-b95d-97ab23c4cc50"
      },
      "source": [
        "# Importamos librerias\n",
        "!pip install surprise"
      ],
      "execution_count": null,
      "outputs": [
        {
          "output_type": "stream",
          "name": "stdout",
          "text": [
            "Collecting surprise\n",
            "  Downloading surprise-0.1-py2.py3-none-any.whl (1.8 kB)\n",
            "Collecting scikit-surprise\n",
            "  Downloading scikit-surprise-1.1.1.tar.gz (11.8 MB)\n",
            "\u001b[K     |████████████████████████████████| 11.8 MB 4.7 MB/s \n",
            "\u001b[?25hRequirement already satisfied: joblib>=0.11 in /usr/local/lib/python3.7/dist-packages (from scikit-surprise->surprise) (1.1.0)\n",
            "Requirement already satisfied: numpy>=1.11.2 in /usr/local/lib/python3.7/dist-packages (from scikit-surprise->surprise) (1.19.5)\n",
            "Requirement already satisfied: scipy>=1.0.0 in /usr/local/lib/python3.7/dist-packages (from scikit-surprise->surprise) (1.4.1)\n",
            "Requirement already satisfied: six>=1.10.0 in /usr/local/lib/python3.7/dist-packages (from scikit-surprise->surprise) (1.15.0)\n",
            "Building wheels for collected packages: scikit-surprise\n",
            "  Building wheel for scikit-surprise (setup.py) ... \u001b[?25l\u001b[?25hdone\n",
            "  Created wheel for scikit-surprise: filename=scikit_surprise-1.1.1-cp37-cp37m-linux_x86_64.whl size=1619408 sha256=9f9b7c324fa583a29a1fe098c308c9cc4fc6a46a15ac6f3e0fcdbf71454fad0d\n",
            "  Stored in directory: /root/.cache/pip/wheels/76/44/74/b498c42be47b2406bd27994e16c5188e337c657025ab400c1c\n",
            "Successfully built scikit-surprise\n",
            "Installing collected packages: scikit-surprise, surprise\n",
            "Successfully installed scikit-surprise-1.1.1 surprise-0.1\n"
          ]
        }
      ]
    },
    {
      "cell_type": "code",
      "metadata": {
        "id": "V8XY0Vix5OzO"
      },
      "source": [
        "# Importamos modulos\n",
        "from surprise import Dataset\n",
        "from surprise import Reader\n",
        "from surprise.model_selection import train_test_split\n",
        "from surprise import accuracy\n",
        "from surprise.model_selection import KFold\n",
        "from surprise import NormalPredictor\n",
        "from surprise.model_selection import cross_validate\n",
        "from surprise.model_selection import GridSearchCV\n",
        "from surprise import KNNBasic\n",
        "from surprise import KNNWithMeans\n",
        "from surprise import KNNWithZScore\n",
        "from surprise import KNNBaseline"
      ],
      "execution_count": null,
      "outputs": []
    },
    {
      "cell_type": "code",
      "metadata": {
        "id": "wBg6tbK_W-he"
      },
      "source": [
        "# Limitamos la data a 10000 debido a que no se puede procesar tanta informacion ni en colab ni en entorno local de jupyter\n",
        "reader = Reader(rating_scale=(1, 100))\n",
        "data = Dataset.load_from_df(df3[['username', 'product_id', 'metascore']][:10000], reader)\n",
        "trainset, testset = train_test_split(data, test_size=.25)"
      ],
      "execution_count": null,
      "outputs": []
    },
    {
      "cell_type": "markdown",
      "metadata": {
        "id": "FRUBl4P8qKSz"
      },
      "source": [
        "### Modelo KNNBasic()"
      ]
    },
    {
      "cell_type": "code",
      "metadata": {
        "id": "vW56qjGFXV6h",
        "colab": {
          "base_uri": "https://localhost:8080/"
        },
        "outputId": "9debb80d-7d81-41fc-ca39-eaf754efbbb5"
      },
      "source": [
        "# Entrenamos un modelo de KNNBasic(), con sus hiperparametros por defecto\n",
        "kf = KFold(n_splits=3)\n",
        "algo = KNNBasic()\n",
        "best_algo = None\n",
        "best_rmse = 10.0\n",
        "best_pred = None\n",
        "for trainset, testset in kf.split(data):\n",
        "    algo.fit(trainset)\n",
        "    predictions = algo.test(testset)\n",
        "    rmse_knn_basic = accuracy.rmse(predictions, verbose=True)\n",
        "    if rmse_knn_basic < best_rmse:\n",
        "        best_algo = algo\n",
        "        best_pred = predictions\n",
        "        best_rmse= rmse_knn_basic\n",
        "rmse_knn_basic\n",
        "print(best_rmse)"
      ],
      "execution_count": null,
      "outputs": [
        {
          "output_type": "stream",
          "name": "stdout",
          "text": [
            "Computing the msd similarity matrix...\n",
            "Done computing similarity matrix.\n",
            "RMSE: 9.1204\n",
            "Computing the msd similarity matrix...\n",
            "Done computing similarity matrix.\n",
            "RMSE: 9.0489\n",
            "Computing the msd similarity matrix...\n",
            "Done computing similarity matrix.\n",
            "RMSE: 9.3840\n",
            "9.048888554535813\n"
          ]
        }
      ]
    },
    {
      "cell_type": "markdown",
      "metadata": {
        "id": "TLdrshpRqRvp"
      },
      "source": [
        "### Modelo KNNWithMeans()"
      ]
    },
    {
      "cell_type": "code",
      "metadata": {
        "id": "bxI8ZdV-gWjZ",
        "colab": {
          "base_uri": "https://localhost:8080/"
        },
        "outputId": "2f9b0ac3-d2e8-451d-a953-d6429fcba503"
      },
      "source": [
        "# Entrenamos un modelo de KNNWithMeans(), con sus hiperparametros de opcion de similitud coseno y calcula similitudes entre usuarios\n",
        "kf = KFold(n_splits=3)\n",
        "kf = KFold(n_splits=5)\n",
        "sim_options = {'name':'cosine'}\n",
        "algo = KNNWithMeans(sim_options = sim_options)\n",
        "best_algo = None\n",
        "best_rmse = 10.0\n",
        "best_pred = None\n",
        "for trainset, testset in kf.split(data):\n",
        "    algo.fit(trainset)\n",
        "    predictions = algo.test(testset)    \n",
        "    rmse_knn_km = accuracy.rmse(predictions, verbose=True)\n",
        "    if rmse_knn_km < best_rmse:\n",
        "        best_algo = algo\n",
        "        best_rmse= rmse_knn_km\n",
        "        best_pred = predictions\n",
        "rmse_knn_km\n",
        "print(best_rmse)"
      ],
      "execution_count": null,
      "outputs": [
        {
          "output_type": "stream",
          "name": "stdout",
          "text": [
            "Computing the cosine similarity matrix...\n",
            "Done computing similarity matrix.\n",
            "RMSE: 9.0434\n",
            "Computing the cosine similarity matrix...\n",
            "Done computing similarity matrix.\n",
            "RMSE: 9.3768\n",
            "Computing the cosine similarity matrix...\n",
            "Done computing similarity matrix.\n",
            "RMSE: 9.1685\n",
            "Computing the cosine similarity matrix...\n",
            "Done computing similarity matrix.\n",
            "RMSE: 9.1767\n",
            "Computing the cosine similarity matrix...\n",
            "Done computing similarity matrix.\n",
            "RMSE: 9.3551\n",
            "9.04341721631462\n"
          ]
        }
      ]
    },
    {
      "cell_type": "code",
      "metadata": {
        "id": "3MYEJukQgljd",
        "colab": {
          "base_uri": "https://localhost:8080/"
        },
        "outputId": "d23c07cb-6520-412d-ff84-e81082bd6364"
      },
      "source": [
        "# Entrenamos un modelo de KNNWithMeans(), usando el hiperparametro de opcion de similitud de coseno y calcula similitudes entre items\n",
        "sim_options = {'name': 'cosine' ,'user_based':  False}\n",
        "kf = KFold(n_splits=5)\n",
        "algo = KNNWithMeans(k =3 , sim_options = sim_options)\n",
        "best_algo = None\n",
        "best_rmse = 10.0\n",
        "best_pred = None\n",
        "for trainset, testset in kf.split(data):\n",
        "    algo.fit(trainset)\n",
        "    predictions = algo.test(testset)\n",
        "    rmse_knn_kmcos = accuracy.rmse(predictions, verbose=True)\n",
        "    if rmse_knn_kmcos < best_rmse:\n",
        "        best_rmse= rmse_knn_kmcos\n",
        "        best_algo = algo\n",
        "        best_pred = predictions\n",
        "rmse_knn_kmcos\n",
        "print(best_rmse)"
      ],
      "execution_count": null,
      "outputs": [
        {
          "output_type": "stream",
          "name": "stdout",
          "text": [
            "Computing the cosine similarity matrix...\n",
            "Done computing similarity matrix.\n",
            "RMSE: 9.0942\n",
            "Computing the cosine similarity matrix...\n",
            "Done computing similarity matrix.\n",
            "RMSE: 9.2521\n",
            "Computing the cosine similarity matrix...\n",
            "Done computing similarity matrix.\n",
            "RMSE: 8.8378\n",
            "Computing the cosine similarity matrix...\n",
            "Done computing similarity matrix.\n",
            "RMSE: 9.1328\n",
            "Computing the cosine similarity matrix...\n",
            "Done computing similarity matrix.\n",
            "RMSE: 9.1290\n",
            "8.837816091030955\n"
          ]
        }
      ]
    },
    {
      "cell_type": "code",
      "metadata": {
        "colab": {
          "base_uri": "https://localhost:8080/"
        },
        "id": "TeQr4gadhW98",
        "outputId": "b7917694-77ee-48ac-fc17-971fee3aafbd"
      },
      "source": [
        "# Entrenamos un modelo de KNNBaseline(), usando el hiperparametro de opcion de similitud de coseno y calcula similitudes entre USERS\n",
        "kf = KFold(n_splits=5)\n",
        "algo = KNNBaseline(k =3 , sim_options = {'name': 'cosine'})\n",
        "best_algo = None\n",
        "best_rmse = 1000.0\n",
        "best_pred = None\n",
        "for trainset, testset in kf.split(data):\n",
        "    # train and test algorithm.\n",
        "    algo.fit(trainset)\n",
        "    predictions = algo.test(testset)\n",
        "    # Compute and print Root Mean Squared Error\n",
        "    rmse_knn_base = accuracy.rmse(predictions, verbose=True)\n",
        "    if rmse_knn_base < best_rmse:\n",
        "        best_rmse = rmse_knn_base\n",
        "        best_algo = algo\n",
        "        best_pred = predictions\n",
        "        \n",
        "rmse_knn_base   \n",
        "print(best_rmse)"
      ],
      "execution_count": null,
      "outputs": [
        {
          "output_type": "stream",
          "name": "stdout",
          "text": [
            "Estimating biases using als...\n",
            "Computing the cosine similarity matrix...\n",
            "Done computing similarity matrix.\n",
            "RMSE: 2.9291\n",
            "Estimating biases using als...\n",
            "Computing the cosine similarity matrix...\n",
            "Done computing similarity matrix.\n",
            "RMSE: 3.0136\n",
            "Estimating biases using als...\n",
            "Computing the cosine similarity matrix...\n",
            "Done computing similarity matrix.\n",
            "RMSE: 2.8887\n",
            "Estimating biases using als...\n",
            "Computing the cosine similarity matrix...\n",
            "Done computing similarity matrix.\n",
            "RMSE: 2.7414\n",
            "Estimating biases using als...\n",
            "Computing the cosine similarity matrix...\n",
            "Done computing similarity matrix.\n",
            "RMSE: 2.6970\n",
            "2.6969573746536337\n"
          ]
        }
      ]
    },
    {
      "cell_type": "markdown",
      "metadata": {
        "id": "BjZyhZhe5U4a"
      },
      "source": [
        "### Gridsearch KNN"
      ]
    },
    {
      "cell_type": "code",
      "metadata": {
        "id": "Lmhd38_N5U4b",
        "colab": {
          "base_uri": "https://localhost:8080/"
        },
        "outputId": "beec2333-82bb-43be-e847-64495be7fa7c"
      },
      "source": [
        "param_grid = {'n_factors': [5,50,100],'n_epochs': [5,10,20], 'lr_all': [0.002, 0.005],\n",
        "              'reg_all': [0.002, 0.02, 0.2]}\n",
        "gs = GridSearchCV(KNNBaseline, param_grid, measures=['rmse'], cv=3, n_jobs = -1)\n",
        "gs.fit(data)\n",
        "\n",
        "print(gs.best_score['rmse'])\n",
        "print(gs.best_params['rmse'])"
      ],
      "execution_count": null,
      "outputs": [
        {
          "output_type": "stream",
          "name": "stdout",
          "text": [
            "2.964411267705376\n",
            "{'n_factors': 5, 'n_epochs': 5, 'lr_all': 0.002, 'reg_all': 0.002}\n"
          ]
        }
      ]
    },
    {
      "cell_type": "code",
      "metadata": {
        "colab": {
          "base_uri": "https://localhost:8080/"
        },
        "id": "Hrt5bOE8mhah",
        "outputId": "73496385-ffea-4dbe-c570-8fe09e0688ff"
      },
      "source": [
        "param_grid = {'n_factors': [5,50,100],'n_epochs': [5,10,20], 'lr_all': [0.002, 0.005],\n",
        "              'reg_all': [0.002, 0.02, 0.2]}\n",
        "gs = GridSearchCV(KNNBasic, param_grid, measures=['rmse'], cv=3, n_jobs = -1)\n",
        "gs.fit(data)\n",
        "\n",
        "print(gs.best_score['rmse'])\n",
        "print(gs.best_params['rmse'])"
      ],
      "execution_count": null,
      "outputs": [
        {
          "output_type": "stream",
          "name": "stdout",
          "text": [
            "9.173993130626178\n",
            "{'n_factors': 5, 'n_epochs': 5, 'lr_all': 0.002, 'reg_all': 0.002}\n"
          ]
        }
      ]
    },
    {
      "cell_type": "code",
      "metadata": {
        "id": "umc2JwBz5U4b",
        "colab": {
          "base_uri": "https://localhost:8080/"
        },
        "outputId": "77d78b3c-b63c-4c47-ac00-aff0229c17d8"
      },
      "source": [
        "param_grid = {'n_factors': [5,50,100],'n_epochs': [5,10,20], 'lr_all': [0.002, 0.005],\n",
        "              'reg_all': [0.002, 0.02, 0.2]}\n",
        "gs = GridSearchCV(KNNWithMeans, param_grid, measures=['rmse'], cv=3, n_jobs = -1)\n",
        "gs.fit(data)\n",
        "\n",
        "print(gs.best_score['rmse'])\n",
        "print(gs.best_params['rmse'])"
      ],
      "execution_count": null,
      "outputs": [
        {
          "output_type": "stream",
          "name": "stdout",
          "text": [
            "9.228100217569946\n",
            "{'n_factors': 5, 'n_epochs': 5, 'lr_all': 0.002, 'reg_all': 0.002}\n"
          ]
        }
      ]
    },
    {
      "cell_type": "code",
      "metadata": {
        "colab": {
          "base_uri": "https://localhost:8080/"
        },
        "id": "awb19BVK22BO",
        "outputId": "2a905341-649d-49a8-8eb1-d6f95abac1cd"
      },
      "source": [
        "# Usar parámetros del gridsearch para KNNBaseline, ya que KNNWithMeans, obtuvo un rendimiento menor\n",
        "kf = KFold(n_splits=5)\n",
        "algo = KNNBaseline(k =3 , n_factors = 5, n_epochs = 5, lr_all = 0.002, reg_all = 0.002, sim_options = {'name': 'cosine'})\n",
        "best_algo = None\n",
        "best_rmse = 1000.0\n",
        "best_pred = None\n",
        "for trainset, testset in kf.split(data):\n",
        "    # train and test algorithm.\n",
        "    algo.fit(trainset)\n",
        "    predictions = algo.test(testset)\n",
        "    # Compute and print Root Mean Squared Error\n",
        "    rmse_knn_base_gs = accuracy.rmse(predictions, verbose=True)\n",
        "    if rmse_knn_base_gs < best_rmse:\n",
        "        best_rmse = rmse_knn_base_gs\n",
        "        best_algo = algo\n",
        "        best_pred = predictions\n",
        "        \n",
        "rmse_knn_base_gs   \n",
        "print(best_rmse)"
      ],
      "execution_count": null,
      "outputs": [
        {
          "output_type": "stream",
          "name": "stdout",
          "text": [
            "Estimating biases using als...\n",
            "Computing the cosine similarity matrix...\n",
            "Done computing similarity matrix.\n",
            "RMSE: 2.8206\n",
            "Estimating biases using als...\n",
            "Computing the cosine similarity matrix...\n",
            "Done computing similarity matrix.\n",
            "RMSE: 2.6344\n",
            "Estimating biases using als...\n",
            "Computing the cosine similarity matrix...\n",
            "Done computing similarity matrix.\n",
            "RMSE: 3.0210\n",
            "Estimating biases using als...\n",
            "Computing the cosine similarity matrix...\n",
            "Done computing similarity matrix.\n",
            "RMSE: 2.8096\n",
            "Estimating biases using als...\n",
            "Computing the cosine similarity matrix...\n",
            "Done computing similarity matrix.\n",
            "RMSE: 3.0812\n",
            "2.6343868087053215\n"
          ]
        }
      ]
    },
    {
      "cell_type": "markdown",
      "metadata": {
        "id": "wGJK91_n7Nb4"
      },
      "source": [
        "obtuvimos un excelente rmse."
      ]
    },
    {
      "cell_type": "markdown",
      "metadata": {
        "id": "FUyMQLnL5U4Y"
      },
      "source": [
        "## Crearemos un anti_set.\n",
        "que consiste de los pares de usuarios y juegos que no existen en el dataset original. Este es el set en el cual desemos predecir los metascores."
      ]
    },
    {
      "cell_type": "code",
      "metadata": {
        "id": "fjfB6HQS5U4Y"
      },
      "source": [
        "# Limitamos la data a 10000 debido a que no se puede procesar tanta informacion ni en colab ni en entorno local de jupyter\n",
        "reader = Reader(rating_scale=(1, 100))\n",
        "data_final = Dataset.load_from_df(df3[['username', 'product_id', 'metascore']][:10000], reader)\n",
        "anti_set = data.build_full_trainset().build_anti_testset()"
      ],
      "execution_count": null,
      "outputs": []
    },
    {
      "cell_type": "markdown",
      "metadata": {
        "id": "In3hPhMA5U4Y"
      },
      "source": [
        "Lo normal para el antiset es que genere para cada usuario o juego faltante, un metascore promedio correspondiente"
      ]
    },
    {
      "cell_type": "code",
      "metadata": {
        "id": "mJ9tb25w5U4Z"
      },
      "source": [
        "games = df3[['product_id' , 'title']].drop_duplicates(['product_id' , 'title'])\n",
        "users = df3[['username']].drop_duplicates(['username'])"
      ],
      "execution_count": null,
      "outputs": []
    },
    {
      "cell_type": "markdown",
      "metadata": {
        "id": "UVrbYblh5U4c"
      },
      "source": [
        "### Predicciones para datos que se encuentran en el training set"
      ]
    },
    {
      "cell_type": "code",
      "metadata": {
        "scrolled": true,
        "id": "Zd1-B_go5U4d",
        "colab": {
          "base_uri": "https://localhost:8080/",
          "height": 423
        },
        "outputId": "bec9ff04-b7f7-4503-99f6-5ed4a671a638"
      },
      "source": [
        "pred_df = pd.DataFrame(best_pred).merge(df3 , left_on = ['uid', 'iid'], right_on = ['username', 'product_id'])\n",
        "pred_df[['uid', 'iid',  'username', 'title', 'product_id', 'est','metascore']]"
      ],
      "execution_count": null,
      "outputs": [
        {
          "output_type": "execute_result",
          "data": {
            "text/html": [
              "<div>\n",
              "<style scoped>\n",
              "    .dataframe tbody tr th:only-of-type {\n",
              "        vertical-align: middle;\n",
              "    }\n",
              "\n",
              "    .dataframe tbody tr th {\n",
              "        vertical-align: top;\n",
              "    }\n",
              "\n",
              "    .dataframe thead th {\n",
              "        text-align: right;\n",
              "    }\n",
              "</style>\n",
              "<table border=\"1\" class=\"dataframe\">\n",
              "  <thead>\n",
              "    <tr style=\"text-align: right;\">\n",
              "      <th></th>\n",
              "      <th>uid</th>\n",
              "      <th>iid</th>\n",
              "      <th>username</th>\n",
              "      <th>title</th>\n",
              "      <th>product_id</th>\n",
              "      <th>est</th>\n",
              "      <th>metascore</th>\n",
              "    </tr>\n",
              "  </thead>\n",
              "  <tbody>\n",
              "    <tr>\n",
              "      <th>0</th>\n",
              "      <td>duckman</td>\n",
              "      <td>54</td>\n",
              "      <td>duckman</td>\n",
              "      <td>Far Cry 3 - Blood Dragon</td>\n",
              "      <td>54</td>\n",
              "      <td>79.788771</td>\n",
              "      <td>81</td>\n",
              "    </tr>\n",
              "    <tr>\n",
              "      <th>1</th>\n",
              "      <td>toppy</td>\n",
              "      <td>104</td>\n",
              "      <td>toppy</td>\n",
              "      <td>Deus Ex: Mankind Divided</td>\n",
              "      <td>104</td>\n",
              "      <td>83.061746</td>\n",
              "      <td>83</td>\n",
              "    </tr>\n",
              "    <tr>\n",
              "      <th>2</th>\n",
              "      <td>Zakis</td>\n",
              "      <td>104</td>\n",
              "      <td>Zakis</td>\n",
              "      <td>Deus Ex: Mankind Divided</td>\n",
              "      <td>104</td>\n",
              "      <td>83.061746</td>\n",
              "      <td>83</td>\n",
              "    </tr>\n",
              "    <tr>\n",
              "      <th>3</th>\n",
              "      <td>Luparim</td>\n",
              "      <td>104</td>\n",
              "      <td>Luparim</td>\n",
              "      <td>Deus Ex: Mankind Divided</td>\n",
              "      <td>104</td>\n",
              "      <td>83.061746</td>\n",
              "      <td>83</td>\n",
              "    </tr>\n",
              "    <tr>\n",
              "      <th>4</th>\n",
              "      <td>Professor Octagon</td>\n",
              "      <td>-26</td>\n",
              "      <td>Professor Octagon</td>\n",
              "      <td>Grand Theft Auto V</td>\n",
              "      <td>-26</td>\n",
              "      <td>95.973439</td>\n",
              "      <td>96</td>\n",
              "    </tr>\n",
              "    <tr>\n",
              "      <th>...</th>\n",
              "      <td>...</td>\n",
              "      <td>...</td>\n",
              "      <td>...</td>\n",
              "      <td>...</td>\n",
              "      <td>...</td>\n",
              "      <td>...</td>\n",
              "      <td>...</td>\n",
              "    </tr>\n",
              "    <tr>\n",
              "      <th>2104</th>\n",
              "      <td>RogueTrip</td>\n",
              "      <td>22</td>\n",
              "      <td>RogueTrip</td>\n",
              "      <td>Need for Speed Undercover</td>\n",
              "      <td>22</td>\n",
              "      <td>67.679313</td>\n",
              "      <td>65</td>\n",
              "    </tr>\n",
              "    <tr>\n",
              "      <th>2105</th>\n",
              "      <td>Fleshmeister</td>\n",
              "      <td>72</td>\n",
              "      <td>Fleshmeister</td>\n",
              "      <td>LawBreakers</td>\n",
              "      <td>72</td>\n",
              "      <td>74.211451</td>\n",
              "      <td>76</td>\n",
              "    </tr>\n",
              "    <tr>\n",
              "      <th>2106</th>\n",
              "      <td>LarryPinhead</td>\n",
              "      <td>54</td>\n",
              "      <td>LarryPinhead</td>\n",
              "      <td>Far Cry 3 - Blood Dragon</td>\n",
              "      <td>54</td>\n",
              "      <td>79.788771</td>\n",
              "      <td>81</td>\n",
              "    </tr>\n",
              "    <tr>\n",
              "      <th>2107</th>\n",
              "      <td>Nico Robin (Inf)</td>\n",
              "      <td>-26</td>\n",
              "      <td>Nico Robin (Inf)</td>\n",
              "      <td>Grand Theft Auto V</td>\n",
              "      <td>-26</td>\n",
              "      <td>95.973439</td>\n",
              "      <td>96</td>\n",
              "    </tr>\n",
              "    <tr>\n",
              "      <th>2108</th>\n",
              "      <td>Gallows</td>\n",
              "      <td>54</td>\n",
              "      <td>Gallows</td>\n",
              "      <td>Far Cry 3 - Blood Dragon</td>\n",
              "      <td>54</td>\n",
              "      <td>79.788771</td>\n",
              "      <td>81</td>\n",
              "    </tr>\n",
              "  </tbody>\n",
              "</table>\n",
              "<p>2109 rows × 7 columns</p>\n",
              "</div>"
            ],
            "text/plain": [
              "                    uid  iid  ...        est metascore\n",
              "0               duckman   54  ...  79.788771        81\n",
              "1                 toppy  104  ...  83.061746        83\n",
              "2                 Zakis  104  ...  83.061746        83\n",
              "3               Luparim  104  ...  83.061746        83\n",
              "4     Professor Octagon  -26  ...  95.973439        96\n",
              "...                 ...  ...  ...        ...       ...\n",
              "2104          RogueTrip   22  ...  67.679313        65\n",
              "2105       Fleshmeister   72  ...  74.211451        76\n",
              "2106       LarryPinhead   54  ...  79.788771        81\n",
              "2107   Nico Robin (Inf)  -26  ...  95.973439        96\n",
              "2108            Gallows   54  ...  79.788771        81\n",
              "\n",
              "[2109 rows x 7 columns]"
            ]
          },
          "metadata": {},
          "execution_count": 22
        }
      ]
    },
    {
      "cell_type": "markdown",
      "metadata": {
        "id": "lW4xmbWX5U4d"
      },
      "source": [
        "### Predicciones para datos que no se encuentran en el training set"
      ]
    },
    {
      "cell_type": "code",
      "metadata": {
        "id": "WV_Jrj6R5U4d"
      },
      "source": [
        "anti_pre = best_algo.test(anti_set)\n",
        "pred_df = pd.DataFrame(anti_pre).merge(games , left_on = ['iid'], right_on = ['product_id'])\n",
        "pred_df = pd.DataFrame(pred_df).merge(users , left_on = ['uid'], right_on = ['username'])"
      ],
      "execution_count": null,
      "outputs": []
    },
    {
      "cell_type": "code",
      "metadata": {
        "scrolled": true,
        "id": "6t3dsxL45U4e",
        "colab": {
          "base_uri": "https://localhost:8080/",
          "height": 206
        },
        "outputId": "f5ca3f20-2863-4bd0-a02e-5f086f659e5b"
      },
      "source": [
        "pred_df[(pred_df['est']>70.0)&(pred_df['username']=='anotherphysicsgradstudent')].head()"
      ],
      "execution_count": null,
      "outputs": [
        {
          "output_type": "execute_result",
          "data": {
            "text/html": [
              "<div>\n",
              "<style scoped>\n",
              "    .dataframe tbody tr th:only-of-type {\n",
              "        vertical-align: middle;\n",
              "    }\n",
              "\n",
              "    .dataframe tbody tr th {\n",
              "        vertical-align: top;\n",
              "    }\n",
              "\n",
              "    .dataframe thead th {\n",
              "        text-align: right;\n",
              "    }\n",
              "</style>\n",
              "<table border=\"1\" class=\"dataframe\">\n",
              "  <thead>\n",
              "    <tr style=\"text-align: right;\">\n",
              "      <th></th>\n",
              "      <th>uid</th>\n",
              "      <th>iid</th>\n",
              "      <th>r_ui</th>\n",
              "      <th>est</th>\n",
              "      <th>details</th>\n",
              "      <th>product_id</th>\n",
              "      <th>title</th>\n",
              "      <th>username</th>\n",
              "    </tr>\n",
              "  </thead>\n",
              "  <tbody>\n",
              "    <tr>\n",
              "      <th>2445</th>\n",
              "      <td>anotherphysicsgradstudent</td>\n",
              "      <td>72</td>\n",
              "      <td>87.8244</td>\n",
              "      <td>74.475672</td>\n",
              "      <td>{'actual_k': 0, 'was_impossible': False}</td>\n",
              "      <td>72</td>\n",
              "      <td>Back to Bed</td>\n",
              "      <td>anotherphysicsgradstudent</td>\n",
              "    </tr>\n",
              "    <tr>\n",
              "      <th>2446</th>\n",
              "      <td>anotherphysicsgradstudent</td>\n",
              "      <td>72</td>\n",
              "      <td>87.8244</td>\n",
              "      <td>74.475672</td>\n",
              "      <td>{'actual_k': 0, 'was_impossible': False}</td>\n",
              "      <td>72</td>\n",
              "      <td>LawBreakers</td>\n",
              "      <td>anotherphysicsgradstudent</td>\n",
              "    </tr>\n",
              "    <tr>\n",
              "      <th>2447</th>\n",
              "      <td>anotherphysicsgradstudent</td>\n",
              "      <td>72</td>\n",
              "      <td>87.8244</td>\n",
              "      <td>74.475672</td>\n",
              "      <td>{'actual_k': 0, 'was_impossible': False}</td>\n",
              "      <td>72</td>\n",
              "      <td>DOOM</td>\n",
              "      <td>anotherphysicsgradstudent</td>\n",
              "    </tr>\n",
              "    <tr>\n",
              "      <th>2448</th>\n",
              "      <td>anotherphysicsgradstudent</td>\n",
              "      <td>72</td>\n",
              "      <td>87.8244</td>\n",
              "      <td>74.475672</td>\n",
              "      <td>{'actual_k': 0, 'was_impossible': False}</td>\n",
              "      <td>72</td>\n",
              "      <td>Command &amp;amp; Conquer: Red Alert 3</td>\n",
              "      <td>anotherphysicsgradstudent</td>\n",
              "    </tr>\n",
              "    <tr>\n",
              "      <th>2449</th>\n",
              "      <td>anotherphysicsgradstudent</td>\n",
              "      <td>72</td>\n",
              "      <td>87.8244</td>\n",
              "      <td>74.475672</td>\n",
              "      <td>{'actual_k': 0, 'was_impossible': False}</td>\n",
              "      <td>72</td>\n",
              "      <td>F1 2011</td>\n",
              "      <td>anotherphysicsgradstudent</td>\n",
              "    </tr>\n",
              "  </tbody>\n",
              "</table>\n",
              "</div>"
            ],
            "text/plain": [
              "                            uid  ...                   username\n",
              "2445  anotherphysicsgradstudent  ...  anotherphysicsgradstudent\n",
              "2446  anotherphysicsgradstudent  ...  anotherphysicsgradstudent\n",
              "2447  anotherphysicsgradstudent  ...  anotherphysicsgradstudent\n",
              "2448  anotherphysicsgradstudent  ...  anotherphysicsgradstudent\n",
              "2449  anotherphysicsgradstudent  ...  anotherphysicsgradstudent\n",
              "\n",
              "[5 rows x 8 columns]"
            ]
          },
          "metadata": {},
          "execution_count": 24
        }
      ]
    },
    {
      "cell_type": "code",
      "metadata": {
        "id": "Hf0PwC_15U4f",
        "colab": {
          "base_uri": "https://localhost:8080/"
        },
        "outputId": "4b57ed38-0ab2-40ff-c261-9dffc50dfd8b"
      },
      "source": [
        "pred_df['username'].value_counts()"
      ],
      "execution_count": null,
      "outputs": [
        {
          "output_type": "execute_result",
          "data": {
            "text/plain": [
              "pharmgrinder      836\n",
              "kalirion          836\n",
              "[F!] Aldershot    836\n",
              "要你命3000           836\n",
              "Inle              836\n",
              "                 ... \n",
              "Mr. Matt          785\n",
              "Max               784\n",
              "Big Boss          776\n",
              "Chris             775\n",
              "Tim               768\n",
              "Name: username, Length: 9685, dtype: int64"
            ]
          },
          "metadata": {},
          "execution_count": 25
        }
      ]
    },
    {
      "cell_type": "code",
      "metadata": {
        "id": "LD8lWxYA5U4h",
        "colab": {
          "base_uri": "https://localhost:8080/"
        },
        "outputId": "a5be43e9-fc37-483b-bd94-ff4437d40ae5"
      },
      "source": [
        "pred_df['username'].value_counts().unique()"
      ],
      "execution_count": null,
      "outputs": [
        {
          "output_type": "execute_result",
          "data": {
            "text/plain": [
              "array([836, 835, 834, 833, 831, 830, 829, 828, 827, 826, 825, 824, 823,\n",
              "       822, 821, 819, 818, 817, 815, 814, 813, 812, 811, 810, 809, 808,\n",
              "       807, 806, 805, 804, 803, 802, 801, 800, 799, 798, 797, 796, 795,\n",
              "       793, 792, 790, 788, 787, 785, 784, 776, 775, 768])"
            ]
          },
          "metadata": {},
          "execution_count": 26
        }
      ]
    },
    {
      "cell_type": "markdown",
      "metadata": {
        "id": "XpfI4bTR5U4j"
      },
      "source": [
        "### Comparando resultados de SVD con KNN, de forma gráfica"
      ]
    },
    {
      "cell_type": "code",
      "metadata": {
        "id": "QKZvQpyy5U4k",
        "colab": {
          "base_uri": "https://localhost:8080/",
          "height": 380
        },
        "outputId": "12d29a9d-d233-4c69-8dbd-7d7076c39336"
      },
      "source": [
        "errores = {\n",
        "    'Modelos': ['SVD_default', 'SVD_gridsearch', 'KNN_basic', 'KNN_kmeans', 'KNN_kmeanscos', 'KNN_baseline','KNN_baselinegridsearch'],\n",
        "    \n",
        "    'RMSE': [rmse_svd_d, rmse_svd_gs, rmse_knn_basic, rmse_knn_km, rmse_knn_kmcos ,rmse_knn_base, rmse_knn_base_gs]}\n",
        "\n",
        "tabla_errores = pd.DataFrame(errores, columns = ['Modelos', 'RMSE'])\n",
        "\n",
        "sns.barplot(x = 'Modelos', y = 'RMSE', data = tabla_errores)\n",
        "plt.grid('y')\n",
        "plt.xticks(rotation = 45)"
      ],
      "execution_count": null,
      "outputs": [
        {
          "output_type": "execute_result",
          "data": {
            "text/plain": [
              "(array([0, 1, 2, 3, 4, 5, 6]), <a list of 7 Text major ticklabel objects>)"
            ]
          },
          "metadata": {},
          "execution_count": 58
        },
        {
          "output_type": "display_data",
          "data": {
            "image/png": "[encoded data removed]",
            "text/plain": [
              "<Figure size 432x288 with 1 Axes>"
            ]
          },
          "metadata": {
            "needs_background": "light"
          }
        }
      ]
    },
    {
      "cell_type": "markdown",
      "metadata": {
        "id": "zfhmbzWkCcVp"
      },
      "source": [
        "## Conclusion:\n",
        "Concluimos que el modelo mas performante y que cumple con filtro colaborativo fue:\n",
        "KNNBaseline: KNNBaseline(k =3 , n_factors = 5, n_epochs = 5, lr_all = 0.002, reg_all = 0.002, sim_options = {'name': 'cosine'}) ya que obtuvo un rmse de 2.63)"
      ]
    },
    {
      "cell_type": "markdown",
      "metadata": {
        "id": "HEHn1wGNDqIp"
      },
      "source": [
        "# Parte C - Investigación\n",
        "## Plantea nuevas preguntas en base al trabajo que hiciste y en las que se pueda ahondar\n",
        "- Confeccionar un sistema para un usuario que recién ingresa a la plataforma y no conocemos sus preferencias, usuario cold start.\n",
        "\n",
        "## Plantea un flujo de trabajo que responda alguna o algunas de esas preguntas\n",
        "- Probar un modelo con usuarios nuevos y ver su comportamiento, es decir un usuario que esté en test y no en train, la predicciones tendrían que ser malas. Podríamos probar recomendarles a los usuarios nuevos los juegos más populares y de acuerdo a si eligen uno de los recomendados, se lo puede considerar que lo han calificado positivo, y utilizar esa información para retroalimentar al modelo y volverle a recomendar nuevos juegos\n",
        "\n",
        "## Requerimientos Adicionales\n",
        "- Implementa el flujo de trabajo planteado\n",
        "Tabla de contenidos"
      ]
    },
    {
      "cell_type": "markdown",
      "metadata": {
        "id": "aZrhiGimGOhW"
      },
      "source": [
        "## Cold Start:\n",
        "Sistema de recomendación Basado en Popularidad para los usuarios nuevos a la plataforma.\n",
        "\n",
        "Para los nuevos usuarios de la plataforma de Steam, no conocemos sus preferencias, deberemos ofrecerles los juegos más populares, con mas horas jugadas según los usuarios previos. \n"
      ]
    },
    {
      "cell_type": "code",
      "metadata": {
        "id": "jzTeFtEZxHfP"
      },
      "source": [
        "# Total de número de horas y total de número de usuarios por juego\n",
        "user_count = df3.groupby('app_name')['username'].agg('count').sort_values(ascending=False) \n",
        "\n",
        "hours_played = df3.groupby('app_name')['hours'].agg(np.sum).sort_values(ascending=False) "
      ],
      "execution_count": null,
      "outputs": []
    },
    {
      "cell_type": "code",
      "metadata": {
        "id": "zUILPAfcxHfQ"
      },
      "source": [
        "# Creamos el dataframe con los más jugados con el total de horas y total de usuarios por juego    \n",
        "nb_games=10\n",
        "df_top_hours_played = pd.DataFrame({'top_game': hours_played.index,\n",
        "                                    'hours_played': hours_played.values,\n",
        "                                    'user_count': user_count.values})[0:nb_games]"
      ],
      "execution_count": null,
      "outputs": []
    },
    {
      "cell_type": "code",
      "metadata": {
        "colab": {
          "base_uri": "https://localhost:8080/",
          "height": 363
        },
        "id": "BIGtH0K_xHfQ",
        "outputId": "d8082f7c-2f54-444b-a954-3c4429bd79e6"
      },
      "source": [
        "df_top_hours_played"
      ],
      "execution_count": null,
      "outputs": [
        {
          "output_type": "execute_result",
          "data": {
            "text/html": [
              "<div>\n",
              "<style scoped>\n",
              "    .dataframe tbody tr th:only-of-type {\n",
              "        vertical-align: middle;\n",
              "    }\n",
              "\n",
              "    .dataframe tbody tr th {\n",
              "        vertical-align: top;\n",
              "    }\n",
              "\n",
              "    .dataframe thead th {\n",
              "        text-align: right;\n",
              "    }\n",
              "</style>\n",
              "<table border=\"1\" class=\"dataframe\">\n",
              "  <thead>\n",
              "    <tr style=\"text-align: right;\">\n",
              "      <th></th>\n",
              "      <th>top_game</th>\n",
              "      <th>hours_played</th>\n",
              "      <th>user_count</th>\n",
              "    </tr>\n",
              "  </thead>\n",
              "  <tbody>\n",
              "    <tr>\n",
              "      <th>0</th>\n",
              "      <td>Team Fortress 2</td>\n",
              "      <td>573647</td>\n",
              "      <td>11605</td>\n",
              "    </tr>\n",
              "    <tr>\n",
              "      <th>1</th>\n",
              "      <td>Borderlands 2</td>\n",
              "      <td>283037</td>\n",
              "      <td>5574</td>\n",
              "    </tr>\n",
              "    <tr>\n",
              "      <th>2</th>\n",
              "      <td>Fallout 4</td>\n",
              "      <td>266503</td>\n",
              "      <td>5345</td>\n",
              "    </tr>\n",
              "    <tr>\n",
              "      <th>3</th>\n",
              "      <td>Grand Theft Auto V</td>\n",
              "      <td>225612</td>\n",
              "      <td>5306</td>\n",
              "    </tr>\n",
              "    <tr>\n",
              "      <th>4</th>\n",
              "      <td>Starbound</td>\n",
              "      <td>178022</td>\n",
              "      <td>4707</td>\n",
              "    </tr>\n",
              "    <tr>\n",
              "      <th>5</th>\n",
              "      <td>Warframe</td>\n",
              "      <td>170398</td>\n",
              "      <td>4026</td>\n",
              "    </tr>\n",
              "    <tr>\n",
              "      <th>6</th>\n",
              "      <td>Undertale</td>\n",
              "      <td>148344</td>\n",
              "      <td>3534</td>\n",
              "    </tr>\n",
              "    <tr>\n",
              "      <th>7</th>\n",
              "      <td>Portal 2</td>\n",
              "      <td>144052</td>\n",
              "      <td>3242</td>\n",
              "    </tr>\n",
              "    <tr>\n",
              "      <th>8</th>\n",
              "      <td>Sid Meier's Civilization® V</td>\n",
              "      <td>141004</td>\n",
              "      <td>2856</td>\n",
              "    </tr>\n",
              "    <tr>\n",
              "      <th>9</th>\n",
              "      <td>Mount &amp; Blade: Warband</td>\n",
              "      <td>133806</td>\n",
              "      <td>2829</td>\n",
              "    </tr>\n",
              "  </tbody>\n",
              "</table>\n",
              "</div>"
            ],
            "text/plain": [
              "                      top_game  hours_played  user_count\n",
              "0              Team Fortress 2        573647       11605\n",
              "1                Borderlands 2        283037        5574\n",
              "2                    Fallout 4        266503        5345\n",
              "3           Grand Theft Auto V        225612        5306\n",
              "4                    Starbound        178022        4707\n",
              "5                     Warframe        170398        4026\n",
              "6                    Undertale        148344        3534\n",
              "7                     Portal 2        144052        3242\n",
              "8  Sid Meier's Civilization® V        141004        2856\n",
              "9       Mount & Blade: Warband        133806        2829"
            ]
          },
          "metadata": {},
          "execution_count": 62
        }
      ]
    },
    {
      "cell_type": "code",
      "metadata": {
        "colab": {
          "base_uri": "https://localhost:8080/",
          "height": 690
        },
        "id": "Ed5SsPB3IXFR",
        "outputId": "97110229-a1ce-44fe-e058-d5b05f5660bd"
      },
      "source": [
        "## creamos la figura con subplots de 1 linea 2 columnas\n",
        "fig, axes = plt.subplots(1,1, figsize=(20, 8))\n",
        "fig.suptitle('Top 10 Juegos más populares', fontsize=18)\n",
        "fig.tight_layout(pad=1.0)\n",
        "sns.barplot(x=\"top_game\", y=\"hours_played\", ax=axes,orient=\"v\", data=df_top_hours_played)\n",
        "plt.sca(axes)\n",
        "plt.xticks(rotation=45)\n",
        "plt.grid()\n",
        "\n",
        "for rect in axes.patches:\n",
        "    axes.text (rect.get_x() + rect.get_width()  / 2,rect.get_height()+ 0.75,rect.get_height(),horizontalalignment='center', fontsize = 11)"
      ],
      "execution_count": null,
      "outputs": [
        {
          "output_type": "display_data",
          "data": {
            "image/png": "[encoded data removed]",
            "text/plain": [
              "<Figure size 1440x576 with 1 Axes>"
            ]
          },
          "metadata": {
            "needs_background": "light"
          }
        }
      ]
    },
    {
      "cell_type": "markdown",
      "metadata": {
        "id": "scZeBIQOIvTc"
      },
      "source": [
        "# Conclusiones\n",
        "Pudimos confeccionar un sistema de recomendacion y mostrarles a los ususarios las recomendaciones producidas con sistema de  filtrado colaborativo con knnbasic, ya que fue el que mejor performance obtuvimos. Para un usuario que recien ingresa al sistema mostrandoles los juegos mas populares y una vez que elija ingresa al sistema. \n",
        "Si bien no fue posible procesar todo el conjunto por el consumo de memoria ram al intentar procesar los datos  de datos ya que lo limitamos a 10.000, a fin de poder procesar todo, aun asi considero que se pudo producir un buen sistema de recomendacion al que deberia luego ser procesado con toda la matriz. "
      ]
    }
  ]
}